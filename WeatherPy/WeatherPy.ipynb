{
 "cells": [
  {
   "cell_type": "markdown",
   "metadata": {
    "colab_type": "text",
    "id": "_hHKMjToz40C"
   },
   "source": [
    "## **Setup**"
   ]
  },
  {
   "cell_type": "code",
   "execution_count": 1,
   "metadata": {
    "colab": {
     "base_uri": "https://localhost:8080/",
     "height": 221
    },
    "colab_type": "code",
    "id": "yGZ_0dO7vlIN",
    "outputId": "8f4f6877-3777-4882-8d9b-a119127fed06"
   },
   "outputs": [
    {
     "name": "stdout",
     "output_type": "stream",
     "text": [
      "Requirement already satisfied: citipy in c:\\users\\t\\anaconda3\\lib\\site-packages (0.0.5)\n",
      "Requirement already satisfied: kdtree>=0.12 in c:\\users\\t\\anaconda3\\lib\\site-packages (from citipy) (0.16)\n"
     ]
    }
   ],
   "source": [
    "!pip install citipy"
   ]
  },
  {
   "cell_type": "code",
   "execution_count": 18,
   "metadata": {
    "colab": {},
    "colab_type": "code",
    "id": "bvMgEuZ_uz92"
   },
   "outputs": [
    {
     "ename": "ImportError",
     "evalue": "DLL load failed: The specified procedure could not be found.",
     "output_type": "error",
     "traceback": [
      "\u001b[1;31m---------------------------------------------------------------------------\u001b[0m",
      "\u001b[1;31mImportError\u001b[0m                               Traceback (most recent call last)",
      "\u001b[1;32m<ipython-input-18-0c678531d57a>\u001b[0m in \u001b[0;36m<module>\u001b[1;34m\u001b[0m\n\u001b[0;32m      6\u001b[0m \u001b[1;32mimport\u001b[0m \u001b[0mrequests\u001b[0m\u001b[1;33m\u001b[0m\u001b[1;33m\u001b[0m\u001b[0m\n\u001b[0;32m      7\u001b[0m \u001b[1;32mimport\u001b[0m \u001b[0mtime\u001b[0m\u001b[1;33m\u001b[0m\u001b[1;33m\u001b[0m\u001b[0m\n\u001b[1;32m----> 8\u001b[1;33m \u001b[1;32mfrom\u001b[0m \u001b[0mscipy\u001b[0m\u001b[1;33m.\u001b[0m\u001b[0mstats\u001b[0m \u001b[1;32mimport\u001b[0m \u001b[0mlinregress\u001b[0m\u001b[1;33m\u001b[0m\u001b[1;33m\u001b[0m\u001b[0m\n\u001b[0m\u001b[0;32m      9\u001b[0m \u001b[1;33m\u001b[0m\u001b[0m\n\u001b[0;32m     10\u001b[0m \u001b[1;33m\u001b[0m\u001b[0m\n",
      "\u001b[1;32m~\\anaconda3\\lib\\site-packages\\scipy\\stats\\__init__.py\u001b[0m in \u001b[0;36m<module>\u001b[1;34m\u001b[0m\n\u001b[0;32m    382\u001b[0m \u001b[1;32mfrom\u001b[0m \u001b[0m__future__\u001b[0m \u001b[1;32mimport\u001b[0m \u001b[0mdivision\u001b[0m\u001b[1;33m,\u001b[0m \u001b[0mprint_function\u001b[0m\u001b[1;33m,\u001b[0m \u001b[0mabsolute_import\u001b[0m\u001b[1;33m\u001b[0m\u001b[1;33m\u001b[0m\u001b[0m\n\u001b[0;32m    383\u001b[0m \u001b[1;33m\u001b[0m\u001b[0m\n\u001b[1;32m--> 384\u001b[1;33m \u001b[1;32mfrom\u001b[0m \u001b[1;33m.\u001b[0m\u001b[0mstats\u001b[0m \u001b[1;32mimport\u001b[0m \u001b[1;33m*\u001b[0m\u001b[1;33m\u001b[0m\u001b[1;33m\u001b[0m\u001b[0m\n\u001b[0m\u001b[0;32m    385\u001b[0m \u001b[1;32mfrom\u001b[0m \u001b[1;33m.\u001b[0m\u001b[0mdistributions\u001b[0m \u001b[1;32mimport\u001b[0m \u001b[1;33m*\u001b[0m\u001b[1;33m\u001b[0m\u001b[1;33m\u001b[0m\u001b[0m\n\u001b[0;32m    386\u001b[0m \u001b[1;32mfrom\u001b[0m \u001b[1;33m.\u001b[0m\u001b[0mmorestats\u001b[0m \u001b[1;32mimport\u001b[0m \u001b[1;33m*\u001b[0m\u001b[1;33m\u001b[0m\u001b[1;33m\u001b[0m\u001b[0m\n",
      "\u001b[1;32m~\\anaconda3\\lib\\site-packages\\scipy\\stats\\stats.py\u001b[0m in \u001b[0;36m<module>\u001b[1;34m\u001b[0m\n\u001b[0;32m    183\u001b[0m \u001b[1;32mimport\u001b[0m \u001b[0mscipy\u001b[0m\u001b[1;33m.\u001b[0m\u001b[0mspecial\u001b[0m \u001b[1;32mas\u001b[0m \u001b[0mspecial\u001b[0m\u001b[1;33m\u001b[0m\u001b[1;33m\u001b[0m\u001b[0m\n\u001b[0;32m    184\u001b[0m \u001b[1;32mfrom\u001b[0m \u001b[0mscipy\u001b[0m \u001b[1;32mimport\u001b[0m \u001b[0mlinalg\u001b[0m\u001b[1;33m\u001b[0m\u001b[1;33m\u001b[0m\u001b[0m\n\u001b[1;32m--> 185\u001b[1;33m \u001b[1;32mfrom\u001b[0m \u001b[1;33m.\u001b[0m \u001b[1;32mimport\u001b[0m \u001b[0mdistributions\u001b[0m\u001b[1;33m\u001b[0m\u001b[1;33m\u001b[0m\u001b[0m\n\u001b[0m\u001b[0;32m    186\u001b[0m \u001b[1;32mfrom\u001b[0m \u001b[1;33m.\u001b[0m \u001b[1;32mimport\u001b[0m \u001b[0mmstats_basic\u001b[0m\u001b[1;33m\u001b[0m\u001b[1;33m\u001b[0m\u001b[0m\n\u001b[0;32m    187\u001b[0m from ._stats_mstats_common import (_find_repeats, linregress, theilslopes,\n",
      "\u001b[1;32m~\\anaconda3\\lib\\site-packages\\scipy\\stats\\distributions.py\u001b[0m in \u001b[0;36m<module>\u001b[1;34m\u001b[0m\n\u001b[0;32m      8\u001b[0m \u001b[1;32mfrom\u001b[0m \u001b[0m__future__\u001b[0m \u001b[1;32mimport\u001b[0m \u001b[0mdivision\u001b[0m\u001b[1;33m,\u001b[0m \u001b[0mprint_function\u001b[0m\u001b[1;33m,\u001b[0m \u001b[0mabsolute_import\u001b[0m\u001b[1;33m\u001b[0m\u001b[1;33m\u001b[0m\u001b[0m\n\u001b[0;32m      9\u001b[0m \u001b[1;33m\u001b[0m\u001b[0m\n\u001b[1;32m---> 10\u001b[1;33m from ._distn_infrastructure import (entropy, rv_discrete, rv_continuous,\n\u001b[0m\u001b[0;32m     11\u001b[0m                                     rv_frozen)\n\u001b[0;32m     12\u001b[0m \u001b[1;33m\u001b[0m\u001b[0m\n",
      "\u001b[1;32m~\\anaconda3\\lib\\site-packages\\scipy\\stats\\_distn_infrastructure.py\u001b[0m in \u001b[0;36m<module>\u001b[1;34m\u001b[0m\n\u001b[0;32m     23\u001b[0m \u001b[1;33m\u001b[0m\u001b[0m\n\u001b[0;32m     24\u001b[0m \u001b[1;31m# for root finding for discrete distribution ppf, and max likelihood estimation\u001b[0m\u001b[1;33m\u001b[0m\u001b[1;33m\u001b[0m\u001b[1;33m\u001b[0m\u001b[0m\n\u001b[1;32m---> 25\u001b[1;33m \u001b[1;32mfrom\u001b[0m \u001b[0mscipy\u001b[0m \u001b[1;32mimport\u001b[0m \u001b[0moptimize\u001b[0m\u001b[1;33m\u001b[0m\u001b[1;33m\u001b[0m\u001b[0m\n\u001b[0m\u001b[0;32m     26\u001b[0m \u001b[1;33m\u001b[0m\u001b[0m\n\u001b[0;32m     27\u001b[0m \u001b[1;31m# for functions of continuous distributions (e.g. moments, entropy, cdf)\u001b[0m\u001b[1;33m\u001b[0m\u001b[1;33m\u001b[0m\u001b[1;33m\u001b[0m\u001b[0m\n",
      "\u001b[1;32m~\\anaconda3\\lib\\site-packages\\scipy\\optimize\\__init__.py\u001b[0m in \u001b[0;36m<module>\u001b[1;34m\u001b[0m\n\u001b[0;32m    388\u001b[0m \u001b[1;33m\u001b[0m\u001b[0m\n\u001b[0;32m    389\u001b[0m \u001b[1;32mfrom\u001b[0m \u001b[1;33m.\u001b[0m\u001b[0moptimize\u001b[0m \u001b[1;32mimport\u001b[0m \u001b[1;33m*\u001b[0m\u001b[1;33m\u001b[0m\u001b[1;33m\u001b[0m\u001b[0m\n\u001b[1;32m--> 390\u001b[1;33m \u001b[1;32mfrom\u001b[0m \u001b[1;33m.\u001b[0m\u001b[0m_minimize\u001b[0m \u001b[1;32mimport\u001b[0m \u001b[1;33m*\u001b[0m\u001b[1;33m\u001b[0m\u001b[1;33m\u001b[0m\u001b[0m\n\u001b[0m\u001b[0;32m    391\u001b[0m \u001b[1;32mfrom\u001b[0m \u001b[1;33m.\u001b[0m\u001b[0m_root\u001b[0m \u001b[1;32mimport\u001b[0m \u001b[1;33m*\u001b[0m\u001b[1;33m\u001b[0m\u001b[1;33m\u001b[0m\u001b[0m\n\u001b[0;32m    392\u001b[0m \u001b[1;32mfrom\u001b[0m \u001b[1;33m.\u001b[0m\u001b[0m_root_scalar\u001b[0m \u001b[1;32mimport\u001b[0m \u001b[1;33m*\u001b[0m\u001b[1;33m\u001b[0m\u001b[1;33m\u001b[0m\u001b[0m\n",
      "\u001b[1;32m~\\anaconda3\\lib\\site-packages\\scipy\\optimize\\_minimize.py\u001b[0m in \u001b[0;36m<module>\u001b[1;34m\u001b[0m\n\u001b[0;32m     28\u001b[0m \u001b[1;32mfrom\u001b[0m \u001b[1;33m.\u001b[0m\u001b[0m_trustregion_krylov\u001b[0m \u001b[1;32mimport\u001b[0m \u001b[0m_minimize_trust_krylov\u001b[0m\u001b[1;33m\u001b[0m\u001b[1;33m\u001b[0m\u001b[0m\n\u001b[0;32m     29\u001b[0m \u001b[1;32mfrom\u001b[0m \u001b[1;33m.\u001b[0m\u001b[0m_trustregion_exact\u001b[0m \u001b[1;32mimport\u001b[0m \u001b[0m_minimize_trustregion_exact\u001b[0m\u001b[1;33m\u001b[0m\u001b[1;33m\u001b[0m\u001b[0m\n\u001b[1;32m---> 30\u001b[1;33m \u001b[1;32mfrom\u001b[0m \u001b[1;33m.\u001b[0m\u001b[0m_trustregion_constr\u001b[0m \u001b[1;32mimport\u001b[0m \u001b[0m_minimize_trustregion_constr\u001b[0m\u001b[1;33m\u001b[0m\u001b[1;33m\u001b[0m\u001b[0m\n\u001b[0m\u001b[0;32m     31\u001b[0m \u001b[1;33m\u001b[0m\u001b[0m\n\u001b[0;32m     32\u001b[0m \u001b[1;31m# constrained minimization\u001b[0m\u001b[1;33m\u001b[0m\u001b[1;33m\u001b[0m\u001b[1;33m\u001b[0m\u001b[0m\n",
      "\u001b[1;32m~\\anaconda3\\lib\\site-packages\\scipy\\optimize\\_trustregion_constr\\__init__.py\u001b[0m in \u001b[0;36m<module>\u001b[1;34m\u001b[0m\n\u001b[0;32m      2\u001b[0m \u001b[1;33m\u001b[0m\u001b[0m\n\u001b[0;32m      3\u001b[0m \u001b[1;33m\u001b[0m\u001b[0m\n\u001b[1;32m----> 4\u001b[1;33m \u001b[1;32mfrom\u001b[0m \u001b[1;33m.\u001b[0m\u001b[0mminimize_trustregion_constr\u001b[0m \u001b[1;32mimport\u001b[0m \u001b[0m_minimize_trustregion_constr\u001b[0m\u001b[1;33m\u001b[0m\u001b[1;33m\u001b[0m\u001b[0m\n\u001b[0m\u001b[0;32m      5\u001b[0m \u001b[1;33m\u001b[0m\u001b[0m\n\u001b[0;32m      6\u001b[0m \u001b[0m__all__\u001b[0m \u001b[1;33m=\u001b[0m \u001b[1;33m[\u001b[0m\u001b[1;34m'_minimize_trustregion_constr'\u001b[0m\u001b[1;33m]\u001b[0m\u001b[1;33m\u001b[0m\u001b[1;33m\u001b[0m\u001b[0m\n",
      "\u001b[1;32m~\\anaconda3\\lib\\site-packages\\scipy\\optimize\\_trustregion_constr\\minimize_trustregion_constr.py\u001b[0m in \u001b[0;36m<module>\u001b[1;34m\u001b[0m\n\u001b[0;32m      2\u001b[0m \u001b[1;32mimport\u001b[0m \u001b[0mtime\u001b[0m\u001b[1;33m\u001b[0m\u001b[1;33m\u001b[0m\u001b[0m\n\u001b[0;32m      3\u001b[0m \u001b[1;32mimport\u001b[0m \u001b[0mnumpy\u001b[0m \u001b[1;32mas\u001b[0m \u001b[0mnp\u001b[0m\u001b[1;33m\u001b[0m\u001b[1;33m\u001b[0m\u001b[0m\n\u001b[1;32m----> 4\u001b[1;33m \u001b[1;32mfrom\u001b[0m \u001b[0mscipy\u001b[0m\u001b[1;33m.\u001b[0m\u001b[0msparse\u001b[0m\u001b[1;33m.\u001b[0m\u001b[0mlinalg\u001b[0m \u001b[1;32mimport\u001b[0m \u001b[0mLinearOperator\u001b[0m\u001b[1;33m\u001b[0m\u001b[1;33m\u001b[0m\u001b[0m\n\u001b[0m\u001b[0;32m      5\u001b[0m \u001b[1;32mfrom\u001b[0m \u001b[1;33m.\u001b[0m\u001b[1;33m.\u001b[0m\u001b[0m_differentiable_functions\u001b[0m \u001b[1;32mimport\u001b[0m \u001b[0mVectorFunction\u001b[0m\u001b[1;33m\u001b[0m\u001b[1;33m\u001b[0m\u001b[0m\n\u001b[0;32m      6\u001b[0m from .._constraints import (\n",
      "\u001b[1;32m~\\anaconda3\\lib\\site-packages\\scipy\\sparse\\linalg\\__init__.py\u001b[0m in \u001b[0;36m<module>\u001b[1;34m\u001b[0m\n\u001b[0;32m    114\u001b[0m \u001b[1;32mfrom\u001b[0m \u001b[1;33m.\u001b[0m\u001b[0mdsolve\u001b[0m \u001b[1;32mimport\u001b[0m \u001b[1;33m*\u001b[0m\u001b[1;33m\u001b[0m\u001b[1;33m\u001b[0m\u001b[0m\n\u001b[0;32m    115\u001b[0m \u001b[1;32mfrom\u001b[0m \u001b[1;33m.\u001b[0m\u001b[0minterface\u001b[0m \u001b[1;32mimport\u001b[0m \u001b[1;33m*\u001b[0m\u001b[1;33m\u001b[0m\u001b[1;33m\u001b[0m\u001b[0m\n\u001b[1;32m--> 116\u001b[1;33m \u001b[1;32mfrom\u001b[0m \u001b[1;33m.\u001b[0m\u001b[0meigen\u001b[0m \u001b[1;32mimport\u001b[0m \u001b[1;33m*\u001b[0m\u001b[1;33m\u001b[0m\u001b[1;33m\u001b[0m\u001b[0m\n\u001b[0m\u001b[0;32m    117\u001b[0m \u001b[1;32mfrom\u001b[0m \u001b[1;33m.\u001b[0m\u001b[0mmatfuncs\u001b[0m \u001b[1;32mimport\u001b[0m \u001b[1;33m*\u001b[0m\u001b[1;33m\u001b[0m\u001b[1;33m\u001b[0m\u001b[0m\n\u001b[0;32m    118\u001b[0m \u001b[1;32mfrom\u001b[0m \u001b[1;33m.\u001b[0m\u001b[0m_onenormest\u001b[0m \u001b[1;32mimport\u001b[0m \u001b[1;33m*\u001b[0m\u001b[1;33m\u001b[0m\u001b[1;33m\u001b[0m\u001b[0m\n",
      "\u001b[1;32m~\\anaconda3\\lib\\site-packages\\scipy\\sparse\\linalg\\eigen\\__init__.py\u001b[0m in \u001b[0;36m<module>\u001b[1;34m\u001b[0m\n\u001b[0;32m      9\u001b[0m \u001b[1;32mfrom\u001b[0m \u001b[0m__future__\u001b[0m \u001b[1;32mimport\u001b[0m \u001b[0mdivision\u001b[0m\u001b[1;33m,\u001b[0m \u001b[0mprint_function\u001b[0m\u001b[1;33m,\u001b[0m \u001b[0mabsolute_import\u001b[0m\u001b[1;33m\u001b[0m\u001b[1;33m\u001b[0m\u001b[0m\n\u001b[0;32m     10\u001b[0m \u001b[1;33m\u001b[0m\u001b[0m\n\u001b[1;32m---> 11\u001b[1;33m \u001b[1;32mfrom\u001b[0m \u001b[1;33m.\u001b[0m\u001b[0marpack\u001b[0m \u001b[1;32mimport\u001b[0m \u001b[1;33m*\u001b[0m\u001b[1;33m\u001b[0m\u001b[1;33m\u001b[0m\u001b[0m\n\u001b[0m\u001b[0;32m     12\u001b[0m \u001b[1;32mfrom\u001b[0m \u001b[1;33m.\u001b[0m\u001b[0mlobpcg\u001b[0m \u001b[1;32mimport\u001b[0m \u001b[1;33m*\u001b[0m\u001b[1;33m\u001b[0m\u001b[1;33m\u001b[0m\u001b[0m\n\u001b[0;32m     13\u001b[0m \u001b[1;33m\u001b[0m\u001b[0m\n",
      "\u001b[1;32m~\\anaconda3\\lib\\site-packages\\scipy\\sparse\\linalg\\eigen\\arpack\\__init__.py\u001b[0m in \u001b[0;36m<module>\u001b[1;34m\u001b[0m\n\u001b[0;32m     20\u001b[0m \u001b[1;32mfrom\u001b[0m \u001b[0m__future__\u001b[0m \u001b[1;32mimport\u001b[0m \u001b[0mdivision\u001b[0m\u001b[1;33m,\u001b[0m \u001b[0mprint_function\u001b[0m\u001b[1;33m,\u001b[0m \u001b[0mabsolute_import\u001b[0m\u001b[1;33m\u001b[0m\u001b[1;33m\u001b[0m\u001b[0m\n\u001b[0;32m     21\u001b[0m \u001b[1;33m\u001b[0m\u001b[0m\n\u001b[1;32m---> 22\u001b[1;33m \u001b[1;32mfrom\u001b[0m \u001b[1;33m.\u001b[0m\u001b[0marpack\u001b[0m \u001b[1;32mimport\u001b[0m \u001b[1;33m*\u001b[0m\u001b[1;33m\u001b[0m\u001b[1;33m\u001b[0m\u001b[0m\n\u001b[0m",
      "\u001b[1;32m~\\anaconda3\\lib\\site-packages\\scipy\\sparse\\linalg\\eigen\\arpack\\arpack.py\u001b[0m in \u001b[0;36m<module>\u001b[1;34m\u001b[0m\n\u001b[0;32m     43\u001b[0m \u001b[0m__all__\u001b[0m \u001b[1;33m=\u001b[0m \u001b[1;33m[\u001b[0m\u001b[1;34m'eigs'\u001b[0m\u001b[1;33m,\u001b[0m \u001b[1;34m'eigsh'\u001b[0m\u001b[1;33m,\u001b[0m \u001b[1;34m'svds'\u001b[0m\u001b[1;33m,\u001b[0m \u001b[1;34m'ArpackError'\u001b[0m\u001b[1;33m,\u001b[0m \u001b[1;34m'ArpackNoConvergence'\u001b[0m\u001b[1;33m]\u001b[0m\u001b[1;33m\u001b[0m\u001b[1;33m\u001b[0m\u001b[0m\n\u001b[0;32m     44\u001b[0m \u001b[1;33m\u001b[0m\u001b[0m\n\u001b[1;32m---> 45\u001b[1;33m \u001b[1;32mfrom\u001b[0m \u001b[1;33m.\u001b[0m \u001b[1;32mimport\u001b[0m \u001b[0m_arpack\u001b[0m\u001b[1;33m\u001b[0m\u001b[1;33m\u001b[0m\u001b[0m\n\u001b[0m\u001b[0;32m     46\u001b[0m \u001b[1;32mimport\u001b[0m \u001b[0mnumpy\u001b[0m \u001b[1;32mas\u001b[0m \u001b[0mnp\u001b[0m\u001b[1;33m\u001b[0m\u001b[1;33m\u001b[0m\u001b[0m\n\u001b[0;32m     47\u001b[0m \u001b[1;32mimport\u001b[0m \u001b[0mwarnings\u001b[0m\u001b[1;33m\u001b[0m\u001b[1;33m\u001b[0m\u001b[0m\n",
      "\u001b[1;31mImportError\u001b[0m: DLL load failed: The specified procedure could not be found."
     ]
    }
   ],
   "source": [
    "# Dependencies and Setup\n",
    "%matplotlib inline\n",
    "import matplotlib.pyplot as plt\n",
    "import pandas as pd\n",
    "import numpy as np\n",
    "import requests\n",
    "import time\n",
    "from scipy.stats import linregress\n",
    "\n",
    "\n",
    "# Import API key\n",
    "from api_keys import weather_api_key\n",
    "\n",
    "# Incorporated citipy to determine city based on latitude and longitude\n",
    "from citipy import citipy\n",
    "\n",
    "# Output File (CSV)\n",
    "output_data_file = \"output_data/cities.csv\"\n",
    "\n",
    "# Range of latitudes and longitudes\n",
    "lat_range = (-90, 90)\n",
    "lng_range = (-180, 180)"
   ]
  },
  {
   "cell_type": "code",
   "execution_count": 3,
   "metadata": {
    "colab": {
     "base_uri": "https://localhost:8080/",
     "height": 34
    },
    "colab_type": "code",
    "id": "AzazQtGjvicr",
    "outputId": "c8a5692a-66b6-4bff-f07a-51b9d395c9cc"
   },
   "outputs": [
    {
     "data": {
      "text/plain": [
       "641"
      ]
     },
     "execution_count": 3,
     "metadata": {},
     "output_type": "execute_result"
    }
   ],
   "source": [
    "# List for holding lat_lngs and cities\n",
    "lat_lngs = []\n",
    "cities = []\n",
    "\n",
    "# Create a set of random lat and lng combinations\n",
    "lats = np.random.uniform(lat_range[0], lat_range[1], size=1500)\n",
    "lngs = np.random.uniform(lng_range[0], lng_range[1], size=1500)\n",
    "lat_lngs = zip(lats, lngs)\n",
    "\n",
    "# Identify nearest city for each lat, lng combination\n",
    "for lat_lng in lat_lngs:\n",
    "    city = citipy.nearest_city(lat_lng[0], lat_lng[1]).city_name\n",
    "    \n",
    "    # If the city is unique, then add it to a our cities list\n",
    "    if city not in cities:\n",
    "        cities.append(city)\n",
    "\n",
    "# Print the city count to confirm sufficient count\n",
    "len(cities)"
   ]
  },
  {
   "cell_type": "markdown",
   "metadata": {
    "colab_type": "text",
    "id": "vMN6ZQpY0ELb"
   },
   "source": [
    "## **Perform API Calls**\n",
    "\n",
    "*   Perform a weather check on each city using a series of successive API calls.\n",
    "*   Include a print log of each city as it'sbeing processed (with the city number and city name)."
   ]
  },
  {
   "cell_type": "code",
   "execution_count": 4,
   "metadata": {
    "colab": {},
    "colab_type": "code",
    "id": "X-xWNx_5Bjqt"
   },
   "outputs": [],
   "source": [
    "# Save config information.\n",
    "url = \"http://api.openweathermap.org/data/2.5/weather?\"\n",
    "units = \"imperial\"\n",
    "\n",
    "# Build partial query URL\n",
    "query_url = f\"{url}appid={weather_api_key}&units={units}&q=\""
   ]
  },
  {
   "cell_type": "code",
   "execution_count": 5,
   "metadata": {
    "colab": {
     "base_uri": "https://localhost:8080/",
     "height": 1000
    },
    "colab_type": "code",
    "id": "pcwlsP_Q7kO8",
    "outputId": "55745131-1c70-4e69-95b8-377ff8ca7537"
   },
   "outputs": [
    {
     "name": "stdout",
     "output_type": "stream",
     "text": [
      "Beginning Data Retrieval\n",
      "-----------------------------\n",
      "Processing Record 1 of Set 1 | dunedin\n",
      "Processing Record 2 of Set 1 | cape town\n",
      "Processing Record 3 of Set 1 | bredasdorp\n",
      "Processing Record 4 of Set 1 | isangel\n",
      "Processing Record 5 of Set 1 | mattru\n",
      "Processing Record 6 of Set 1 | brejo da madre de deus\n",
      "City not found. Skipping...\n",
      "Processing Record 7 of Set 1 | torbay\n",
      "Processing Record 8 of Set 1 | atuona\n",
      "Processing Record 9 of Set 1 | olafsvik\n",
      "Processing Record 10 of Set 1 | rikitea\n",
      "Processing Record 11 of Set 1 | kjollefjord\n",
      "Processing Record 12 of Set 1 | hermanus\n",
      "Processing Record 13 of Set 1 | tuktoyaktuk\n",
      "Processing Record 14 of Set 1 | hovd\n",
      "Processing Record 15 of Set 1 | hobart\n",
      "Processing Record 16 of Set 1 | ondjiva\n",
      "Processing Record 17 of Set 1 | yashkul\n",
      "Processing Record 18 of Set 1 | esperance\n",
      "City not found. Skipping...\n",
      "Processing Record 19 of Set 1 | vaini\n",
      "Processing Record 20 of Set 1 | alta floresta\n",
      "Processing Record 21 of Set 1 | regina\n",
      "Processing Record 22 of Set 1 | moerai\n",
      "City not found. Skipping...\n",
      "Processing Record 23 of Set 1 | emerald\n",
      "Processing Record 24 of Set 1 | ushuaia\n",
      "Processing Record 25 of Set 1 | pangnirtung\n",
      "Processing Record 26 of Set 1 | souillac\n",
      "Processing Record 27 of Set 1 | ribeira grande\n",
      "Processing Record 28 of Set 1 | hami\n",
      "Processing Record 29 of Set 1 | lavrentiya\n",
      "Processing Record 30 of Set 1 | cabo san lucas\n",
      "Processing Record 31 of Set 1 | hokitika\n",
      "Processing Record 32 of Set 1 | sakakah\n",
      "Processing Record 33 of Set 1 | cidreira\n",
      "Processing Record 34 of Set 1 | qaanaaq\n",
      "City not found. Skipping...\n",
      "Processing Record 35 of Set 1 | araouane\n",
      "Processing Record 36 of Set 1 | port elizabeth\n",
      "Processing Record 37 of Set 1 | salalah\n",
      "Processing Record 38 of Set 1 | orel-izumrud\n",
      "Processing Record 39 of Set 1 | ternate\n",
      "City not found. Skipping...\n",
      "Processing Record 40 of Set 1 | balaipungut\n",
      "Processing Record 41 of Set 1 | avera\n",
      "City not found. Skipping...\n",
      "Processing Record 42 of Set 1 | kaitangata\n",
      "Processing Record 43 of Set 1 | potiskum\n",
      "Processing Record 44 of Set 1 | flinders\n",
      "Processing Record 45 of Set 1 | sandpoint\n",
      "Processing Record 46 of Set 1 | kimbe\n",
      "Processing Record 47 of Set 1 | castro\n",
      "Processing Record 48 of Set 1 | borovsk\n",
      "Processing Record 49 of Set 1 | aswan\n",
      "Processing Record 50 of Set 1 | maragogi\n",
      "City not found. Skipping...\n",
      "Processing Record 1 of Set 2 | kitchener\n",
      "Processing Record 2 of Set 2 | longyearbyen\n",
      "Processing Record 3 of Set 2 | grand gaube\n",
      "Processing Record 4 of Set 2 | havre-saint-pierre\n",
      "Processing Record 5 of Set 2 | tahe\n",
      "Processing Record 6 of Set 2 | airai\n",
      "Processing Record 7 of Set 2 | pavlodar\n",
      "Processing Record 8 of Set 2 | adrar\n",
      "Processing Record 9 of Set 2 | hervey bay\n",
      "Processing Record 10 of Set 2 | saskylakh\n",
      "Processing Record 11 of Set 2 | novoilinsk\n",
      "Processing Record 12 of Set 2 | beloha\n",
      "Processing Record 13 of Set 2 | krasnovishersk\n",
      "Processing Record 14 of Set 2 | chuy\n",
      "Processing Record 15 of Set 2 | shimoda\n",
      "Processing Record 16 of Set 2 | along\n",
      "City not found. Skipping...\n",
      "Processing Record 17 of Set 2 | alekseyevka\n",
      "Processing Record 18 of Set 2 | hilo\n",
      "Processing Record 19 of Set 2 | andilamena\n",
      "Processing Record 20 of Set 2 | naustdal\n",
      "City not found. Skipping...\n",
      "Processing Record 21 of Set 2 | barrow\n",
      "Processing Record 22 of Set 2 | campoverde\n",
      "Processing Record 23 of Set 2 | bluff\n",
      "Processing Record 24 of Set 2 | punta arenas\n",
      "Processing Record 25 of Set 2 | fairbanks\n",
      "Processing Record 26 of Set 2 | petropavlovsk-kamchatskiy\n",
      "City not found. Skipping...\n",
      "Processing Record 27 of Set 2 | lyaskelya\n",
      "Processing Record 28 of Set 2 | zhongxing\n",
      "Processing Record 29 of Set 2 | iaciara\n",
      "Processing Record 30 of Set 2 | grand river south east\n",
      "Processing Record 31 of Set 2 | narsaq\n",
      "Processing Record 32 of Set 2 | georgetown\n",
      "Processing Record 33 of Set 2 | chokurdakh\n",
      "Processing Record 34 of Set 2 | noumea\n",
      "Processing Record 35 of Set 2 | mar del plata\n",
      "Processing Record 36 of Set 2 | fereydun kenar\n",
      "Processing Record 37 of Set 2 | black river\n",
      "Processing Record 38 of Set 2 | albany\n",
      "Processing Record 39 of Set 2 | santa cruz\n",
      "Processing Record 40 of Set 2 | severnoye\n",
      "Processing Record 41 of Set 2 | matelandia\n",
      "Processing Record 42 of Set 2 | puerto ayora\n",
      "Processing Record 43 of Set 2 | lagoa\n",
      "Processing Record 44 of Set 2 | jiuquan\n",
      "Processing Record 45 of Set 2 | bengkulu\n",
      "Processing Record 46 of Set 2 | kurumkan\n",
      "Processing Record 47 of Set 2 | gamba\n",
      "Processing Record 48 of Set 2 | pisco\n",
      "Processing Record 49 of Set 2 | busselton\n",
      "Processing Record 50 of Set 2 | new norfolk\n",
      "Processing Record 1 of Set 3 | guerrero negro\n",
      "Processing Record 2 of Set 3 | vila franca do campo\n",
      "Processing Record 3 of Set 3 | mataura\n",
      "City not found. Skipping...\n",
      "Processing Record 4 of Set 3 | cururupu\n",
      "Processing Record 5 of Set 3 | bandarbeyla\n",
      "Processing Record 6 of Set 3 | sioux lookout\n",
      "City not found. Skipping...\n",
      "Processing Record 7 of Set 3 | okhotsk\n",
      "Processing Record 8 of Set 3 | keti bandar\n",
      "Processing Record 9 of Set 3 | karratha\n",
      "Processing Record 10 of Set 3 | lorengau\n",
      "Processing Record 11 of Set 3 | san cristobal\n",
      "Processing Record 12 of Set 3 | geraldton\n",
      "Processing Record 13 of Set 3 | port alfred\n",
      "Processing Record 14 of Set 3 | antanifotsy\n",
      "Processing Record 15 of Set 3 | touros\n",
      "Processing Record 16 of Set 3 | kampot\n",
      "Processing Record 17 of Set 3 | dikson\n",
      "Processing Record 18 of Set 3 | lerwick\n",
      "Processing Record 19 of Set 3 | huarmey\n",
      "Processing Record 20 of Set 3 | dzaoudzi\n",
      "Processing Record 21 of Set 3 | manono\n",
      "Processing Record 22 of Set 3 | tuatapere\n",
      "Processing Record 23 of Set 3 | aneho\n",
      "City not found. Skipping...\n",
      "City not found. Skipping...\n",
      "Processing Record 24 of Set 3 | ibra\n",
      "Processing Record 25 of Set 3 | constitucion\n",
      "Processing Record 26 of Set 3 | mareeba\n",
      "Processing Record 27 of Set 3 | bara\n",
      "Processing Record 28 of Set 3 | katsuura\n",
      "Processing Record 29 of Set 3 | butaritari\n",
      "Processing Record 30 of Set 3 | khatanga\n",
      "Processing Record 31 of Set 3 | antofagasta\n",
      "Processing Record 32 of Set 3 | baykit\n",
      "Processing Record 33 of Set 3 | vyartsilya\n",
      "Processing Record 34 of Set 3 | pathein\n",
      "Processing Record 35 of Set 3 | manavalakurichi\n",
      "Processing Record 36 of Set 3 | fort nelson\n",
      "Processing Record 37 of Set 3 | kavieng\n",
      "Processing Record 38 of Set 3 | east london\n",
      "Processing Record 39 of Set 3 | weligama\n",
      "Processing Record 40 of Set 3 | bogorodskoye\n",
      "City not found. Skipping...\n",
      "Processing Record 41 of Set 3 | tasiilaq\n",
      "Processing Record 42 of Set 3 | laguna\n",
      "Processing Record 43 of Set 3 | raudeberg\n",
      "Processing Record 44 of Set 3 | saiha\n",
      "Processing Record 45 of Set 3 | jalu\n",
      "Processing Record 46 of Set 3 | leningradskiy\n",
      "Processing Record 47 of Set 3 | bani walid\n",
      "Processing Record 48 of Set 3 | chara\n",
      "Processing Record 49 of Set 3 | vanimo\n",
      "Processing Record 50 of Set 3 | luderitz\n",
      "Processing Record 1 of Set 4 | vestmanna\n",
      "Processing Record 2 of Set 4 | tiksi\n",
      "Processing Record 3 of Set 4 | san quintin\n",
      "Processing Record 4 of Set 4 | arraial do cabo\n",
      "Processing Record 5 of Set 4 | shwebo\n",
      "Processing Record 6 of Set 4 | mahebourg\n",
      "Processing Record 7 of Set 4 | mount isa\n",
      "Processing Record 8 of Set 4 | kasempa\n",
      "City not found. Skipping...\n",
      "Processing Record 9 of Set 4 | raiganj\n",
      "City not found. Skipping...\n",
      "Processing Record 10 of Set 4 | luganville\n",
      "Processing Record 11 of Set 4 | hargeysa\n",
      "Processing Record 12 of Set 4 | srednekolymsk\n",
      "Processing Record 13 of Set 4 | nacala\n",
      "Processing Record 14 of Set 4 | mestia\n",
      "Processing Record 15 of Set 4 | ancud\n",
      "Processing Record 16 of Set 4 | ibirataia\n",
      "Processing Record 17 of Set 4 | kapaa\n",
      "Processing Record 18 of Set 4 | panalingaan\n",
      "Processing Record 19 of Set 4 | kodiak\n",
      "Processing Record 20 of Set 4 | shache\n",
      "City not found. Skipping...\n",
      "Processing Record 21 of Set 4 | prado\n",
      "Processing Record 22 of Set 4 | hobyo\n",
      "Processing Record 23 of Set 4 | moose factory\n",
      "Processing Record 24 of Set 4 | sal rei\n",
      "Processing Record 25 of Set 4 | lovozero\n",
      "Processing Record 26 of Set 4 | biak\n",
      "Processing Record 27 of Set 4 | siavonga\n",
      "Processing Record 28 of Set 4 | tucuman\n",
      "Processing Record 29 of Set 4 | yatou\n",
      "City not found. Skipping...\n",
      "City not found. Skipping...\n",
      "Processing Record 30 of Set 4 | yellowknife\n",
      "Processing Record 31 of Set 4 | hasaki\n",
      "Processing Record 32 of Set 4 | redmond\n",
      "Processing Record 33 of Set 4 | hambantota\n",
      "Processing Record 34 of Set 4 | kruisfontein\n"
     ]
    },
    {
     "name": "stdout",
     "output_type": "stream",
     "text": [
      "Processing Record 35 of Set 4 | kleive\n",
      "Processing Record 36 of Set 4 | severo-kurilsk\n",
      "Processing Record 37 of Set 4 | boyolangu\n",
      "Processing Record 38 of Set 4 | shimanovsk\n",
      "Processing Record 39 of Set 4 | port macquarie\n",
      "City not found. Skipping...\n",
      "Processing Record 40 of Set 4 | fortuna\n",
      "Processing Record 41 of Set 4 | cap malheureux\n",
      "Processing Record 42 of Set 4 | sistranda\n",
      "Processing Record 43 of Set 4 | clyde river\n",
      "Processing Record 44 of Set 4 | ocos\n",
      "Processing Record 45 of Set 4 | provideniya\n",
      "Processing Record 46 of Set 4 | tombouctou\n",
      "Processing Record 47 of Set 4 | kadoma\n",
      "Processing Record 48 of Set 4 | jamestown\n",
      "Processing Record 49 of Set 4 | saint-philippe\n",
      "Processing Record 50 of Set 4 | camargo\n",
      "Processing Record 1 of Set 5 | martil\n",
      "Processing Record 2 of Set 5 | husavik\n",
      "Processing Record 3 of Set 5 | zonguldak\n",
      "Processing Record 4 of Set 5 | sampit\n",
      "Processing Record 5 of Set 5 | ust-kuyga\n",
      "Processing Record 6 of Set 5 | half moon bay\n",
      "Processing Record 7 of Set 5 | mahon\n",
      "City not found. Skipping...\n",
      "Processing Record 8 of Set 5 | lagos\n",
      "City not found. Skipping...\n",
      "Processing Record 9 of Set 5 | hithadhoo\n",
      "City not found. Skipping...\n",
      "Processing Record 10 of Set 5 | mys shmidta\n",
      "Processing Record 11 of Set 5 | chauk\n",
      "Processing Record 12 of Set 5 | kilindoni\n",
      "Processing Record 13 of Set 5 | bhusawal\n",
      "Processing Record 14 of Set 5 | ponta do sol\n",
      "Processing Record 15 of Set 5 | ginir\n",
      "Processing Record 16 of Set 5 | bangangte\n",
      "Processing Record 17 of Set 5 | yarada\n",
      "Processing Record 18 of Set 5 | codrington\n",
      "City not found. Skipping...\n",
      "Processing Record 19 of Set 5 | chitipa\n",
      "Processing Record 20 of Set 5 | nuuk\n",
      "City not found. Skipping...\n",
      "Processing Record 21 of Set 5 | cortez\n",
      "Processing Record 22 of Set 5 | gorin\n",
      "Processing Record 23 of Set 5 | alofi\n",
      "Processing Record 24 of Set 5 | jinxiang\n",
      "City not found. Skipping...\n",
      "Processing Record 25 of Set 5 | tuy hoa\n",
      "Processing Record 26 of Set 5 | seguela\n",
      "City not found. Skipping...\n",
      "City not found. Skipping...\n",
      "Processing Record 27 of Set 5 | ayagoz\n",
      "City not found. Skipping...\n",
      "City not found. Skipping...\n",
      "Processing Record 28 of Set 5 | neuquen\n",
      "Processing Record 29 of Set 5 | yibin\n",
      "Processing Record 30 of Set 5 | laibin\n",
      "Processing Record 31 of Set 5 | ivolginsk\n",
      "City not found. Skipping...\n",
      "City not found. Skipping...\n",
      "Processing Record 32 of Set 5 | port-cartier\n",
      "City not found. Skipping...\n",
      "Processing Record 33 of Set 5 | kunming\n",
      "Processing Record 34 of Set 5 | faanui\n",
      "Processing Record 35 of Set 5 | luanda\n",
      "Processing Record 36 of Set 5 | sao filipe\n",
      "Processing Record 37 of Set 5 | nouakchott\n",
      "Processing Record 38 of Set 5 | upernavik\n",
      "Processing Record 39 of Set 5 | khandyga\n",
      "Processing Record 40 of Set 5 | roald\n",
      "Processing Record 41 of Set 5 | syracuse\n",
      "City not found. Skipping...\n",
      "Processing Record 42 of Set 5 | sur\n",
      "Processing Record 43 of Set 5 | arona\n",
      "Processing Record 44 of Set 5 | verkhnevilyuysk\n",
      "Processing Record 45 of Set 5 | inhambane\n",
      "Processing Record 46 of Set 5 | coos bay\n",
      "Processing Record 47 of Set 5 | hinton\n",
      "City not found. Skipping...\n",
      "Processing Record 48 of Set 5 | aklavik\n",
      "Processing Record 49 of Set 5 | zhangjiakou\n",
      "Processing Record 50 of Set 5 | bonaventure\n",
      "Processing Record 1 of Set 6 | englehart\n",
      "Processing Record 2 of Set 6 | khilok\n",
      "City not found. Skipping...\n",
      "Processing Record 3 of Set 6 | arlit\n",
      "Processing Record 4 of Set 6 | bacolod\n",
      "Processing Record 5 of Set 6 | oriximina\n",
      "Processing Record 6 of Set 6 | panormos\n",
      "Processing Record 7 of Set 6 | ust-maya\n",
      "Processing Record 8 of Set 6 | bethel\n",
      "Processing Record 9 of Set 6 | rosarito\n",
      "Processing Record 10 of Set 6 | avarua\n",
      "Processing Record 11 of Set 6 | bonthe\n",
      "Processing Record 12 of Set 6 | ust-koksa\n",
      "Processing Record 13 of Set 6 | ubatuba\n",
      "Processing Record 14 of Set 6 | virginia beach\n",
      "Processing Record 15 of Set 6 | ayr\n",
      "Processing Record 16 of Set 6 | lata\n",
      "Processing Record 17 of Set 6 | ixtapa\n",
      "Processing Record 18 of Set 6 | cloquet\n",
      "Processing Record 19 of Set 6 | klaksvik\n",
      "Processing Record 20 of Set 6 | victoria\n",
      "Processing Record 21 of Set 6 | port shepstone\n",
      "Processing Record 22 of Set 6 | changqing\n",
      "Processing Record 23 of Set 6 | pulaski\n",
      "Processing Record 24 of Set 6 | porbandar\n",
      "City not found. Skipping...\n",
      "Processing Record 25 of Set 6 | houma\n",
      "Processing Record 26 of Set 6 | tigil\n",
      "Processing Record 27 of Set 6 | aripuana\n",
      "Processing Record 28 of Set 6 | lithgow\n",
      "Processing Record 29 of Set 6 | padang\n",
      "Processing Record 30 of Set 6 | tibati\n",
      "Processing Record 31 of Set 6 | bac lieu\n",
      "Processing Record 32 of Set 6 | san patricio\n",
      "Processing Record 33 of Set 6 | rocha\n",
      "Processing Record 34 of Set 6 | oktyabrsk\n",
      "Processing Record 35 of Set 6 | chau doc\n",
      "Processing Record 36 of Set 6 | aksarka\n",
      "Processing Record 37 of Set 6 | coihaique\n",
      "Processing Record 38 of Set 6 | barda\n",
      "City not found. Skipping...\n",
      "Processing Record 39 of Set 6 | nantucket\n",
      "Processing Record 40 of Set 6 | coquimbo\n",
      "Processing Record 41 of Set 6 | carnarvon\n",
      "Processing Record 42 of Set 6 | pionki\n",
      "Processing Record 43 of Set 6 | nikolskoye\n",
      "City not found. Skipping...\n",
      "Processing Record 44 of Set 6 | denpasar\n",
      "Processing Record 45 of Set 6 | acarau\n",
      "Processing Record 46 of Set 6 | najran\n",
      "Processing Record 47 of Set 6 | san fernando\n",
      "City not found. Skipping...\n",
      "Processing Record 48 of Set 6 | upata\n",
      "Processing Record 49 of Set 6 | nome\n",
      "City not found. Skipping...\n",
      "Processing Record 50 of Set 6 | krasnoselkup\n",
      "Processing Record 1 of Set 7 | khandbari\n",
      "Processing Record 2 of Set 7 | sri aman\n",
      "Processing Record 3 of Set 7 | lebu\n",
      "Processing Record 4 of Set 7 | calbuco\n",
      "Processing Record 5 of Set 7 | coripata\n",
      "Processing Record 6 of Set 7 | ayan\n",
      "Processing Record 7 of Set 7 | zacatepec\n",
      "Processing Record 8 of Set 7 | naruto\n",
      "Processing Record 9 of Set 7 | rawson\n",
      "Processing Record 10 of Set 7 | dingle\n",
      "Processing Record 11 of Set 7 | zhigansk\n",
      "Processing Record 12 of Set 7 | bambanglipuro\n",
      "Processing Record 13 of Set 7 | gawler\n",
      "Processing Record 14 of Set 7 | menongue\n",
      "Processing Record 15 of Set 7 | gariaband\n",
      "Processing Record 16 of Set 7 | san policarpo\n",
      "Processing Record 17 of Set 7 | sao joao da barra\n",
      "Processing Record 18 of Set 7 | kargasok\n",
      "Processing Record 19 of Set 7 | chapais\n",
      "Processing Record 20 of Set 7 | iqaluit\n",
      "Processing Record 21 of Set 7 | batagay-alyta\n",
      "Processing Record 22 of Set 7 | opuwo\n",
      "City not found. Skipping...\n",
      "Processing Record 23 of Set 7 | huilong\n",
      "Processing Record 24 of Set 7 | pringsewu\n",
      "City not found. Skipping...\n",
      "Processing Record 25 of Set 7 | penzance\n",
      "Processing Record 26 of Set 7 | conde\n",
      "Processing Record 27 of Set 7 | kamaishi\n",
      "Processing Record 28 of Set 7 | tekkali\n",
      "Processing Record 29 of Set 7 | weiser\n",
      "Processing Record 30 of Set 7 | port-gentil\n",
      "Processing Record 31 of Set 7 | cedar city\n",
      "Processing Record 32 of Set 7 | masvingo\n",
      "Processing Record 33 of Set 7 | san carlos del zulia\n",
      "Processing Record 34 of Set 7 | leh\n",
      "Processing Record 35 of Set 7 | macklin\n",
      "Processing Record 36 of Set 7 | praia da vitoria\n",
      "Processing Record 37 of Set 7 | oda\n",
      "City not found. Skipping...\n",
      "Processing Record 38 of Set 7 | agadez\n",
      "Processing Record 39 of Set 7 | lillooet\n",
      "Processing Record 40 of Set 7 | saint-ambroise\n",
      "Processing Record 41 of Set 7 | shymkent\n",
      "Processing Record 42 of Set 7 | leiyang\n",
      "Processing Record 43 of Set 7 | yulara\n",
      "Processing Record 44 of Set 7 | beringovskiy\n",
      "Processing Record 45 of Set 7 | manokwari\n",
      "Processing Record 46 of Set 7 | tiarei\n",
      "City not found. Skipping...\n",
      "Processing Record 47 of Set 7 | norman wells\n",
      "Processing Record 48 of Set 7 | umea\n",
      "Processing Record 49 of Set 7 | ostrovnoy\n",
      "Processing Record 50 of Set 7 | neiafu\n",
      "City not found. Skipping...\n",
      "Processing Record 1 of Set 8 | boden\n",
      "Processing Record 2 of Set 8 | cherskiy\n",
      "Processing Record 3 of Set 8 | portland\n",
      "Processing Record 4 of Set 8 | athabasca\n",
      "Processing Record 5 of Set 8 | boa vista\n",
      "Processing Record 6 of Set 8 | bloomington\n",
      "City not found. Skipping...\n",
      "Processing Record 7 of Set 8 | brokopondo\n",
      "City not found. Skipping...\n",
      "Processing Record 8 of Set 8 | ashdod\n",
      "Processing Record 9 of Set 8 | aktau\n",
      "Processing Record 10 of Set 8 | kindu\n",
      "Processing Record 11 of Set 8 | mankono\n",
      "Processing Record 12 of Set 8 | carutapera\n",
      "Processing Record 13 of Set 8 | talbahat\n",
      "Processing Record 14 of Set 8 | vanavara\n",
      "Processing Record 15 of Set 8 | ashington\n"
     ]
    },
    {
     "name": "stdout",
     "output_type": "stream",
     "text": [
      "Processing Record 16 of Set 8 | nanortalik\n",
      "Processing Record 17 of Set 8 | oktyabrskoye\n",
      "Processing Record 18 of Set 8 | mandali\n",
      "Processing Record 19 of Set 8 | gemena\n",
      "Processing Record 20 of Set 8 | kununurra\n",
      "Processing Record 21 of Set 8 | rumphi\n",
      "City not found. Skipping...\n",
      "Processing Record 22 of Set 8 | katherine\n",
      "Processing Record 23 of Set 8 | bambous virieux\n",
      "Processing Record 24 of Set 8 | sola\n",
      "Processing Record 25 of Set 8 | mitchell\n",
      "Processing Record 26 of Set 8 | kahului\n",
      "Processing Record 27 of Set 8 | sabang\n",
      "Processing Record 28 of Set 8 | guanica\n",
      "Processing Record 29 of Set 8 | grand centre\n",
      "Processing Record 30 of Set 8 | bathsheba\n",
      "Processing Record 31 of Set 8 | gasa\n",
      "Processing Record 32 of Set 8 | nikki\n",
      "Processing Record 33 of Set 8 | komsomolskiy\n",
      "Processing Record 34 of Set 8 | vestmannaeyjar\n",
      "Processing Record 35 of Set 8 | balkhash\n",
      "Processing Record 36 of Set 8 | otane\n",
      "Processing Record 37 of Set 8 | wanning\n",
      "Processing Record 38 of Set 8 | giresun\n",
      "Processing Record 39 of Set 8 | caravelas\n",
      "Processing Record 40 of Set 8 | dongsheng\n",
      "Processing Record 41 of Set 8 | puerto escondido\n",
      "Processing Record 42 of Set 8 | roebourne\n",
      "Processing Record 43 of Set 8 | faya\n",
      "Processing Record 44 of Set 8 | niamey\n",
      "Processing Record 45 of Set 8 | mnogovershinnyy\n",
      "Processing Record 46 of Set 8 | namatanai\n",
      "City not found. Skipping...\n",
      "Processing Record 47 of Set 8 | lompoc\n",
      "Processing Record 48 of Set 8 | luga\n",
      "Processing Record 49 of Set 8 | urengoy\n",
      "Processing Record 50 of Set 8 | sisimiut\n",
      "Processing Record 1 of Set 9 | raton\n",
      "City not found. Skipping...\n",
      "Processing Record 2 of Set 9 | nortelandia\n",
      "City not found. Skipping...\n",
      "Processing Record 3 of Set 9 | bridlington\n",
      "Processing Record 4 of Set 9 | lakatoro\n",
      "Processing Record 5 of Set 9 | ankang\n",
      "Processing Record 6 of Set 9 | pontianak\n",
      "Processing Record 7 of Set 9 | arica\n",
      "Processing Record 8 of Set 9 | kenai\n",
      "Processing Record 9 of Set 9 | berlevag\n",
      "Processing Record 10 of Set 9 | vihti\n",
      "Processing Record 11 of Set 9 | craigieburn\n",
      "Processing Record 12 of Set 9 | necochea\n",
      "Processing Record 13 of Set 9 | strezhevoy\n",
      "Processing Record 14 of Set 9 | seoul\n",
      "Processing Record 15 of Set 9 | lumberton\n",
      "Processing Record 16 of Set 9 | kanepi\n",
      "Processing Record 17 of Set 9 | xining\n",
      "Processing Record 18 of Set 9 | sao felix do xingu\n",
      "Processing Record 19 of Set 9 | majene\n",
      "Processing Record 20 of Set 9 | lazaro cardenas\n",
      "Processing Record 21 of Set 9 | halifax\n",
      "Processing Record 22 of Set 9 | trinidad\n",
      "Processing Record 23 of Set 9 | khani\n",
      "Processing Record 24 of Set 9 | koumac\n",
      "Processing Record 25 of Set 9 | hamada\n",
      "Processing Record 26 of Set 9 | batagay\n",
      "Processing Record 27 of Set 9 | north platte\n",
      "Processing Record 28 of Set 9 | belmonte\n",
      "City not found. Skipping...\n",
      "Processing Record 29 of Set 9 | taltal\n",
      "Processing Record 30 of Set 9 | noyabrsk\n",
      "City not found. Skipping...\n",
      "Processing Record 31 of Set 9 | saint-joseph\n",
      "Processing Record 32 of Set 9 | port hardy\n",
      "Processing Record 33 of Set 9 | verkh-usugli\n",
      "Processing Record 34 of Set 9 | cockburn town\n",
      "Processing Record 35 of Set 9 | pacific grove\n",
      "Processing Record 36 of Set 9 | darhan\n",
      "Processing Record 37 of Set 9 | eregli\n",
      "City not found. Skipping...\n",
      "Processing Record 38 of Set 9 | itarema\n",
      "City not found. Skipping...\n",
      "Processing Record 39 of Set 9 | rio branco do sul\n",
      "Processing Record 40 of Set 9 | safaga\n",
      "City not found. Skipping...\n",
      "Processing Record 41 of Set 9 | paamiut\n",
      "Processing Record 42 of Set 9 | salekhard\n",
      "Processing Record 43 of Set 9 | mingaora\n",
      "Processing Record 44 of Set 9 | isla vista\n",
      "Processing Record 45 of Set 9 | cumana\n",
      "City not found. Skipping...\n",
      "Processing Record 46 of Set 9 | shamary\n",
      "Processing Record 47 of Set 9 | talcahuano\n",
      "Processing Record 48 of Set 9 | tautira\n",
      "Processing Record 49 of Set 9 | tilichiki\n",
      "Processing Record 50 of Set 9 | winnemucca\n",
      "Processing Record 1 of Set 10 | port lincoln\n",
      "City not found. Skipping...\n",
      "Processing Record 2 of Set 10 | kamenka\n",
      "Processing Record 3 of Set 10 | omegna\n",
      "Processing Record 4 of Set 10 | prainha\n",
      "City not found. Skipping...\n",
      "City not found. Skipping...\n",
      "Processing Record 5 of Set 10 | linxia\n",
      "Processing Record 6 of Set 10 | young\n",
      "Processing Record 7 of Set 10 | spirit river\n",
      "Processing Record 8 of Set 10 | nemuro\n",
      "Processing Record 9 of Set 10 | saint-louis\n",
      "Processing Record 10 of Set 10 | muzhi\n",
      "Processing Record 11 of Set 10 | portobelo\n",
      "Processing Record 12 of Set 10 | oga\n",
      "Processing Record 13 of Set 10 | yabrud\n",
      "Processing Record 14 of Set 10 | aranos\n",
      "Processing Record 15 of Set 10 | cap-aux-meules\n",
      "Processing Record 16 of Set 10 | itoman\n",
      "Processing Record 17 of Set 10 | carauari\n",
      "Processing Record 18 of Set 10 | teknaf\n",
      "Processing Record 19 of Set 10 | kudahuvadhoo\n",
      "Processing Record 20 of Set 10 | souris\n",
      "Processing Record 21 of Set 10 | dwarka\n",
      "Processing Record 22 of Set 10 | bay roberts\n",
      "Processing Record 23 of Set 10 | sitka\n",
      "Processing Record 24 of Set 10 | banepa\n",
      "Processing Record 25 of Set 10 | katobu\n",
      "Processing Record 26 of Set 10 | pishin\n",
      "City not found. Skipping...\n",
      "City not found. Skipping...\n",
      "Processing Record 27 of Set 10 | fare\n",
      "City not found. Skipping...\n",
      "Processing Record 28 of Set 10 | axim\n",
      "Processing Record 29 of Set 10 | gwadar\n",
      "Processing Record 30 of Set 10 | finnsnes\n",
      "Processing Record 31 of Set 10 | kavaratti\n",
      "Processing Record 32 of Set 10 | habiganj\n",
      "Processing Record 33 of Set 10 | kosd\n",
      "Processing Record 34 of Set 10 | iquique\n",
      "Processing Record 35 of Set 10 | whitehorse\n",
      "Processing Record 36 of Set 10 | homer\n",
      "Processing Record 37 of Set 10 | namie\n",
      "Processing Record 38 of Set 10 | vila velha\n",
      "Processing Record 39 of Set 10 | huoqiu\n",
      "Processing Record 40 of Set 10 | kapit\n",
      "Processing Record 41 of Set 10 | alice springs\n",
      "Processing Record 42 of Set 10 | roanoke rapids\n",
      "Processing Record 43 of Set 10 | manzanillo\n",
      "Processing Record 44 of Set 10 | ilulissat\n",
      "Processing Record 45 of Set 10 | severo-yeniseyskiy\n",
      "City not found. Skipping...\n",
      "Processing Record 46 of Set 10 | tecoanapa\n",
      "Processing Record 47 of Set 10 | wamba\n",
      "City not found. Skipping...\n",
      "Processing Record 48 of Set 10 | westport\n",
      "Processing Record 49 of Set 10 | borovskoy\n",
      "Processing Record 50 of Set 10 | kidal\n",
      "Processing Record 1 of Set 11 | kalach-na-donu\n",
      "Processing Record 2 of Set 11 | iracoubo\n",
      "Processing Record 3 of Set 11 | picayune\n",
      "Processing Record 4 of Set 11 | hit\n",
      "Processing Record 5 of Set 11 | saldanha\n",
      "Processing Record 6 of Set 11 | shahrud\n",
      "City not found. Skipping...\n",
      "Processing Record 7 of Set 11 | tabou\n",
      "City not found. Skipping...\n",
      "Processing Record 8 of Set 11 | matara\n",
      "Processing Record 9 of Set 11 | chimoio\n",
      "Processing Record 10 of Set 11 | guasdualito\n",
      "Processing Record 11 of Set 11 | gien\n",
      "Processing Record 12 of Set 11 | pandan\n",
      "Processing Record 13 of Set 11 | nizwa\n",
      "Processing Record 14 of Set 11 | mweka\n",
      "City not found. Skipping...\n",
      "Processing Record 15 of Set 11 | lewisporte\n",
      "Processing Record 16 of Set 11 | santa maria\n",
      "Processing Record 17 of Set 11 | roches noires\n",
      "Processing Record 18 of Set 11 | nochistlan\n",
      "City not found. Skipping...\n",
      "Processing Record 19 of Set 11 | kariba\n",
      "Processing Record 20 of Set 11 | pevek\n",
      "City not found. Skipping...\n",
      "City not found. Skipping...\n",
      "Processing Record 21 of Set 11 | furmanov\n",
      "Processing Record 22 of Set 11 | muros\n",
      "Processing Record 23 of Set 11 | nioro\n",
      "City not found. Skipping...\n",
      "Processing Record 24 of Set 11 | sargatskoye\n",
      "Processing Record 25 of Set 11 | chabahar\n",
      "Processing Record 26 of Set 11 | margate\n",
      "City not found. Skipping...\n",
      "Processing Record 27 of Set 11 | hofn\n",
      "Processing Record 28 of Set 11 | tommot\n",
      "Processing Record 29 of Set 11 | wasilla\n",
      "Processing Record 30 of Set 11 | gohad\n",
      "Processing Record 31 of Set 11 | beipiao\n",
      "Processing Record 32 of Set 11 | bam\n",
      "Processing Record 33 of Set 11 | thompson\n",
      "Processing Record 34 of Set 11 | brawley\n",
      "Processing Record 35 of Set 11 | amasia\n",
      "Processing Record 36 of Set 11 | lexington-fayette\n",
      "City not found. Skipping...\n",
      "Processing Record 37 of Set 11 | kasulu\n",
      "Processing Record 38 of Set 11 | araraquara\n",
      "Processing Record 39 of Set 11 | breytovo\n",
      "Processing Record 40 of Set 11 | grenaa\n",
      "Processing Record 41 of Set 11 | vrangel\n",
      "Processing Record 42 of Set 11 | imuris\n",
      "Processing Record 43 of Set 11 | banjar\n",
      "City not found. Skipping...\n",
      "Processing Record 44 of Set 11 | melo\n",
      "Processing Record 45 of Set 11 | banikoara\n"
     ]
    },
    {
     "name": "stdout",
     "output_type": "stream",
     "text": [
      "Processing Record 46 of Set 11 | mirnyy\n",
      "Processing Record 47 of Set 11 | moberly\n",
      "Processing Record 48 of Set 11 | bur gabo\n",
      "Processing Record 49 of Set 11 | kiama\n",
      "City not found. Skipping...\n",
      "Processing Record 50 of Set 11 | buribay\n",
      "Processing Record 1 of Set 12 | abonnema\n",
      "Processing Record 2 of Set 12 | udachnyy\n",
      "Processing Record 3 of Set 12 | wenling\n",
      "City not found. Skipping...\n",
      "Processing Record 4 of Set 12 | north bend\n",
      "Processing Record 5 of Set 12 | kieta\n",
      "Processing Record 6 of Set 12 | rawlins\n",
      "City not found. Skipping...\n",
      "Processing Record 7 of Set 12 | comodoro rivadavia\n",
      "Processing Record 8 of Set 12 | bilma\n",
      "Processing Record 9 of Set 12 | namibe\n",
      "Processing Record 10 of Set 12 | yuncheng\n",
      "Processing Record 11 of Set 12 | bubaque\n",
      "------------------------------\n",
      "Data Retrieval Complete\n",
      "------------------------------\n"
     ]
    }
   ],
   "source": [
    "# set lists for the dataframe\n",
    "city_name = []\n",
    "lat = []\n",
    "lng = []\n",
    "max_temp = []\n",
    "clouds = []\n",
    "humidity = []\n",
    "wind_speed = []\n",
    "country = []\n",
    "date = []\n",
    "\n",
    "# set initial count quantities for organization\n",
    "count_one = 0\n",
    "set_one = 1\n",
    "\n",
    "print(\"Beginning Data Retrieval\")    \n",
    "print(\"-----------------------------\")\n",
    "# loops for creating dataframe columns\n",
    "for city in cities:\n",
    "    try:\n",
    "        response = requests.get(query_url + city.replace(\" \",\"&\")).json()\n",
    "        lat.append(response['coord']['lat'])\n",
    "        lng.append(response['coord']['lon'])\n",
    "        max_temp.append(response['main']['temp_max'])\n",
    "        clouds.append(response['clouds']['all'])\n",
    "        humidity.append(response['main']['humidity'])\n",
    "        wind_speed.append(response['wind']['speed'])\n",
    "        country.append(response['sys']['country'])\n",
    "        date.append(response['dt'])\n",
    "        if count_one > 49:\n",
    "            count_one = 1\n",
    "            set_one += 1\n",
    "            city_name.append(city)\n",
    "        else:\n",
    "            count_one += 1\n",
    "            city_name.append(city)\n",
    "        print(f\"Processing Record {count_one} of Set {set_one} | {city}\")\n",
    "    except Exception:\n",
    "        print(\"City not found. Skipping...\")\n",
    "\n",
    "print(\"------------------------------\")\n",
    "print(\"Data Retrieval Complete\")\n",
    "print(\"------------------------------\")"
   ]
  },
  {
   "cell_type": "markdown",
   "metadata": {
    "colab_type": "text",
    "id": "gehlBwWr7U5F"
   },
   "source": [
    "## **Convert Raw Data to DataFrame**\n",
    "* Export the city data into a .csv.\n",
    "* Display the DataFrame"
   ]
  },
  {
   "cell_type": "code",
   "execution_count": 6,
   "metadata": {
    "colab": {},
    "colab_type": "code",
    "id": "0B-D2T9M7gvu"
   },
   "outputs": [],
   "source": [
    "#Create dictionary to hold dataframe\n",
    "weather_dict = {\n",
    "    \"City\":city_name,\n",
    "    \"Lat\":lat,\n",
    "    \"Lng\":lng,\n",
    "    \"Max Temp\":max_temp,\n",
    "    \"Humidity\":humidity,\n",
    "    \"Cloudiness\":clouds,\n",
    "    \"Wind Speed\":wind_speed,\n",
    "    \"Country\":country,\n",
    "    \"Date\":date,}"
   ]
  },
  {
   "cell_type": "code",
   "execution_count": 7,
   "metadata": {
    "colab": {},
    "colab_type": "code",
    "id": "PL4rzTB0SrZe"
   },
   "outputs": [],
   "source": [
    "#Create dataframe\n",
    "\n",
    "weather_df = pd.DataFrame(weather_dict)"
   ]
  },
  {
   "cell_type": "code",
   "execution_count": 8,
   "metadata": {
    "colab": {},
    "colab_type": "code",
    "id": "kmkMWXc5S-T8"
   },
   "outputs": [
    {
     "ename": "PermissionError",
     "evalue": "[Errno 13] Permission denied: 'output_data/cities.csv'",
     "output_type": "error",
     "traceback": [
      "\u001b[1;31m---------------------------------------------------------------------------\u001b[0m",
      "\u001b[1;31mPermissionError\u001b[0m                           Traceback (most recent call last)",
      "\u001b[1;32m<ipython-input-8-48feeed10a1c>\u001b[0m in \u001b[0;36m<module>\u001b[1;34m\u001b[0m\n\u001b[0;32m      1\u001b[0m \u001b[1;31m#Export to CSV\u001b[0m\u001b[1;33m\u001b[0m\u001b[1;33m\u001b[0m\u001b[1;33m\u001b[0m\u001b[0m\n\u001b[0;32m      2\u001b[0m \u001b[1;33m\u001b[0m\u001b[0m\n\u001b[1;32m----> 3\u001b[1;33m \u001b[0mweather_df\u001b[0m\u001b[1;33m.\u001b[0m\u001b[0mto_csv\u001b[0m\u001b[1;33m(\u001b[0m\u001b[0moutput_data_file\u001b[0m\u001b[1;33m)\u001b[0m\u001b[1;33m\u001b[0m\u001b[1;33m\u001b[0m\u001b[0m\n\u001b[0m",
      "\u001b[1;32m~\\anaconda3\\lib\\site-packages\\pandas\\core\\generic.py\u001b[0m in \u001b[0;36mto_csv\u001b[1;34m(self, path_or_buf, sep, na_rep, float_format, columns, header, index, index_label, mode, encoding, compression, quoting, quotechar, line_terminator, chunksize, date_format, doublequote, escapechar, decimal)\u001b[0m\n\u001b[0;32m   3202\u001b[0m             \u001b[0mdecimal\u001b[0m\u001b[1;33m=\u001b[0m\u001b[0mdecimal\u001b[0m\u001b[1;33m,\u001b[0m\u001b[1;33m\u001b[0m\u001b[1;33m\u001b[0m\u001b[0m\n\u001b[0;32m   3203\u001b[0m         )\n\u001b[1;32m-> 3204\u001b[1;33m         \u001b[0mformatter\u001b[0m\u001b[1;33m.\u001b[0m\u001b[0msave\u001b[0m\u001b[1;33m(\u001b[0m\u001b[1;33m)\u001b[0m\u001b[1;33m\u001b[0m\u001b[1;33m\u001b[0m\u001b[0m\n\u001b[0m\u001b[0;32m   3205\u001b[0m \u001b[1;33m\u001b[0m\u001b[0m\n\u001b[0;32m   3206\u001b[0m         \u001b[1;32mif\u001b[0m \u001b[0mpath_or_buf\u001b[0m \u001b[1;32mis\u001b[0m \u001b[1;32mNone\u001b[0m\u001b[1;33m:\u001b[0m\u001b[1;33m\u001b[0m\u001b[1;33m\u001b[0m\u001b[0m\n",
      "\u001b[1;32m~\\anaconda3\\lib\\site-packages\\pandas\\io\\formats\\csvs.py\u001b[0m in \u001b[0;36msave\u001b[1;34m(self)\u001b[0m\n\u001b[0;32m    186\u001b[0m                 \u001b[0mself\u001b[0m\u001b[1;33m.\u001b[0m\u001b[0mmode\u001b[0m\u001b[1;33m,\u001b[0m\u001b[1;33m\u001b[0m\u001b[1;33m\u001b[0m\u001b[0m\n\u001b[0;32m    187\u001b[0m                 \u001b[0mencoding\u001b[0m\u001b[1;33m=\u001b[0m\u001b[0mself\u001b[0m\u001b[1;33m.\u001b[0m\u001b[0mencoding\u001b[0m\u001b[1;33m,\u001b[0m\u001b[1;33m\u001b[0m\u001b[1;33m\u001b[0m\u001b[0m\n\u001b[1;32m--> 188\u001b[1;33m                 \u001b[0mcompression\u001b[0m\u001b[1;33m=\u001b[0m\u001b[0mdict\u001b[0m\u001b[1;33m(\u001b[0m\u001b[0mself\u001b[0m\u001b[1;33m.\u001b[0m\u001b[0mcompression_args\u001b[0m\u001b[1;33m,\u001b[0m \u001b[0mmethod\u001b[0m\u001b[1;33m=\u001b[0m\u001b[0mself\u001b[0m\u001b[1;33m.\u001b[0m\u001b[0mcompression\u001b[0m\u001b[1;33m)\u001b[0m\u001b[1;33m,\u001b[0m\u001b[1;33m\u001b[0m\u001b[1;33m\u001b[0m\u001b[0m\n\u001b[0m\u001b[0;32m    189\u001b[0m             )\n\u001b[0;32m    190\u001b[0m             \u001b[0mclose\u001b[0m \u001b[1;33m=\u001b[0m \u001b[1;32mTrue\u001b[0m\u001b[1;33m\u001b[0m\u001b[1;33m\u001b[0m\u001b[0m\n",
      "\u001b[1;32m~\\anaconda3\\lib\\site-packages\\pandas\\io\\common.py\u001b[0m in \u001b[0;36mget_handle\u001b[1;34m(path_or_buf, mode, encoding, compression, memory_map, is_text)\u001b[0m\n\u001b[0;32m    426\u001b[0m         \u001b[1;32mif\u001b[0m \u001b[0mencoding\u001b[0m\u001b[1;33m:\u001b[0m\u001b[1;33m\u001b[0m\u001b[1;33m\u001b[0m\u001b[0m\n\u001b[0;32m    427\u001b[0m             \u001b[1;31m# Encoding\u001b[0m\u001b[1;33m\u001b[0m\u001b[1;33m\u001b[0m\u001b[1;33m\u001b[0m\u001b[0m\n\u001b[1;32m--> 428\u001b[1;33m             \u001b[0mf\u001b[0m \u001b[1;33m=\u001b[0m \u001b[0mopen\u001b[0m\u001b[1;33m(\u001b[0m\u001b[0mpath_or_buf\u001b[0m\u001b[1;33m,\u001b[0m \u001b[0mmode\u001b[0m\u001b[1;33m,\u001b[0m \u001b[0mencoding\u001b[0m\u001b[1;33m=\u001b[0m\u001b[0mencoding\u001b[0m\u001b[1;33m,\u001b[0m \u001b[0mnewline\u001b[0m\u001b[1;33m=\u001b[0m\u001b[1;34m\"\"\u001b[0m\u001b[1;33m)\u001b[0m\u001b[1;33m\u001b[0m\u001b[1;33m\u001b[0m\u001b[0m\n\u001b[0m\u001b[0;32m    429\u001b[0m         \u001b[1;32melif\u001b[0m \u001b[0mis_text\u001b[0m\u001b[1;33m:\u001b[0m\u001b[1;33m\u001b[0m\u001b[1;33m\u001b[0m\u001b[0m\n\u001b[0;32m    430\u001b[0m             \u001b[1;31m# No explicit encoding\u001b[0m\u001b[1;33m\u001b[0m\u001b[1;33m\u001b[0m\u001b[1;33m\u001b[0m\u001b[0m\n",
      "\u001b[1;31mPermissionError\u001b[0m: [Errno 13] Permission denied: 'output_data/cities.csv'"
     ]
    }
   ],
   "source": [
    "#Export to CSV\n",
    "\n",
    "weather_df.to_csv(output_data_file)"
   ]
  },
  {
   "cell_type": "code",
   "execution_count": 9,
   "metadata": {
    "colab": {
     "base_uri": "https://localhost:8080/",
     "height": 187
    },
    "colab_type": "code",
    "id": "YSSxZ_p7T-0n",
    "outputId": "0e1caae5-e45f-480c-e099-6b92b894ce05"
   },
   "outputs": [
    {
     "data": {
      "text/plain": [
       "City          561\n",
       "Lat           561\n",
       "Lng           561\n",
       "Max Temp      561\n",
       "Humidity      561\n",
       "Cloudiness    561\n",
       "Wind Speed    561\n",
       "Country       561\n",
       "Date          561\n",
       "dtype: int64"
      ]
     },
     "execution_count": 9,
     "metadata": {},
     "output_type": "execute_result"
    }
   ],
   "source": [
    "#Show count\n",
    "\n",
    "weather_df.count()"
   ]
  },
  {
   "cell_type": "code",
   "execution_count": 10,
   "metadata": {
    "colab": {
     "base_uri": "https://localhost:8080/",
     "height": 419
    },
    "colab_type": "code",
    "id": "rq0uGkLnUEk4",
    "outputId": "42400b8f-1451-48b0-b660-297c9826c5da"
   },
   "outputs": [
    {
     "data": {
      "text/html": [
       "<div>\n",
       "<style scoped>\n",
       "    .dataframe tbody tr th:only-of-type {\n",
       "        vertical-align: middle;\n",
       "    }\n",
       "\n",
       "    .dataframe tbody tr th {\n",
       "        vertical-align: top;\n",
       "    }\n",
       "\n",
       "    .dataframe thead th {\n",
       "        text-align: right;\n",
       "    }\n",
       "</style>\n",
       "<table border=\"1\" class=\"dataframe\">\n",
       "  <thead>\n",
       "    <tr style=\"text-align: right;\">\n",
       "      <th></th>\n",
       "      <th>City</th>\n",
       "      <th>Lat</th>\n",
       "      <th>Lng</th>\n",
       "      <th>Max Temp</th>\n",
       "      <th>Humidity</th>\n",
       "      <th>Cloudiness</th>\n",
       "      <th>Wind Speed</th>\n",
       "      <th>Country</th>\n",
       "      <th>Date</th>\n",
       "    </tr>\n",
       "  </thead>\n",
       "  <tbody>\n",
       "    <tr>\n",
       "      <th>0</th>\n",
       "      <td>dunedin</td>\n",
       "      <td>-45.87</td>\n",
       "      <td>170.50</td>\n",
       "      <td>59.25</td>\n",
       "      <td>52</td>\n",
       "      <td>72</td>\n",
       "      <td>17.87</td>\n",
       "      <td>NZ</td>\n",
       "      <td>1598750990</td>\n",
       "    </tr>\n",
       "    <tr>\n",
       "      <th>1</th>\n",
       "      <td>cape town</td>\n",
       "      <td>-36.41</td>\n",
       "      <td>-71.90</td>\n",
       "      <td>42.80</td>\n",
       "      <td>70</td>\n",
       "      <td>0</td>\n",
       "      <td>11.41</td>\n",
       "      <td>CL</td>\n",
       "      <td>1598750990</td>\n",
       "    </tr>\n",
       "    <tr>\n",
       "      <th>2</th>\n",
       "      <td>bredasdorp</td>\n",
       "      <td>-34.53</td>\n",
       "      <td>20.04</td>\n",
       "      <td>42.80</td>\n",
       "      <td>87</td>\n",
       "      <td>4</td>\n",
       "      <td>5.82</td>\n",
       "      <td>ZA</td>\n",
       "      <td>1598750990</td>\n",
       "    </tr>\n",
       "    <tr>\n",
       "      <th>3</th>\n",
       "      <td>isangel</td>\n",
       "      <td>-19.55</td>\n",
       "      <td>169.27</td>\n",
       "      <td>77.00</td>\n",
       "      <td>69</td>\n",
       "      <td>75</td>\n",
       "      <td>16.11</td>\n",
       "      <td>VU</td>\n",
       "      <td>1598750990</td>\n",
       "    </tr>\n",
       "    <tr>\n",
       "      <th>4</th>\n",
       "      <td>mattru</td>\n",
       "      <td>7.62</td>\n",
       "      <td>-11.83</td>\n",
       "      <td>72.52</td>\n",
       "      <td>97</td>\n",
       "      <td>100</td>\n",
       "      <td>3.15</td>\n",
       "      <td>SL</td>\n",
       "      <td>1598750991</td>\n",
       "    </tr>\n",
       "    <tr>\n",
       "      <th>...</th>\n",
       "      <td>...</td>\n",
       "      <td>...</td>\n",
       "      <td>...</td>\n",
       "      <td>...</td>\n",
       "      <td>...</td>\n",
       "      <td>...</td>\n",
       "      <td>...</td>\n",
       "      <td>...</td>\n",
       "      <td>...</td>\n",
       "    </tr>\n",
       "    <tr>\n",
       "      <th>556</th>\n",
       "      <td>comodoro rivadavia</td>\n",
       "      <td>-13.66</td>\n",
       "      <td>-59.79</td>\n",
       "      <td>78.60</td>\n",
       "      <td>33</td>\n",
       "      <td>2</td>\n",
       "      <td>4.38</td>\n",
       "      <td>BR</td>\n",
       "      <td>1598751131</td>\n",
       "    </tr>\n",
       "    <tr>\n",
       "      <th>557</th>\n",
       "      <td>bilma</td>\n",
       "      <td>18.69</td>\n",
       "      <td>12.92</td>\n",
       "      <td>85.53</td>\n",
       "      <td>53</td>\n",
       "      <td>49</td>\n",
       "      <td>19.44</td>\n",
       "      <td>NE</td>\n",
       "      <td>1598751131</td>\n",
       "    </tr>\n",
       "    <tr>\n",
       "      <th>558</th>\n",
       "      <td>namibe</td>\n",
       "      <td>-15.20</td>\n",
       "      <td>12.15</td>\n",
       "      <td>60.04</td>\n",
       "      <td>74</td>\n",
       "      <td>0</td>\n",
       "      <td>3.83</td>\n",
       "      <td>AO</td>\n",
       "      <td>1598751131</td>\n",
       "    </tr>\n",
       "    <tr>\n",
       "      <th>559</th>\n",
       "      <td>yuncheng</td>\n",
       "      <td>35.02</td>\n",
       "      <td>110.99</td>\n",
       "      <td>82.11</td>\n",
       "      <td>55</td>\n",
       "      <td>0</td>\n",
       "      <td>3.40</td>\n",
       "      <td>CN</td>\n",
       "      <td>1598751132</td>\n",
       "    </tr>\n",
       "    <tr>\n",
       "      <th>560</th>\n",
       "      <td>bubaque</td>\n",
       "      <td>11.28</td>\n",
       "      <td>-15.83</td>\n",
       "      <td>79.00</td>\n",
       "      <td>82</td>\n",
       "      <td>100</td>\n",
       "      <td>10.58</td>\n",
       "      <td>GW</td>\n",
       "      <td>1598751132</td>\n",
       "    </tr>\n",
       "  </tbody>\n",
       "</table>\n",
       "<p>561 rows × 9 columns</p>\n",
       "</div>"
      ],
      "text/plain": [
       "                   City    Lat     Lng  Max Temp  Humidity  Cloudiness  \\\n",
       "0               dunedin -45.87  170.50     59.25        52          72   \n",
       "1             cape town -36.41  -71.90     42.80        70           0   \n",
       "2            bredasdorp -34.53   20.04     42.80        87           4   \n",
       "3               isangel -19.55  169.27     77.00        69          75   \n",
       "4                mattru   7.62  -11.83     72.52        97         100   \n",
       "..                  ...    ...     ...       ...       ...         ...   \n",
       "556  comodoro rivadavia -13.66  -59.79     78.60        33           2   \n",
       "557               bilma  18.69   12.92     85.53        53          49   \n",
       "558              namibe -15.20   12.15     60.04        74           0   \n",
       "559            yuncheng  35.02  110.99     82.11        55           0   \n",
       "560             bubaque  11.28  -15.83     79.00        82         100   \n",
       "\n",
       "     Wind Speed Country        Date  \n",
       "0         17.87      NZ  1598750990  \n",
       "1         11.41      CL  1598750990  \n",
       "2          5.82      ZA  1598750990  \n",
       "3         16.11      VU  1598750990  \n",
       "4          3.15      SL  1598750991  \n",
       "..          ...     ...         ...  \n",
       "556        4.38      BR  1598751131  \n",
       "557       19.44      NE  1598751131  \n",
       "558        3.83      AO  1598751131  \n",
       "559        3.40      CN  1598751132  \n",
       "560       10.58      GW  1598751132  \n",
       "\n",
       "[561 rows x 9 columns]"
      ]
     },
     "execution_count": 10,
     "metadata": {},
     "output_type": "execute_result"
    }
   ],
   "source": [
    "#Display the dataframe\n",
    "\n",
    "weather_df"
   ]
  },
  {
   "cell_type": "markdown",
   "metadata": {
    "colab_type": "text",
    "id": "mRh0CMaN7hDV"
   },
   "source": [
    "## **Inspect the data and remove the cities where the humidity > 100%.¶**\n",
    "* Skip this step if there are no cities that have humidity > 100%."
   ]
  },
  {
   "cell_type": "code",
   "execution_count": 11,
   "metadata": {
    "colab": {
     "base_uri": "https://localhost:8080/",
     "height": 68
    },
    "colab_type": "code",
    "id": "Yxhjnh-n7uQp",
    "outputId": "4fcd63e8-f1b1-4fc2-9714-27e41a0f2ae4"
   },
   "outputs": [
    {
     "name": "stdout",
     "output_type": "stream",
     "text": [
      "Empty DataFrame\n",
      "Columns: [City, Lat, Lng, Max Temp, Humidity, Cloudiness, Wind Speed, Country, Date]\n",
      "Index: []\n"
     ]
    }
   ],
   "source": [
    "high_humidity = weather_df.loc[weather_df[\"Humidity\"] > 100, :]\n",
    "\n",
    "print(high_humidity)"
   ]
  },
  {
   "cell_type": "markdown",
   "metadata": {
    "colab_type": "text",
    "id": "Wl_4UEIjXNUN"
   },
   "source": [
    "## **Plotting the Data**\n",
    "* Use proper labeling of the plots using plot titles (including date of analysis) and axes labels.\n",
    "* Save the plotted figures as .pngs."
   ]
  },
  {
   "cell_type": "markdown",
   "metadata": {
    "colab_type": "text",
    "id": "WHoxZXkZXaqF"
   },
   "source": [
    "### Latitude vs. Temperature Plot"
   ]
  },
  {
   "cell_type": "code",
   "execution_count": 12,
   "metadata": {
    "colab": {
     "base_uri": "https://localhost:8080/",
     "height": 635
    },
    "colab_type": "code",
    "id": "HFP2vkzxW96B",
    "outputId": "39c27f60-a773-4562-c2c1-f22c975aa3a5"
   },
   "outputs": [
    {
     "data": {
      "image/png": "[encoded data removed]",
      "text/plain": [
       "<Figure size 432x288 with 1 Axes>"
      ]
     },
     "metadata": {
      "needs_background": "light"
     },
     "output_type": "display_data"
    }
   ],
   "source": [
    "plt.scatter(weather_df[\"Lat\"],weather_df[\"Max Temp\"],edgecolors=\"black\",facecolors=\"blue\")\n",
    "plt.title(\"City Latitude vs. Max Temperature (08/29/20)\")\n",
    "plt.xlabel(\"Latitude\")\n",
    "plt.ylabel(\"Max Temperature (F)\")\n",
    "plt.grid (b=True,which=\"major\",axis=\"both\",linestyle=\"-\",color=\"lightgrey\")\n",
    "plt.savefig(\"output_data/Fig1.png\")\n",
    "plt.show()"
   ]
  },
  {
   "cell_type": "markdown",
   "metadata": {
    "colab_type": "text",
    "id": "U-s4dy_jaeS4"
   },
   "source": [
    "### Latitude vs. Humidity Plot"
   ]
  },
  {
   "cell_type": "code",
   "execution_count": 13,
   "metadata": {
    "colab": {
     "base_uri": "https://localhost:8080/",
     "height": 635
    },
    "colab_type": "code",
    "id": "4BUYvYkEYHUO",
    "outputId": "a534b93e-7363-4028-9219-900bbda00530"
   },
   "outputs": [
    {
     "data": {
      "image/png": "[encoded data removed]",
      "text/plain": [
       "<Figure size 432x288 with 1 Axes>"
      ]
     },
     "metadata": {
      "needs_background": "light"
     },
     "output_type": "display_data"
    }
   ],
   "source": [
    "\n",
    "plt.scatter(weather_df[\"Lat\"],weather_df[\"Humidity\"],edgecolors=\"black\",facecolors=\"blue\")\n",
    "plt.title(\"City Latitude vs. Humidity (08/29/20)\")\n",
    "plt.xlabel(\"Latitude\")\n",
    "plt.ylabel(\"Humidity (%)\")\n",
    "plt.ylim(15,105)\n",
    "plt.grid (b=True,which=\"major\",axis=\"both\",linestyle=\"-\",color=\"lightgrey\")\n",
    "plt.savefig(\"output_data/Fig2.png\")\n",
    "plt.show()"
   ]
  },
  {
   "cell_type": "markdown",
   "metadata": {
    "colab_type": "text",
    "id": "Tnl-D-djbTaM"
   },
   "source": [
    "### Latitude vs. Cloudiness Plot"
   ]
  },
  {
   "cell_type": "code",
   "execution_count": 14,
   "metadata": {
    "colab": {
     "base_uri": "https://localhost:8080/",
     "height": 635
    },
    "colab_type": "code",
    "id": "Vzw4J52lawGC",
    "outputId": "86ff011f-958a-40ff-b4b8-7892c22363e2"
   },
   "outputs": [
    {
     "data": {
      "image/png": "[encoded data removed]",
      "text/plain": [
       "<Figure size 432x288 with 1 Axes>"
      ]
     },
     "metadata": {
      "needs_background": "light"
     },
     "output_type": "display_data"
    }
   ],
   "source": [
    "plt.scatter(weather_df[\"Lat\"],weather_df[\"Cloudiness\"],edgecolors=\"black\",facecolors=\"blue\")\n",
    "plt.title(\"City Latitude vs. Cloudiness (08/29/2020)\")\n",
    "plt.xlabel(\"Latitude\")\n",
    "plt.ylabel(\"Cloudiness (%)\")\n",
    "plt.grid (b=True,which=\"major\",axis=\"both\",linestyle=\"-\",color=\"lightgrey\")\n",
    "plt.savefig(\"output_data/Fig3.png\")\n",
    "plt.show()"
   ]
  },
  {
   "cell_type": "markdown",
   "metadata": {
    "colab_type": "text",
    "id": "uzL8COV9bhDj"
   },
   "source": [
    "### Latitude vs. Wind Speed Plot"
   ]
  },
  {
   "cell_type": "code",
   "execution_count": 15,
   "metadata": {
    "colab": {
     "base_uri": "https://localhost:8080/",
     "height": 635
    },
    "colab_type": "code",
    "id": "Lsqf-yDlbkFA",
    "outputId": "77434774-737d-425b-b232-cd84cb73eb3b"
   },
   "outputs": [
    {
     "data": {
      "image/png": "[encoded data removed]",
      "text/plain": [
       "<Figure size 432x288 with 1 Axes>"
      ]
     },
     "metadata": {
      "needs_background": "light"
     },
     "output_type": "display_data"
    }
   ],
   "source": [
    "plt.scatter(weather_df[\"Lat\"],weather_df[\"Wind Speed\"],edgecolors=\"black\",facecolors=\"blue\")\n",
    "plt.title(\"City Latitude vs. Wind Speed (08/29/2020)\")\n",
    "plt.xlabel(\"Latitude\")\n",
    "plt.ylabel(\"Wind Speed (mph)\")\n",
    "plt.ylim(-2,35)\n",
    "plt.grid (b=True,which=\"major\",axis=\"both\",linestyle=\"-\",color=\"lightgrey\")\n",
    "plt.savefig(\"output_data/Fig4.png\")\n",
    "plt.show()"
   ]
  },
  {
   "cell_type": "markdown",
   "metadata": {
    "colab_type": "text",
    "id": "orpHtMIOcGbX"
   },
   "source": [
    "## **Linear Regression**"
   ]
  },
  {
   "cell_type": "code",
   "execution_count": 16,
   "metadata": {
    "colab": {},
    "colab_type": "code",
    "id": "lr-ylhezhJDD"
   },
   "outputs": [],
   "source": [
    "# Create Northern and Southern Hemisphere DataFrames\n",
    "\n",
    "northern_df = weather_df.loc[weather_df[\"Lat\"] > 0, :]\n",
    "southern_df = weather_df.loc[weather_df[\"Lat\"] < 0, :]"
   ]
  },
  {
   "cell_type": "markdown",
   "metadata": {
    "colab_type": "text",
    "id": "QYPNgcDBc-UB"
   },
   "source": [
    "### Northern Hemisphere - Max Temp vs. Latitude Linear Regression"
   ]
  },
  {
   "cell_type": "code",
   "execution_count": 17,
   "metadata": {
    "colab": {
     "base_uri": "https://localhost:8080/",
     "height": 326
    },
    "colab_type": "code",
    "id": "SR0pwSiUiJ6m",
    "outputId": "2de8442f-9f8d-4d44-e263-c1fbfca3d11a"
   },
   "outputs": [
    {
     "ename": "NameError",
     "evalue": "name 'linregress' is not defined",
     "output_type": "error",
     "traceback": [
      "\u001b[1;31m---------------------------------------------------------------------------\u001b[0m",
      "\u001b[1;31mNameError\u001b[0m                                 Traceback (most recent call last)",
      "\u001b[1;32m<ipython-input-17-274f445a432f>\u001b[0m in \u001b[0;36m<module>\u001b[1;34m\u001b[0m\n\u001b[0;32m      1\u001b[0m \u001b[0mx_values\u001b[0m \u001b[1;33m=\u001b[0m \u001b[0mnorthern_df\u001b[0m\u001b[1;33m[\u001b[0m\u001b[1;34m\"Lat\"\u001b[0m\u001b[1;33m]\u001b[0m\u001b[1;33m\u001b[0m\u001b[1;33m\u001b[0m\u001b[0m\n\u001b[0;32m      2\u001b[0m \u001b[0my_values\u001b[0m \u001b[1;33m=\u001b[0m \u001b[0mnorthern_df\u001b[0m\u001b[1;33m[\u001b[0m\u001b[1;34m\"Max Temp\"\u001b[0m\u001b[1;33m]\u001b[0m\u001b[1;33m\u001b[0m\u001b[1;33m\u001b[0m\u001b[0m\n\u001b[1;32m----> 3\u001b[1;33m \u001b[1;33m(\u001b[0m\u001b[0mslope\u001b[0m\u001b[1;33m,\u001b[0m \u001b[0mintercept\u001b[0m\u001b[1;33m,\u001b[0m \u001b[0mrvalue\u001b[0m\u001b[1;33m,\u001b[0m \u001b[0mpvalue\u001b[0m\u001b[1;33m,\u001b[0m \u001b[0mstderr\u001b[0m\u001b[1;33m)\u001b[0m \u001b[1;33m=\u001b[0m \u001b[0mlinregress\u001b[0m\u001b[1;33m(\u001b[0m\u001b[0mx_values\u001b[0m\u001b[1;33m,\u001b[0m \u001b[0my_values\u001b[0m\u001b[1;33m)\u001b[0m\u001b[1;33m\u001b[0m\u001b[1;33m\u001b[0m\u001b[0m\n\u001b[0m\u001b[0;32m      4\u001b[0m \u001b[0mregress_values\u001b[0m \u001b[1;33m=\u001b[0m \u001b[0mx_values\u001b[0m \u001b[1;33m*\u001b[0m \u001b[0mslope\u001b[0m \u001b[1;33m+\u001b[0m \u001b[0mintercept\u001b[0m\u001b[1;33m\u001b[0m\u001b[1;33m\u001b[0m\u001b[0m\n\u001b[0;32m      5\u001b[0m \u001b[0mline_eq\u001b[0m \u001b[1;33m=\u001b[0m \u001b[1;34m\"y = \"\u001b[0m \u001b[1;33m+\u001b[0m \u001b[0mstr\u001b[0m\u001b[1;33m(\u001b[0m\u001b[0mround\u001b[0m\u001b[1;33m(\u001b[0m\u001b[0mslope\u001b[0m\u001b[1;33m,\u001b[0m\u001b[1;36m2\u001b[0m\u001b[1;33m)\u001b[0m\u001b[1;33m)\u001b[0m \u001b[1;33m+\u001b[0m \u001b[1;34m\"x + \"\u001b[0m \u001b[1;33m+\u001b[0m \u001b[0mstr\u001b[0m\u001b[1;33m(\u001b[0m\u001b[0mround\u001b[0m\u001b[1;33m(\u001b[0m\u001b[0mintercept\u001b[0m\u001b[1;33m,\u001b[0m\u001b[1;36m2\u001b[0m\u001b[1;33m)\u001b[0m\u001b[1;33m)\u001b[0m\u001b[1;33m\u001b[0m\u001b[1;33m\u001b[0m\u001b[0m\n",
      "\u001b[1;31mNameError\u001b[0m: name 'linregress' is not defined"
     ]
    }
   ],
   "source": [
    "x_values = northern_df[\"Lat\"]\n",
    "y_values = northern_df[\"Max Temp\"]\n",
    "(slope, intercept, rvalue, pvalue, stderr) = linregress(x_values, y_values)\n",
    "regress_values = x_values * slope + intercept\n",
    "line_eq = \"y = \" + str(round(slope,2)) + \"x + \" + str(round(intercept,2))\n",
    "plt.scatter(x_values,y_values)\n",
    "plt.plot(x_values,regress_values,\"r-\")\n",
    "plt.annotate(line_eq,(6,10),fontsize=15,color=\"red\")\n",
    "plt.xlabel('Latitude')\n",
    "plt.ylabel('Max Temp')\n",
    "print(f\"The r-squared is: {rvalue**2}\")\n",
    "plt.show()"
   ]
  },
  {
   "cell_type": "markdown",
   "metadata": {
    "colab_type": "text",
    "id": "VjwiYctAdADN"
   },
   "source": [
    "### Southern Hemisphere - Max Temp vs. Latitude Linear Regression"
   ]
  },
  {
   "cell_type": "code",
   "execution_count": 52,
   "metadata": {
    "colab": {
     "base_uri": "https://localhost:8080/",
     "height": 336
    },
    "colab_type": "code",
    "id": "nV5Cttxyjayj",
    "outputId": "3868cc24-1651-4528-e972-5aa280657ea0"
   },
   "outputs": [
    {
     "name": "stdout",
     "output_type": "stream",
     "text": [
      "The r-squared is: 0.5247052223082558\n"
     ]
    },
    {
     "data": {
      "image/png": "[encoded data removed]",
      "text/plain": [
       "<Figure size 432x288 with 1 Axes>"
      ]
     },
     "metadata": {
      "needs_background": "light",
      "tags": []
     },
     "output_type": "display_data"
    }
   ],
   "source": [
    "x_values2 = southern_df[\"Lat\"]\n",
    "y_values2 = southern_df[\"Max Temp\"]\n",
    "(slope, intercept, rvalue, pvalue, stderr) = linregress(x_values2, y_values2)\n",
    "regress_values2 = x_values2 * slope + intercept\n",
    "line_eq2 = \"y = \" + str(round(slope,2)) + \"x + \" + str(round(intercept,2))\n",
    "plt.scatter(x_values2,y_values2)\n",
    "plt.plot(x_values2,regress_values2,\"r-\")\n",
    "plt.annotate(line_eq2,(6,10),fontsize=15,color=\"red\")\n",
    "plt.xlabel('Latitude')\n",
    "plt.ylabel('Max Temp')\n",
    "print(f\"The r-squared is: {rvalue**2}\")\n",
    "plt.show()"
   ]
  },
  {
   "cell_type": "code",
   "execution_count": 22,
   "metadata": {},
   "outputs": [],
   "source": [
    "#There is a moderate negative correlation between Max Temp and Latitutude in the Northern Hemisphere and a moderate positive correlation between the two in the Southern Hemisphere. \n"
   ]
  },
  {
   "cell_type": "markdown",
   "metadata": {
    "colab_type": "text",
    "id": "YPcoEm4udCk3"
   },
   "source": [
    "### Northern Hemisphere - Humidity (%) vs. Latitude Linear Regression"
   ]
  },
  {
   "cell_type": "code",
   "execution_count": 55,
   "metadata": {
    "colab": {
     "base_uri": "https://localhost:8080/",
     "height": 296
    },
    "colab_type": "code",
    "id": "J6KqmrgxkdPp",
    "outputId": "e2ed53f6-9f81-4818-a2ed-714e4e121f59"
   },
   "outputs": [
    {
     "name": "stdout",
     "output_type": "stream",
     "text": [
      "The r-squared is: 2.7726860688383078e-05\n"
     ]
    },
    {
     "data": {
      "image/png": "[encoded data removed]",
      "text/plain": [
       "<Figure size 432x288 with 1 Axes>"
      ]
     },
     "metadata": {
      "needs_background": "light",
      "tags": []
     },
     "output_type": "display_data"
    }
   ],
   "source": [
    "x_values3 = northern_df[\"Lat\"]\n",
    "y_values3 = northern_df[\"Humidity\"]\n",
    "(slope, intercept, rvalue, pvalue, stderr) = linregress(x_values3, y_values3)\n",
    "regress_values3 = x_values3 * slope + intercept\n",
    "line_eq3 = \"y = \" + str(round(slope,2)) + \"x + \" + str(round(intercept,2))\n",
    "plt.scatter(x_values3,y_values3)\n",
    "plt.plot(x_values3,regress_values3,\"r-\")\n",
    "plt.annotate(line_eq3,(6,10),fontsize=15,color=\"red\")\n",
    "plt.xlabel('Latitude')\n",
    "plt.ylabel('Humidity')\n",
    "print(f\"The r-squared is: {rvalue**2}\")\n",
    "plt.show()"
   ]
  },
  {
   "cell_type": "markdown",
   "metadata": {
    "colab_type": "text",
    "id": "oJ6BMLZ-dGzN"
   },
   "source": [
    "### Southern Hemisphere - Humidity (%) vs. Latitude Linear Regression\n"
   ]
  },
  {
   "cell_type": "code",
   "execution_count": 56,
   "metadata": {
    "colab": {
     "base_uri": "https://localhost:8080/",
     "height": 296
    },
    "colab_type": "code",
    "id": "kYpNSU-jkfaT",
    "outputId": "d8c07763-0ae2-4bb2-d5d0-a5be616c2e9f"
   },
   "outputs": [
    {
     "name": "stdout",
     "output_type": "stream",
     "text": [
      "The r-squared is: 0.018769512815177553\n"
     ]
    },
    {
     "data": {
      "image/png": "[encoded data removed]",
      "text/plain": [
       "<Figure size 432x288 with 1 Axes>"
      ]
     },
     "metadata": {
      "needs_background": "light",
      "tags": []
     },
     "output_type": "display_data"
    }
   ],
   "source": [
    "x_values4 = southern_df[\"Lat\"]\n",
    "y_values4 = southern_df[\"Humidity\"]\n",
    "(slope, intercept, rvalue, pvalue, stderr) = linregress(x_values4, y_values4)\n",
    "regress_values4 = x_values4 * slope + intercept\n",
    "line_eq4 = \"y = \" + str(round(slope,2)) + \"x + \" + str(round(intercept,2))\n",
    "plt.scatter(x_values4,y_values4)\n",
    "plt.plot(x_values4,regress_values4,\"r-\")\n",
    "plt.annotate(line_eq4,(6,10),fontsize=15,color=\"red\")\n",
    "plt.xlabel('Latitude')\n",
    "plt.ylabel('Humidity')\n",
    "print(f\"The r-squared is: {rvalue**2}\")\n",
    "plt.show()"
   ]
  },
  {
   "cell_type": "code",
   "execution_count": 21,
   "metadata": {},
   "outputs": [],
   "source": [
    "#There seems to be little to no correlation between Humidity and Latitude in both hemispheres."
   ]
  },
  {
   "cell_type": "markdown",
   "metadata": {
    "colab_type": "text",
    "id": "CgueanuhfNVW"
   },
   "source": [
    "### Northern Hemisphere - Cloudiness (%) vs. Latitude Linear Regression"
   ]
  },
  {
   "cell_type": "code",
   "execution_count": 57,
   "metadata": {
    "colab": {
     "base_uri": "https://localhost:8080/",
     "height": 296
    },
    "colab_type": "code",
    "id": "H_oidTRdleOt",
    "outputId": "f14caeac-12c5-4f1c-e31e-6ae4e21d9ee9"
   },
   "outputs": [
    {
     "name": "stdout",
     "output_type": "stream",
     "text": [
      "The r-squared is: 0.0002708737645012278\n"
     ]
    },
    {
     "data": {
      "image/png": "[encoded data removed]",
      "text/plain": [
       "<Figure size 432x288 with 1 Axes>"
      ]
     },
     "metadata": {
      "needs_background": "light",
      "tags": []
     },
     "output_type": "display_data"
    }
   ],
   "source": [
    "x_values5 = northern_df[\"Lat\"]\n",
    "y_values5 = northern_df[\"Cloudiness\"]\n",
    "(slope, intercept, rvalue, pvalue, stderr) = linregress(x_values5, y_values5)\n",
    "regress_values5 = x_values5 * slope + intercept\n",
    "line_eq5 = \"y = \" + str(round(slope,2)) + \"x + \" + str(round(intercept,2))\n",
    "plt.scatter(x_values5,y_values5)\n",
    "plt.plot(x_values5,regress_values5,\"r-\")\n",
    "plt.annotate(line_eq5,(6,10),fontsize=15,color=\"red\")\n",
    "plt.xlabel('Latitude')\n",
    "plt.ylabel('Cloudiness')\n",
    "print(f\"The r-squared is: {rvalue**2}\")\n",
    "plt.show()"
   ]
  },
  {
   "cell_type": "markdown",
   "metadata": {
    "colab_type": "text",
    "id": "uDroMDKTgKYf"
   },
   "source": [
    "### Southern Hemisphere - Cloudiness (%) vs. Latitude Linear Regression"
   ]
  },
  {
   "cell_type": "code",
   "execution_count": 58,
   "metadata": {
    "colab": {
     "base_uri": "https://localhost:8080/",
     "height": 296
    },
    "colab_type": "code",
    "id": "Rgg7_Rgbkgvn",
    "outputId": "529006b4-0160-437b-aba7-8aff700711e3"
   },
   "outputs": [
    {
     "name": "stdout",
     "output_type": "stream",
     "text": [
      "The r-squared is: 0.0006742716865119821\n"
     ]
    },
    {
     "data": {
      "image/png": "[encoded data removed]",
      "text/plain": [
       "<Figure size 432x288 with 1 Axes>"
      ]
     },
     "metadata": {
      "needs_background": "light",
      "tags": []
     },
     "output_type": "display_data"
    }
   ],
   "source": [
    "x_values6 = southern_df[\"Lat\"]\n",
    "y_values6 = southern_df[\"Cloudiness\"]\n",
    "(slope, intercept, rvalue, pvalue, stderr) = linregress(x_values6, y_values6)\n",
    "regress_values6 = x_values6 * slope + intercept\n",
    "line_eq6 = \"y = \" + str(round(slope,2)) + \"x + \" + str(round(intercept,2))\n",
    "plt.scatter(x_values6,y_values6)\n",
    "plt.plot(x_values6,regress_values6,\"r-\")\n",
    "plt.annotate(line_eq6,(6,10),fontsize=15,color=\"red\")\n",
    "plt.xlabel('Latitude')\n",
    "plt.ylabel('Cloudiness')\n",
    "print(f\"The r-squared is: {rvalue**2}\")\n",
    "plt.show()"
   ]
  },
  {
   "cell_type": "code",
   "execution_count": 20,
   "metadata": {},
   "outputs": [],
   "source": [
    "#There seems to be little to no correlation between Cloudiness and Latitude in both hemispheres. "
   ]
  },
  {
   "cell_type": "markdown",
   "metadata": {
    "colab_type": "text",
    "id": "oQTKnqBPgNqb"
   },
   "source": [
    "### Northern Hemisphere - Wind Speed (mph) vs. Latitude Linear Regression"
   ]
  },
  {
   "cell_type": "code",
   "execution_count": 59,
   "metadata": {
    "colab": {
     "base_uri": "https://localhost:8080/",
     "height": 296
    },
    "colab_type": "code",
    "id": "qjgPd-XvmSfb",
    "outputId": "14bf48bb-f9e2-4aa4-c736-c5055fff3360"
   },
   "outputs": [
    {
     "name": "stdout",
     "output_type": "stream",
     "text": [
      "The r-squared is: 0.00046927357340637043\n"
     ]
    },
    {
     "data": {
      "image/png": "[encoded data removed]",
      "text/plain": [
       "<Figure size 432x288 with 1 Axes>"
      ]
     },
     "metadata": {
      "needs_background": "light",
      "tags": []
     },
     "output_type": "display_data"
    }
   ],
   "source": [
    "x_values7 = northern_df[\"Lat\"]\n",
    "y_values7 = northern_df[\"Wind Speed\"]\n",
    "(slope, intercept, rvalue, pvalue, stderr) = linregress(x_values7, y_values7)\n",
    "regress_values7 = x_values7 * slope + intercept\n",
    "line_eq7 = \"y = \" + str(round(slope,2)) + \"x + \" + str(round(intercept,2))\n",
    "plt.scatter(x_values7,y_values7)\n",
    "plt.plot(x_values7,regress_values7,\"r-\")\n",
    "plt.annotate(line_eq7,(6,10),fontsize=15,color=\"red\")\n",
    "plt.xlabel('Latitude')\n",
    "plt.ylabel('Wind Speed')\n",
    "print(f\"The r-squared is: {rvalue**2}\")\n",
    "plt.show()"
   ]
  },
  {
   "cell_type": "markdown",
   "metadata": {
    "colab_type": "text",
    "id": "NjUeY41OgQ9g"
   },
   "source": [
    "### Southern Hemisphere - Wind Speed (mph) vs. Latitude Linear Regression"
   ]
  },
  {
   "cell_type": "code",
   "execution_count": 60,
   "metadata": {
    "colab": {
     "base_uri": "https://localhost:8080/",
     "height": 296
    },
    "colab_type": "code",
    "id": "15SgDWIxclTp",
    "outputId": "2db0a48b-848e-4305-b567-7566df0bd6ef"
   },
   "outputs": [
    {
     "name": "stdout",
     "output_type": "stream",
     "text": [
      "The r-squared is: 0.025316193481050818\n"
     ]
    },
    {
     "data": {
      "image/png": "[encoded data removed]",
      "text/plain": [
       "<Figure size 432x288 with 1 Axes>"
      ]
     },
     "metadata": {
      "needs_background": "light",
      "tags": []
     },
     "output_type": "display_data"
    }
   ],
   "source": [
    "x_values8 = southern_df[\"Lat\"]\n",
    "y_values8 = southern_df[\"Wind Speed\"]\n",
    "(slope, intercept, rvalue, pvalue, stderr) = linregress(x_values8, y_values8)\n",
    "regress_values8 = x_values8 * slope + intercept\n",
    "line_eq8 = \"y = \" + str(round(slope,2)) + \"x + \" + str(round(intercept,2))\n",
    "plt.scatter(x_values8,y_values8)\n",
    "plt.plot(x_values8,regress_values8,\"r-\")\n",
    "plt.annotate(line_eq8,(6,10),fontsize=15,color=\"red\")\n",
    "plt.xlabel('Latitude')\n",
    "plt.ylabel('Wind Speed')\n",
    "print(f\"The r-squared is: {rvalue**2}\")\n",
    "plt.show()"
   ]
  },
  {
   "cell_type": "code",
   "execution_count": 19,
   "metadata": {
    "colab": {},
    "colab_type": "code",
    "id": "tF6Bnhl8oSRs"
   },
   "outputs": [],
   "source": [
    "#There seems to be little to no correlation between Cloudiness and Latitude in both hemispheres. The Windspeed overall in the Northern Hemisphere is fairly low. "
   ]
  },
  {
   "cell_type": "code",
   "execution_count": null,
   "metadata": {},
   "outputs": [],
   "source": []
  }
 ],
 "metadata": {
  "colab": {
   "collapsed_sections": [
    "_hHKMjToz40C",
    "vMN6ZQpY0ELb",
    "gehlBwWr7U5F",
    "mRh0CMaN7hDV",
    "Wl_4UEIjXNUN",
    "WHoxZXkZXaqF",
    "U-s4dy_jaeS4",
    "Tnl-D-djbTaM",
    "orpHtMIOcGbX",
    "QYPNgcDBc-UB",
    "VjwiYctAdADN",
    "YPcoEm4udCk3",
    "oJ6BMLZ-dGzN",
    "CgueanuhfNVW",
    "uDroMDKTgKYf",
    "oQTKnqBPgNqb",
    "NjUeY41OgQ9g"
   ],
   "name": "WeatherPy",
   "provenance": []
  },
  "kernelspec": {
   "display_name": "Python 3",
   "language": "python",
   "name": "python3"
  },
  "language_info": {
   "codemirror_mode": {
    "name": "ipython",
    "version": 3
   },
   "file_extension": ".py",
   "mimetype": "text/x-python",
   "name": "python",
   "nbconvert_exporter": "python",
   "pygments_lexer": "ipython3",
   "version": "3.7.6"
  }
 },
 "nbformat": 4,
 "nbformat_minor": 1
}
