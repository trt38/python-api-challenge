{
  "nbformat": 4,
  "nbformat_minor": 0,
  "metadata": {
    "colab": {
      "name": "WeatherPy",
      "provenance": [],
      "collapsed_sections": [
        "_hHKMjToz40C",
        "vMN6ZQpY0ELb",
        "gehlBwWr7U5F",
        "mRh0CMaN7hDV",
        "Wl_4UEIjXNUN",
        "WHoxZXkZXaqF",
        "U-s4dy_jaeS4",
        "Tnl-D-djbTaM",
        "orpHtMIOcGbX",
        "QYPNgcDBc-UB",
        "VjwiYctAdADN",
        "YPcoEm4udCk3",
        "oJ6BMLZ-dGzN",
        "CgueanuhfNVW",
        "uDroMDKTgKYf",
        "oQTKnqBPgNqb",
        "NjUeY41OgQ9g"
      ]
    },
    "kernelspec": {
      "name": "python3",
      "display_name": "Python 3"
    }
  },
  "cells": [
    {
      "cell_type": "markdown",
      "metadata": {
        "id": "_hHKMjToz40C",
        "colab_type": "text"
      },
      "source": [
        "## **Setup**"
      ]
    },
    {
      "cell_type": "code",
      "metadata": {
        "id": "io3J8FeSu2HZ",
        "colab_type": "code",
        "colab": {
          "resources": {
            "http://localhost:8080/nbextensions/google.colab/files.js": {
              "data": "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",
              "ok": true,
              "headers": [
                [
                  "content-type",
                  "application/javascript"
                ]
              ],
              "status": 200,
              "status_text": ""
            }
          },
          "base_uri": "https://localhost:8080/",
          "height": 72
        },
        "outputId": "7dc2f72e-ba4f-467c-9cf9-dc3d53fe5adb"
      },
      "source": [
        "# Add files to Google Colab\n",
        "from google.colab import files\n",
        "uploaded = files.upload()"
      ],
      "execution_count": 2,
      "outputs": [
        {
          "output_type": "display_data",
          "data": {
            "text/html": [
              "\n",
              "     <input type=\"file\" id=\"files-c5197661-367f-4952-a32e-6afaafecec3b\" name=\"files[]\" multiple disabled\n",
              "        style=\"border:none\" />\n",
              "     <output id=\"result-c5197661-367f-4952-a32e-6afaafecec3b\">\n",
              "      Upload widget is only available when the cell has been executed in the\n",
              "      current browser session. Please rerun this cell to enable.\n",
              "      </output>\n",
              "      <script src=\"/nbextensions/google.colab/files.js\"></script> "
            ],
            "text/plain": [
              "<IPython.core.display.HTML object>"
            ]
          },
          "metadata": {
            "tags": []
          }
        },
        {
          "output_type": "stream",
          "text": [
            "Saving api_keys.py to api_keys.py\n"
          ],
          "name": "stdout"
        }
      ]
    },
    {
      "cell_type": "code",
      "metadata": {
        "id": "yGZ_0dO7vlIN",
        "colab_type": "code",
        "colab": {
          "base_uri": "https://localhost:8080/",
          "height": 221
        },
        "outputId": "8f4f6877-3777-4882-8d9b-a119127fed06"
      },
      "source": [
        "!pip install citipy"
      ],
      "execution_count": 3,
      "outputs": [
        {
          "output_type": "stream",
          "text": [
            "Collecting citipy\n",
            "\u001b[?25l  Downloading https://files.pythonhosted.org/packages/3b/d0/59721d0f3954781488aac17ee4a40412d0a3547e98bb16377a09c39a2807/citipy-0.0.5.tar.gz (557kB)\n",
            "\r\u001b[K     |▋                               | 10kB 19.2MB/s eta 0:00:01\r\u001b[K     |█▏                              | 20kB 4.1MB/s eta 0:00:01\r\u001b[K     |█▊                              | 30kB 5.3MB/s eta 0:00:01\r\u001b[K     |██▍                             | 40kB 5.8MB/s eta 0:00:01\r\u001b[K     |███                             | 51kB 4.6MB/s eta 0:00:01\r\u001b[K     |███▌                            | 61kB 5.1MB/s eta 0:00:01\r\u001b[K     |████▏                           | 71kB 5.6MB/s eta 0:00:01\r\u001b[K     |████▊                           | 81kB 6.1MB/s eta 0:00:01\r\u001b[K     |█████▎                          | 92kB 6.4MB/s eta 0:00:01\r\u001b[K     |█████▉                          | 102kB 6.4MB/s eta 0:00:01\r\u001b[K     |██████▌                         | 112kB 6.4MB/s eta 0:00:01\r\u001b[K     |███████                         | 122kB 6.4MB/s eta 0:00:01\r\u001b[K     |███████▋                        | 133kB 6.4MB/s eta 0:00:01\r\u001b[K     |████████▎                       | 143kB 6.4MB/s eta 0:00:01\r\u001b[K     |████████▉                       | 153kB 6.4MB/s eta 0:00:01\r\u001b[K     |█████████▍                      | 163kB 6.4MB/s eta 0:00:01\r\u001b[K     |██████████                      | 174kB 6.4MB/s eta 0:00:01\r\u001b[K     |██████████▋                     | 184kB 6.4MB/s eta 0:00:01\r\u001b[K     |███████████▏                    | 194kB 6.4MB/s eta 0:00:01\r\u001b[K     |███████████▊                    | 204kB 6.4MB/s eta 0:00:01\r\u001b[K     |████████████▍                   | 215kB 6.4MB/s eta 0:00:01\r\u001b[K     |█████████████                   | 225kB 6.4MB/s eta 0:00:01\r\u001b[K     |█████████████▌                  | 235kB 6.4MB/s eta 0:00:01\r\u001b[K     |██████████████                  | 245kB 6.4MB/s eta 0:00:01\r\u001b[K     |██████████████▊                 | 256kB 6.4MB/s eta 0:00:01\r\u001b[K     |███████████████▎                | 266kB 6.4MB/s eta 0:00:01\r\u001b[K     |███████████████▉                | 276kB 6.4MB/s eta 0:00:01\r\u001b[K     |████████████████▌               | 286kB 6.4MB/s eta 0:00:01\r\u001b[K     |█████████████████               | 296kB 6.4MB/s eta 0:00:01\r\u001b[K     |█████████████████▋              | 307kB 6.4MB/s eta 0:00:01\r\u001b[K     |██████████████████▏             | 317kB 6.4MB/s eta 0:00:01\r\u001b[K     |██████████████████▉             | 327kB 6.4MB/s eta 0:00:01\r\u001b[K     |███████████████████▍            | 337kB 6.4MB/s eta 0:00:01\r\u001b[K     |████████████████████            | 348kB 6.4MB/s eta 0:00:01\r\u001b[K     |████████████████████▋           | 358kB 6.4MB/s eta 0:00:01\r\u001b[K     |█████████████████████▏          | 368kB 6.4MB/s eta 0:00:01\r\u001b[K     |█████████████████████▊          | 378kB 6.4MB/s eta 0:00:01\r\u001b[K     |██████████████████████▎         | 389kB 6.4MB/s eta 0:00:01\r\u001b[K     |███████████████████████         | 399kB 6.4MB/s eta 0:00:01\r\u001b[K     |███████████████████████▌        | 409kB 6.4MB/s eta 0:00:01\r\u001b[K     |████████████████████████        | 419kB 6.4MB/s eta 0:00:01\r\u001b[K     |████████████████████████▊       | 430kB 6.4MB/s eta 0:00:01\r\u001b[K     |█████████████████████████▎      | 440kB 6.4MB/s eta 0:00:01\r\u001b[K     |█████████████████████████▉      | 450kB 6.4MB/s eta 0:00:01\r\u001b[K     |██████████████████████████▍     | 460kB 6.4MB/s eta 0:00:01\r\u001b[K     |███████████████████████████     | 471kB 6.4MB/s eta 0:00:01\r\u001b[K     |███████████████████████████▋    | 481kB 6.4MB/s eta 0:00:01\r\u001b[K     |████████████████████████████▏   | 491kB 6.4MB/s eta 0:00:01\r\u001b[K     |████████████████████████████▉   | 501kB 6.4MB/s eta 0:00:01\r\u001b[K     |█████████████████████████████▍  | 512kB 6.4MB/s eta 0:00:01\r\u001b[K     |██████████████████████████████  | 522kB 6.4MB/s eta 0:00:01\r\u001b[K     |██████████████████████████████▌ | 532kB 6.4MB/s eta 0:00:01\r\u001b[K     |███████████████████████████████▏| 542kB 6.4MB/s eta 0:00:01\r\u001b[K     |███████████████████████████████▊| 552kB 6.4MB/s eta 0:00:01\r\u001b[K     |████████████████████████████████| 563kB 6.4MB/s \n",
            "\u001b[?25hCollecting kdtree>=0.12\n",
            "  Downloading https://files.pythonhosted.org/packages/00/3d/bd727d025b1706798aae14da3f69fc7d5a8639dc9e0eba37c7dcd43eb03e/kdtree-0.16-py2.py3-none-any.whl\n",
            "Building wheels for collected packages: citipy\n",
            "  Building wheel for citipy (setup.py) ... \u001b[?25l\u001b[?25hdone\n",
            "  Created wheel for citipy: filename=citipy-0.0.5-cp36-none-any.whl size=559702 sha256=abc05e26b5ea8515f4c3b796af4098163b9e70490cba158f2e40798e33c15414\n",
            "  Stored in directory: /root/.cache/pip/wheels/6f/07/0d/0392639cf1c10376f59decd06775c0e085ca2458c6036c1028\n",
            "Successfully built citipy\n",
            "Installing collected packages: kdtree, citipy\n",
            "Successfully installed citipy-0.0.5 kdtree-0.16\n"
          ],
          "name": "stdout"
        }
      ]
    },
    {
      "cell_type": "code",
      "metadata": {
        "id": "bvMgEuZ_uz92",
        "colab_type": "code",
        "colab": {}
      },
      "source": [
        "# Dependencies and Setup\n",
        "%matplotlib inline\n",
        "import matplotlib.pyplot as plt\n",
        "import pandas as pd\n",
        "import numpy as np\n",
        "import requests\n",
        "import time\n",
        "from scipy.stats import linregress\n",
        "\n",
        "\n",
        "# Import API key\n",
        "from api_keys import weather_api_key\n",
        "\n",
        "# Incorporated citipy to determine city based on latitude and longitude\n",
        "from citipy import citipy\n",
        "\n",
        "# Output File (CSV)\n",
        "output_data_file = \"output_data/cities.csv\"\n",
        "\n",
        "# Range of latitudes and longitudes\n",
        "lat_range = (-90, 90)\n",
        "lng_range = (-180, 180)"
      ],
      "execution_count": 36,
      "outputs": []
    },
    {
      "cell_type": "code",
      "metadata": {
        "id": "AzazQtGjvicr",
        "colab_type": "code",
        "colab": {
          "base_uri": "https://localhost:8080/",
          "height": 34
        },
        "outputId": "c8a5692a-66b6-4bff-f07a-51b9d395c9cc"
      },
      "source": [
        "# List for holding lat_lngs and cities\n",
        "lat_lngs = []\n",
        "cities = []\n",
        "\n",
        "# Create a set of random lat and lng combinations\n",
        "lats = np.random.uniform(lat_range[0], lat_range[1], size=1500)\n",
        "lngs = np.random.uniform(lng_range[0], lng_range[1], size=1500)\n",
        "lat_lngs = zip(lats, lngs)\n",
        "\n",
        "# Identify nearest city for each lat, lng combination\n",
        "for lat_lng in lat_lngs:\n",
        "    city = citipy.nearest_city(lat_lng[0], lat_lng[1]).city_name\n",
        "    \n",
        "    # If the city is unique, then add it to a our cities list\n",
        "    if city not in cities:\n",
        "        cities.append(city)\n",
        "\n",
        "# Print the city count to confirm sufficient count\n",
        "len(cities)"
      ],
      "execution_count": 5,
      "outputs": [
        {
          "output_type": "execute_result",
          "data": {
            "text/plain": [
              "636"
            ]
          },
          "metadata": {
            "tags": []
          },
          "execution_count": 5
        }
      ]
    },
    {
      "cell_type": "markdown",
      "metadata": {
        "id": "vMN6ZQpY0ELb",
        "colab_type": "text"
      },
      "source": [
        "## **Perform API Calls**\n",
        "\n",
        "*   Perform a weather check on each city using a series of successive API calls.\n",
        "*   Include a print log of each city as it'sbeing processed (with the city number and city name)."
      ]
    },
    {
      "cell_type": "code",
      "metadata": {
        "id": "X-xWNx_5Bjqt",
        "colab_type": "code",
        "colab": {}
      },
      "source": [
        "# Save config information.\n",
        "url = \"http://api.openweathermap.org/data/2.5/weather?\"\n",
        "units = \"imperial\"\n",
        "\n",
        "# Build partial query URL\n",
        "query_url = f\"{url}appid={weather_api_key}&units={units}&q=\""
      ],
      "execution_count": 6,
      "outputs": []
    },
    {
      "cell_type": "code",
      "metadata": {
        "id": "pcwlsP_Q7kO8",
        "colab_type": "code",
        "colab": {
          "base_uri": "https://localhost:8080/",
          "height": 1000
        },
        "outputId": "55745131-1c70-4e69-95b8-377ff8ca7537"
      },
      "source": [
        "# set lists for the dataframe\n",
        "city_name = []\n",
        "lat = []\n",
        "lng = []\n",
        "max_temp = []\n",
        "clouds = []\n",
        "humidity = []\n",
        "wind_speed = []\n",
        "country = []\n",
        "date = []\n",
        "\n",
        "# set initial count quantities for organization\n",
        "count_one = 0\n",
        "set_one = 1\n",
        "\n",
        "print(\"Beginning Data Retrieval\")    \n",
        "print(\"-----------------------------\")\n",
        "# loops for creating dataframe columns\n",
        "for city in cities:\n",
        "    try:\n",
        "        response = requests.get(query_url + city.replace(\" \",\"&\")).json()\n",
        "        lat.append(response['coord']['lat'])\n",
        "        lng.append(response['coord']['lon'])\n",
        "        max_temp.append(response['main']['temp_max'])\n",
        "        clouds.append(response['clouds']['all'])\n",
        "        humidity.append(response['main']['humidity'])\n",
        "        wind_speed.append(response['wind']['speed'])\n",
        "        country.append(response['sys']['country'])\n",
        "        date.append(response['dt'])\n",
        "        if count_one > 49:\n",
        "            count_one = 1\n",
        "            set_one += 1\n",
        "            city_name.append(city)\n",
        "        else:\n",
        "            count_one += 1\n",
        "            city_name.append(city)\n",
        "        print(f\"Processing Record {count_one} of Set {set_one} | {city}\")\n",
        "    except Exception:\n",
        "        print(\"City not found. Skipping...\")\n",
        "\n",
        "print(\"------------------------------\")\n",
        "print(\"Data Retrieval Complete\")\n",
        "print(\"------------------------------\")"
      ],
      "execution_count": 7,
      "outputs": [
        {
          "output_type": "stream",
          "text": [
            "Beginning Data Retrieval\n",
            "-----------------------------\n",
            "Processing Record 1 of Set 1 | east london\n",
            "Processing Record 2 of Set 1 | upernavik\n",
            "Processing Record 3 of Set 1 | cidreira\n",
            "Processing Record 4 of Set 1 | vestmannaeyjar\n",
            "Processing Record 5 of Set 1 | saint-pierre\n",
            "Processing Record 6 of Set 1 | beringovskiy\n",
            "Processing Record 7 of Set 1 | biryusinsk\n",
            "Processing Record 8 of Set 1 | sao jose da coroa grande\n",
            "Processing Record 9 of Set 1 | hilo\n",
            "City not found. Skipping...\n",
            "Processing Record 10 of Set 1 | ponta do sol\n",
            "Processing Record 11 of Set 1 | pagudpud\n",
            "Processing Record 12 of Set 1 | kodiak\n",
            "Processing Record 13 of Set 1 | busselton\n",
            "Processing Record 14 of Set 1 | vila velha\n",
            "Processing Record 15 of Set 1 | matagami\n",
            "City not found. Skipping...\n",
            "Processing Record 16 of Set 1 | new norfolk\n",
            "Processing Record 17 of Set 1 | nikolskoye\n",
            "Processing Record 18 of Set 1 | tiksi\n",
            "Processing Record 19 of Set 1 | bluff\n",
            "Processing Record 20 of Set 1 | bredasdorp\n",
            "Processing Record 21 of Set 1 | norrtalje\n",
            "Processing Record 22 of Set 1 | buin\n",
            "Processing Record 23 of Set 1 | hermanus\n",
            "Processing Record 24 of Set 1 | kamiichi\n",
            "Processing Record 25 of Set 1 | ilulissat\n",
            "Processing Record 26 of Set 1 | ushuaia\n",
            "City not found. Skipping...\n",
            "Processing Record 27 of Set 1 | katsuura\n",
            "Processing Record 28 of Set 1 | ucluelet\n",
            "Processing Record 29 of Set 1 | punta arenas\n",
            "City not found. Skipping...\n",
            "City not found. Skipping...\n",
            "Processing Record 30 of Set 1 | mahebourg\n",
            "Processing Record 31 of Set 1 | butaritari\n",
            "Processing Record 32 of Set 1 | rikitea\n",
            "Processing Record 33 of Set 1 | albany\n",
            "Processing Record 34 of Set 1 | morehead\n",
            "Processing Record 35 of Set 1 | qaanaaq\n",
            "Processing Record 36 of Set 1 | avarua\n",
            "Processing Record 37 of Set 1 | inta\n",
            "Processing Record 38 of Set 1 | ribeira grande\n",
            "Processing Record 39 of Set 1 | port blair\n",
            "Processing Record 40 of Set 1 | saint-philippe\n",
            "Processing Record 41 of Set 1 | igarka\n",
            "Processing Record 42 of Set 1 | xai-xai\n",
            "Processing Record 43 of Set 1 | belyy yar\n",
            "Processing Record 44 of Set 1 | victoria\n",
            "Processing Record 45 of Set 1 | mataura\n",
            "Processing Record 46 of Set 1 | hofn\n",
            "Processing Record 47 of Set 1 | gizo\n",
            "Processing Record 48 of Set 1 | hobart\n",
            "Processing Record 49 of Set 1 | kapaa\n",
            "Processing Record 50 of Set 1 | koslan\n",
            "Processing Record 1 of Set 2 | lorengau\n",
            "Processing Record 2 of Set 2 | yellowknife\n",
            "Processing Record 3 of Set 2 | arraial do cabo\n",
            "Processing Record 4 of Set 2 | viedma\n",
            "Processing Record 5 of Set 2 | bentiu\n",
            "Processing Record 6 of Set 2 | lethem\n",
            "Processing Record 7 of Set 2 | emba\n",
            "Processing Record 8 of Set 2 | kaitangata\n",
            "Processing Record 9 of Set 2 | lebu\n",
            "Processing Record 10 of Set 2 | rawson\n",
            "Processing Record 11 of Set 2 | pedernales\n",
            "Processing Record 12 of Set 2 | jamestown\n",
            "City not found. Skipping...\n",
            "Processing Record 13 of Set 2 | vaini\n",
            "Processing Record 14 of Set 2 | burshtyn\n",
            "Processing Record 15 of Set 2 | yaan\n",
            "Processing Record 16 of Set 2 | liberty\n",
            "Processing Record 17 of Set 2 | cayenne\n",
            "Processing Record 18 of Set 2 | kahului\n",
            "Processing Record 19 of Set 2 | olafsvik\n",
            "Processing Record 20 of Set 2 | tasiilaq\n",
            "Processing Record 21 of Set 2 | auriflama\n",
            "Processing Record 22 of Set 2 | kelvington\n",
            "Processing Record 23 of Set 2 | rosarito\n",
            "Processing Record 24 of Set 2 | tooele\n",
            "Processing Record 25 of Set 2 | laguna\n",
            "Processing Record 26 of Set 2 | mar del plata\n",
            "Processing Record 27 of Set 2 | chicla\n",
            "Processing Record 28 of Set 2 | garden city\n",
            "Processing Record 29 of Set 2 | khatanga\n",
            "Processing Record 30 of Set 2 | khani\n",
            "Processing Record 31 of Set 2 | atuona\n",
            "Processing Record 32 of Set 2 | milkovo\n",
            "Processing Record 33 of Set 2 | ishigaki\n",
            "Processing Record 34 of Set 2 | kargasok\n",
            "Processing Record 35 of Set 2 | ahero\n",
            "Processing Record 36 of Set 2 | codrington\n",
            "Processing Record 37 of Set 2 | georgetown\n",
            "Processing Record 38 of Set 2 | chimore\n",
            "Processing Record 39 of Set 2 | waipawa\n",
            "Processing Record 40 of Set 2 | souillac\n",
            "Processing Record 41 of Set 2 | barrow\n",
            "Processing Record 42 of Set 2 | zheleznodorozhnyy\n",
            "Processing Record 43 of Set 2 | grand river south east\n",
            "Processing Record 44 of Set 2 | carnarvon\n",
            "Processing Record 45 of Set 2 | ambilobe\n",
            "Processing Record 46 of Set 2 | nanortalik\n",
            "Processing Record 47 of Set 2 | takoradi\n",
            "Processing Record 48 of Set 2 | broome\n",
            "Processing Record 49 of Set 2 | grand forks\n",
            "Processing Record 50 of Set 2 | tual\n",
            "Processing Record 1 of Set 3 | port alfred\n",
            "Processing Record 2 of Set 3 | kavieng\n",
            "City not found. Skipping...\n",
            "Processing Record 3 of Set 3 | verkhoyansk\n",
            "Processing Record 4 of Set 3 | mount isa\n",
            "Processing Record 5 of Set 3 | esperance\n",
            "Processing Record 6 of Set 3 | upington\n",
            "Processing Record 7 of Set 3 | dingle\n",
            "Processing Record 8 of Set 3 | chokurdakh\n",
            "Processing Record 9 of Set 3 | fukue\n",
            "City not found. Skipping...\n",
            "Processing Record 10 of Set 3 | sao filipe\n",
            "Processing Record 11 of Set 3 | kochevo\n",
            "Processing Record 12 of Set 3 | ravar\n",
            "Processing Record 13 of Set 3 | bengkulu\n",
            "Processing Record 14 of Set 3 | marzuq\n",
            "Processing Record 15 of Set 3 | chuy\n",
            "Processing Record 16 of Set 3 | linhai\n",
            "Processing Record 17 of Set 3 | korgen\n",
            "Processing Record 18 of Set 3 | nishihara\n",
            "City not found. Skipping...\n",
            "Processing Record 19 of Set 3 | mareeba\n",
            "City not found. Skipping...\n",
            "Processing Record 20 of Set 3 | fuxin\n",
            "Processing Record 21 of Set 3 | itarema\n",
            "Processing Record 22 of Set 3 | bilma\n",
            "Processing Record 23 of Set 3 | dikson\n",
            "Processing Record 24 of Set 3 | cabo san lucas\n",
            "City not found. Skipping...\n",
            "Processing Record 25 of Set 3 | lima\n",
            "Processing Record 26 of Set 3 | balabac\n",
            "City not found. Skipping...\n",
            "Processing Record 27 of Set 3 | coracora\n",
            "Processing Record 28 of Set 3 | rocha\n",
            "Processing Record 29 of Set 3 | tuktoyaktuk\n",
            "Processing Record 30 of Set 3 | pevek\n",
            "Processing Record 31 of Set 3 | sokolo\n",
            "Processing Record 32 of Set 3 | taltal\n",
            "Processing Record 33 of Set 3 | vicuna\n",
            "Processing Record 34 of Set 3 | mangrol\n",
            "Processing Record 35 of Set 3 | cape town\n",
            "Processing Record 36 of Set 3 | abhar\n",
            "Processing Record 37 of Set 3 | bras-panon\n",
            "Processing Record 38 of Set 3 | asau\n",
            "Processing Record 39 of Set 3 | ibra\n",
            "Processing Record 40 of Set 3 | puerto ayora\n",
            "Processing Record 41 of Set 3 | dunedin\n",
            "Processing Record 42 of Set 3 | thinadhoo\n",
            "Processing Record 43 of Set 3 | timizart\n",
            "Processing Record 44 of Set 3 | nortelandia\n",
            "Processing Record 45 of Set 3 | kjopsvik\n",
            "Processing Record 46 of Set 3 | iqaluit\n",
            "Processing Record 47 of Set 3 | alice springs\n",
            "Processing Record 48 of Set 3 | fortuna\n",
            "Processing Record 49 of Set 3 | kholodnyy\n",
            "Processing Record 50 of Set 3 | tuatapere\n",
            "Processing Record 1 of Set 4 | ternate\n",
            "Processing Record 2 of Set 4 | karmaskaly\n",
            "Processing Record 3 of Set 4 | springdale\n",
            "Processing Record 4 of Set 4 | kirkwall\n",
            "City not found. Skipping...\n",
            "Processing Record 5 of Set 4 | fairbanks\n",
            "Processing Record 6 of Set 4 | atikokan\n",
            "Processing Record 7 of Set 4 | potam\n",
            "Processing Record 8 of Set 4 | muros\n",
            "Processing Record 9 of Set 4 | marienburg\n",
            "Processing Record 10 of Set 4 | japura\n",
            "Processing Record 11 of Set 4 | arcata\n",
            "Processing Record 12 of Set 4 | hami\n",
            "Processing Record 13 of Set 4 | qaqortoq\n",
            "City not found. Skipping...\n",
            "Processing Record 14 of Set 4 | vanimo\n",
            "City not found. Skipping...\n",
            "Processing Record 15 of Set 4 | tirur\n",
            "Processing Record 16 of Set 4 | fort nelson\n",
            "Processing Record 17 of Set 4 | south river\n",
            "Processing Record 18 of Set 4 | touros\n",
            "Processing Record 19 of Set 4 | raga\n",
            "Processing Record 20 of Set 4 | sur\n",
            "Processing Record 21 of Set 4 | ostrovnoy\n",
            "Processing Record 22 of Set 4 | kristinehamn\n",
            "Processing Record 23 of Set 4 | banda aceh\n",
            "Processing Record 24 of Set 4 | aklavik\n",
            "Processing Record 25 of Set 4 | tateyama\n",
            "Processing Record 26 of Set 4 | albufeira\n",
            "Processing Record 27 of Set 4 | prieska\n",
            "Processing Record 28 of Set 4 | sayyan\n",
            "Processing Record 29 of Set 4 | airai\n",
            "Processing Record 30 of Set 4 | kota kinabalu\n",
            "City not found. Skipping...\n",
            "Processing Record 31 of Set 4 | del rio\n",
            "Processing Record 32 of Set 4 | mweka\n",
            "Processing Record 33 of Set 4 | yumen\n",
            "Processing Record 34 of Set 4 | klaksvik\n",
            "City not found. Skipping...\n",
            "Processing Record 35 of Set 4 | thompson\n",
            "Processing Record 36 of Set 4 | cherskiy\n",
            "Processing Record 37 of Set 4 | baykit\n",
            "Processing Record 38 of Set 4 | caravelas\n",
            "Processing Record 39 of Set 4 | lamar\n",
            "Processing Record 40 of Set 4 | havelock\n",
            "Processing Record 41 of Set 4 | provideniya\n",
            "Processing Record 42 of Set 4 | araouane\n",
            "Processing Record 43 of Set 4 | bandiagara\n",
            "Processing Record 44 of Set 4 | sao joao da barra\n",
            "Processing Record 45 of Set 4 | port elizabeth\n",
            "Processing Record 46 of Set 4 | mana\n",
            "Processing Record 47 of Set 4 | gorom-gorom\n",
            "Processing Record 48 of Set 4 | grindavik\n",
            "Processing Record 49 of Set 4 | southbridge\n",
            "Processing Record 50 of Set 4 | narsaq\n",
            "Processing Record 1 of Set 5 | san cristobal\n",
            "Processing Record 2 of Set 5 | isangel\n",
            "Processing Record 3 of Set 5 | balkanabat\n",
            "Processing Record 4 of Set 5 | talnakh\n",
            "Processing Record 5 of Set 5 | alekseyevsk\n",
            "Processing Record 6 of Set 5 | cockburn town\n",
            "Processing Record 7 of Set 5 | wanning\n",
            "Processing Record 8 of Set 5 | coquimbo\n",
            "Processing Record 9 of Set 5 | boqueirao\n",
            "Processing Record 10 of Set 5 | senno\n",
            "Processing Record 11 of Set 5 | warrnambool\n",
            "Processing Record 12 of Set 5 | campbell river\n",
            "Processing Record 13 of Set 5 | shimoni\n",
            "Processing Record 14 of Set 5 | mnogovershinnyy\n",
            "Processing Record 15 of Set 5 | jijiga\n",
            "Processing Record 16 of Set 5 | tablac\n",
            "Processing Record 17 of Set 5 | comodoro rivadavia\n",
            "Processing Record 18 of Set 5 | leshukonskoye\n",
            "Processing Record 19 of Set 5 | aripuana\n",
            "Processing Record 20 of Set 5 | mapastepec\n",
            "Processing Record 21 of Set 5 | hithadhoo\n",
            "Processing Record 22 of Set 5 | scarborough\n",
            "Processing Record 23 of Set 5 | vostok\n",
            "Processing Record 24 of Set 5 | san benito\n",
            "City not found. Skipping...\n",
            "City not found. Skipping...\n",
            "City not found. Skipping...\n",
            "Processing Record 25 of Set 5 | castro\n",
            "Processing Record 26 of Set 5 | fare\n",
            "Processing Record 27 of Set 5 | meulaboh\n",
            "Processing Record 28 of Set 5 | san isidro\n",
            "Processing Record 29 of Set 5 | peruibe\n",
            "Processing Record 30 of Set 5 | jalu\n",
            "Processing Record 31 of Set 5 | newport\n",
            "Processing Record 32 of Set 5 | kieta\n",
            "City not found. Skipping...\n",
            "Processing Record 33 of Set 5 | palmer\n",
            "Processing Record 34 of Set 5 | houma\n",
            "Processing Record 35 of Set 5 | albanel\n",
            "Processing Record 36 of Set 5 | nhulunbuy\n",
            "Processing Record 37 of Set 5 | ayorou\n",
            "Processing Record 38 of Set 5 | faanui\n",
            "Processing Record 39 of Set 5 | eravur\n",
            "City not found. Skipping...\n",
            "Processing Record 40 of Set 5 | ambovombe\n",
            "Processing Record 41 of Set 5 | lac du bonnet\n",
            "Processing Record 42 of Set 5 | geraldton\n",
            "Processing Record 43 of Set 5 | roros\n",
            "Processing Record 44 of Set 5 | lebedinyy\n",
            "Processing Record 45 of Set 5 | vryburg\n",
            "Processing Record 46 of Set 5 | paoua\n",
            "Processing Record 47 of Set 5 | kavali\n",
            "Processing Record 48 of Set 5 | puerto escondido\n",
            "Processing Record 49 of Set 5 | abalak\n",
            "Processing Record 50 of Set 5 | hasaki\n",
            "Processing Record 1 of Set 6 | bathsheba\n",
            "Processing Record 2 of Set 6 | bambous virieux\n",
            "Processing Record 3 of Set 6 | paamiut\n",
            "Processing Record 4 of Set 6 | cordele\n",
            "Processing Record 5 of Set 6 | mananjary\n",
            "Processing Record 6 of Set 6 | portland\n",
            "Processing Record 7 of Set 6 | nuuk\n",
            "Processing Record 8 of Set 6 | coihaique\n",
            "Processing Record 9 of Set 6 | forbes\n",
            "Processing Record 10 of Set 6 | kyaukse\n",
            "Processing Record 11 of Set 6 | turukhansk\n",
            "Processing Record 12 of Set 6 | dauriya\n",
            "City not found. Skipping...\n",
            "Processing Record 13 of Set 6 | trinidad\n",
            "Processing Record 14 of Set 6 | lishui\n",
            "Processing Record 15 of Set 6 | macau\n",
            "Processing Record 16 of Set 6 | lompoc\n",
            "Processing Record 17 of Set 6 | pringsewu\n",
            "Processing Record 18 of Set 6 | ahipara\n",
            "Processing Record 19 of Set 6 | yerbogachen\n",
            "Processing Record 20 of Set 6 | baghmara\n",
            "City not found. Skipping...\n",
            "Processing Record 21 of Set 6 | carman\n",
            "Processing Record 22 of Set 6 | marawi\n",
            "Processing Record 23 of Set 6 | shubarkuduk\n",
            "Processing Record 24 of Set 6 | ginir\n",
            "Processing Record 25 of Set 6 | pangkalanbuun\n",
            "Processing Record 26 of Set 6 | aquiraz\n",
            "Processing Record 27 of Set 6 | omsukchan\n",
            "City not found. Skipping...\n",
            "Processing Record 28 of Set 6 | palencia\n",
            "Processing Record 29 of Set 6 | port augusta\n",
            "Processing Record 30 of Set 6 | goderich\n",
            "Processing Record 31 of Set 6 | coxim\n",
            "Processing Record 32 of Set 6 | qui nhon\n",
            "Processing Record 33 of Set 6 | giyon\n",
            "Processing Record 34 of Set 6 | sitka\n",
            "Processing Record 35 of Set 6 | constitucion\n",
            "Processing Record 36 of Set 6 | kinsale\n",
            "Processing Record 37 of Set 6 | vardo\n",
            "City not found. Skipping...\n",
            "Processing Record 38 of Set 6 | rio claro\n",
            "Processing Record 39 of Set 6 | ischia\n",
            "Processing Record 40 of Set 6 | batagay-alyta\n",
            "Processing Record 41 of Set 6 | vanavara\n",
            "Processing Record 42 of Set 6 | muravlenko\n",
            "Processing Record 43 of Set 6 | swan hill\n",
            "Processing Record 44 of Set 6 | keti bandar\n",
            "Processing Record 45 of Set 6 | lagos\n",
            "Processing Record 46 of Set 6 | otradnoye\n",
            "Processing Record 47 of Set 6 | ancud\n",
            "Processing Record 48 of Set 6 | mudgee\n",
            "Processing Record 49 of Set 6 | pulandian\n",
            "Processing Record 50 of Set 6 | port-gentil\n",
            "Processing Record 1 of Set 7 | maragogi\n",
            "Processing Record 2 of Set 7 | fort-shevchenko\n",
            "Processing Record 3 of Set 7 | acarau\n",
            "City not found. Skipping...\n",
            "Processing Record 4 of Set 7 | mmabatho\n",
            "City not found. Skipping...\n",
            "Processing Record 5 of Set 7 | yulara\n",
            "Processing Record 6 of Set 7 | mitzic\n",
            "Processing Record 7 of Set 7 | turayf\n",
            "Processing Record 8 of Set 7 | bourail\n",
            "Processing Record 9 of Set 7 | floro\n",
            "Processing Record 10 of Set 7 | labuhan\n",
            "Processing Record 11 of Set 7 | bethel\n",
            "Processing Record 12 of Set 7 | santa fe\n",
            "Processing Record 13 of Set 7 | vilhena\n",
            "Processing Record 14 of Set 7 | peniche\n",
            "City not found. Skipping...\n",
            "Processing Record 15 of Set 7 | agadir\n",
            "Processing Record 16 of Set 7 | khasan\n",
            "Processing Record 17 of Set 7 | huarmey\n",
            "Processing Record 18 of Set 7 | tautira\n",
            "Processing Record 19 of Set 7 | barrancabermeja\n",
            "Processing Record 20 of Set 7 | otjimbingwe\n",
            "City not found. Skipping...\n",
            "Processing Record 21 of Set 7 | beberibe\n",
            "City not found. Skipping...\n",
            "Processing Record 22 of Set 7 | eunice\n",
            "Processing Record 23 of Set 7 | flinders\n",
            "Processing Record 24 of Set 7 | nizhniy odes\n",
            "Processing Record 25 of Set 7 | batagay\n",
            "Processing Record 26 of Set 7 | ballina\n",
            "Processing Record 27 of Set 7 | severo-kurilsk\n",
            "Processing Record 28 of Set 7 | pathein\n",
            "Processing Record 29 of Set 7 | korostyshiv\n",
            "Processing Record 30 of Set 7 | khrebtovaya\n",
            "Processing Record 31 of Set 7 | nim ka thana\n",
            "Processing Record 32 of Set 7 | pisco\n",
            "Processing Record 33 of Set 7 | kupang\n",
            "Processing Record 34 of Set 7 | naantali\n",
            "Processing Record 35 of Set 7 | abeche\n",
            "Processing Record 36 of Set 7 | leningradskiy\n",
            "Processing Record 37 of Set 7 | odessa\n",
            "Processing Record 38 of Set 7 | antalaha\n",
            "Processing Record 39 of Set 7 | bani\n",
            "Processing Record 40 of Set 7 | sao domingos\n",
            "Processing Record 41 of Set 7 | tigil\n",
            "Processing Record 42 of Set 7 | sao paulo de olivenca\n",
            "Processing Record 43 of Set 7 | pacific grove\n",
            "Processing Record 44 of Set 7 | luderitz\n",
            "Processing Record 45 of Set 7 | berlevag\n",
            "Processing Record 46 of Set 7 | san luis\n",
            "City not found. Skipping...\n",
            "Processing Record 47 of Set 7 | tekeli\n",
            "Processing Record 48 of Set 7 | kanker\n",
            "Processing Record 49 of Set 7 | asosa\n",
            "Processing Record 50 of Set 7 | kloulklubed\n",
            "City not found. Skipping...\n",
            "Processing Record 1 of Set 8 | hamilton\n",
            "Processing Record 2 of Set 8 | namatanai\n",
            "City not found. Skipping...\n",
            "City not found. Skipping...\n",
            "Processing Record 3 of Set 8 | cordoba\n",
            "City not found. Skipping...\n",
            "Processing Record 4 of Set 8 | bahia blanca\n",
            "Processing Record 5 of Set 8 | mastic\n",
            "Processing Record 6 of Set 8 | shelburne\n",
            "Processing Record 7 of Set 8 | zanjan\n",
            "Processing Record 8 of Set 8 | yuanping\n",
            "Processing Record 9 of Set 8 | vilyuysk\n",
            "Processing Record 10 of Set 8 | correntina\n",
            "Processing Record 11 of Set 8 | taylor\n",
            "Processing Record 12 of Set 8 | puerto el triunfo\n",
            "Processing Record 13 of Set 8 | whitehorse\n",
            "Processing Record 14 of Set 8 | port hardy\n",
            "Processing Record 15 of Set 8 | elko\n",
            "Processing Record 16 of Set 8 | lagoa\n",
            "Processing Record 17 of Set 8 | port lincoln\n",
            "Processing Record 18 of Set 8 | sabha\n",
            "Processing Record 19 of Set 8 | novyy urengoy\n",
            "Processing Record 20 of Set 8 | lavrentiya\n",
            "Processing Record 21 of Set 8 | xining\n",
            "Processing Record 22 of Set 8 | sri aman\n",
            "Processing Record 23 of Set 8 | hwange\n",
            "City not found. Skipping...\n",
            "Processing Record 24 of Set 8 | nago\n",
            "Processing Record 25 of Set 8 | naze\n",
            "Processing Record 26 of Set 8 | bemidji\n",
            "Processing Record 27 of Set 8 | petropavlovsk-kamchatskiy\n",
            "City not found. Skipping...\n",
            "Processing Record 28 of Set 8 | kununurra\n",
            "Processing Record 29 of Set 8 | swellendam\n",
            "Processing Record 30 of Set 8 | blackwater\n",
            "Processing Record 31 of Set 8 | mineros\n",
            "Processing Record 32 of Set 8 | soyo\n",
            "Processing Record 33 of Set 8 | casa grande\n",
            "City not found. Skipping...\n",
            "Processing Record 34 of Set 8 | plymouth\n",
            "Processing Record 35 of Set 8 | padang\n",
            "Processing Record 36 of Set 8 | mount gambier\n",
            "Processing Record 37 of Set 8 | kurilsk\n",
            "Processing Record 38 of Set 8 | yertsevo\n",
            "Processing Record 39 of Set 8 | plettenberg bay\n",
            "Processing Record 40 of Set 8 | stepnyak\n",
            "Processing Record 41 of Set 8 | mingguang\n",
            "Processing Record 42 of Set 8 | rio grande\n",
            "Processing Record 43 of Set 8 | atar\n",
            "Processing Record 44 of Set 8 | poum\n",
            "Processing Record 45 of Set 8 | maraa\n",
            "Processing Record 46 of Set 8 | novobiryusinskiy\n",
            "Processing Record 47 of Set 8 | camacari\n",
            "Processing Record 48 of Set 8 | bontang\n",
            "Processing Record 49 of Set 8 | aksu\n",
            "Processing Record 50 of Set 8 | irbit\n",
            "Processing Record 1 of Set 9 | mitsamiouli\n",
            "Processing Record 2 of Set 9 | lakes entrance\n",
            "Processing Record 3 of Set 9 | pervomayskiy\n",
            "Processing Record 4 of Set 9 | hirara\n",
            "Processing Record 5 of Set 9 | najran\n",
            "City not found. Skipping...\n",
            "Processing Record 6 of Set 9 | tucumcari\n",
            "Processing Record 7 of Set 9 | luanda\n",
            "Processing Record 8 of Set 9 | kanke\n",
            "City not found. Skipping...\n",
            "Processing Record 9 of Set 9 | kella\n",
            "Processing Record 10 of Set 9 | ulladulla\n",
            "Processing Record 11 of Set 9 | wamba\n",
            "Processing Record 12 of Set 9 | pangai\n",
            "Processing Record 13 of Set 9 | prince rupert\n",
            "City not found. Skipping...\n",
            "Processing Record 14 of Set 9 | ullapool\n",
            "Processing Record 15 of Set 9 | bac lieu\n",
            "Processing Record 16 of Set 9 | deputatskiy\n",
            "Processing Record 17 of Set 9 | neath\n",
            "Processing Record 18 of Set 9 | lormi\n",
            "Processing Record 19 of Set 9 | lewisporte\n",
            "Processing Record 20 of Set 9 | norman wells\n",
            "Processing Record 21 of Set 9 | makaleng\n",
            "Processing Record 22 of Set 9 | udachnyy\n",
            "Processing Record 23 of Set 9 | karratha\n",
            "Processing Record 24 of Set 9 | maloy\n",
            "Processing Record 25 of Set 9 | coahuayana\n",
            "Processing Record 26 of Set 9 | maracaibo\n",
            "Processing Record 27 of Set 9 | hun\n",
            "Processing Record 28 of Set 9 | oyem\n",
            "Processing Record 29 of Set 9 | bambanglipuro\n",
            "Processing Record 30 of Set 9 | ketchikan\n",
            "Processing Record 31 of Set 9 | dombarovskiy\n",
            "Processing Record 32 of Set 9 | faya\n",
            "Processing Record 33 of Set 9 | swan river\n",
            "Processing Record 34 of Set 9 | cabedelo\n",
            "Processing Record 35 of Set 9 | san patricio\n",
            "Processing Record 36 of Set 9 | burgos\n",
            "Processing Record 37 of Set 9 | scottsbluff\n",
            "Processing Record 38 of Set 9 | wicklow\n",
            "City not found. Skipping...\n",
            "Processing Record 39 of Set 9 | skibbereen\n",
            "Processing Record 40 of Set 9 | awbari\n",
            "Processing Record 41 of Set 9 | mys shmidta\n",
            "Processing Record 42 of Set 9 | bud\n",
            "Processing Record 43 of Set 9 | san andres\n",
            "Processing Record 44 of Set 9 | shimoda\n",
            "Processing Record 45 of Set 9 | marsh harbour\n",
            "Processing Record 46 of Set 9 | vallenar\n",
            "Processing Record 47 of Set 9 | cozumel\n",
            "Processing Record 48 of Set 9 | bubaque\n",
            "Processing Record 49 of Set 9 | elliot\n",
            "Processing Record 50 of Set 9 | makakilo city\n",
            "Processing Record 1 of Set 10 | saalfeld\n",
            "Processing Record 2 of Set 10 | quthing\n",
            "Processing Record 3 of Set 10 | saskylakh\n",
            "Processing Record 4 of Set 10 | samarai\n",
            "Processing Record 5 of Set 10 | kamaishi\n",
            "Processing Record 6 of Set 10 | paita\n",
            "Processing Record 7 of Set 10 | mirnyy\n",
            "Processing Record 8 of Set 10 | morondava\n",
            "Processing Record 9 of Set 10 | bacolod\n",
            "Processing Record 10 of Set 10 | vila franca do campo\n",
            "Processing Record 11 of Set 10 | ryotsu\n",
            "Processing Record 12 of Set 10 | port hedland\n",
            "Processing Record 13 of Set 10 | mantua\n",
            "Processing Record 14 of Set 10 | nome\n",
            "Processing Record 15 of Set 10 | north bend\n",
            "Processing Record 16 of Set 10 | grand gaube\n",
            "Processing Record 17 of Set 10 | lasa\n",
            "Processing Record 18 of Set 10 | hamina\n",
            "Processing Record 19 of Set 10 | andenes\n",
            "Processing Record 20 of Set 10 | cockburn harbour\n",
            "Processing Record 21 of Set 10 | socorro\n",
            "Processing Record 22 of Set 10 | altay\n",
            "Processing Record 23 of Set 10 | clyde river\n",
            "Processing Record 24 of Set 10 | mogadishu\n",
            "Processing Record 25 of Set 10 | pangody\n",
            "Processing Record 26 of Set 10 | longyearbyen\n",
            "Processing Record 27 of Set 10 | tarboro\n",
            "Processing Record 28 of Set 10 | havoysund\n",
            "Processing Record 29 of Set 10 | arlit\n",
            "Processing Record 30 of Set 10 | tanete\n",
            "Processing Record 31 of Set 10 | cruz do espirito santo\n",
            "Processing Record 32 of Set 10 | biak\n",
            "Processing Record 33 of Set 10 | tahoua\n",
            "Processing Record 34 of Set 10 | dwarka\n",
            "Processing Record 35 of Set 10 | northam\n",
            "Processing Record 36 of Set 10 | alofi\n",
            "Processing Record 37 of Set 10 | banjar\n",
            "Processing Record 38 of Set 10 | zeya\n",
            "Processing Record 39 of Set 10 | camacha\n",
            "Processing Record 40 of Set 10 | acheng\n",
            "Processing Record 41 of Set 10 | havre\n",
            "Processing Record 42 of Set 10 | camabatela\n",
            "Processing Record 43 of Set 10 | letlhakane\n",
            "Processing Record 44 of Set 10 | kawana waters\n",
            "Processing Record 45 of Set 10 | campos belos\n",
            "Processing Record 46 of Set 10 | columbus\n",
            "Processing Record 47 of Set 10 | kavaratti\n",
            "Processing Record 48 of Set 10 | cotonou\n",
            "Processing Record 49 of Set 10 | maniitsoq\n",
            "Processing Record 50 of Set 10 | baracoa\n",
            "Processing Record 1 of Set 11 | rudnichnyy\n",
            "Processing Record 2 of Set 11 | santa rosa\n",
            "Processing Record 3 of Set 11 | balikpapan\n",
            "Processing Record 4 of Set 11 | aksarka\n",
            "Processing Record 5 of Set 11 | roebourne\n",
            "Processing Record 6 of Set 11 | solnechnyy\n",
            "Processing Record 7 of Set 11 | saldanha\n",
            "Processing Record 8 of Set 11 | salobrena\n",
            "Processing Record 9 of Set 11 | veraval\n",
            "Processing Record 10 of Set 11 | maralal\n",
            "Processing Record 11 of Set 11 | kamina\n",
            "City not found. Skipping...\n",
            "Processing Record 12 of Set 11 | takhtamygda\n",
            "Processing Record 13 of Set 11 | itaituba\n",
            "Processing Record 14 of Set 11 | nikolsk\n",
            "Processing Record 15 of Set 11 | progreso\n",
            "Processing Record 16 of Set 11 | iwanai\n",
            "Processing Record 17 of Set 11 | natal\n",
            "Processing Record 18 of Set 11 | zhigansk\n",
            "Processing Record 19 of Set 11 | bismarck\n",
            "Processing Record 20 of Set 11 | kerema\n",
            "Processing Record 21 of Set 11 | somerton\n",
            "Processing Record 22 of Set 11 | bardiyah\n",
            "Processing Record 23 of Set 11 | cavalcante\n",
            "Processing Record 24 of Set 11 | richards bay\n",
            "Processing Record 25 of Set 11 | sao felix do xingu\n",
            "Processing Record 26 of Set 11 | ilave\n",
            "Processing Record 27 of Set 11 | kirkuk\n",
            "Processing Record 28 of Set 11 | krasnogvardeyskiy\n",
            "Processing Record 29 of Set 11 | eldorado\n",
            "Processing Record 30 of Set 11 | kishi\n",
            "Processing Record 31 of Set 11 | russell\n",
            "Processing Record 32 of Set 11 | altamont\n",
            "Processing Record 33 of Set 11 | ornskoldsvik\n",
            "Processing Record 34 of Set 11 | kailua\n",
            "City not found. Skipping...\n",
            "Processing Record 35 of Set 11 | burnie\n",
            "Processing Record 36 of Set 11 | amga\n",
            "Processing Record 37 of Set 11 | gejiu\n",
            "Processing Record 38 of Set 11 | encruzilhada do sul\n",
            "Processing Record 39 of Set 11 | chapais\n",
            "Processing Record 40 of Set 11 | hulan ergi\n",
            "Processing Record 41 of Set 11 | novobirilyussy\n",
            "Processing Record 42 of Set 11 | agboville\n",
            "Processing Record 43 of Set 11 | belmonte\n",
            "Processing Record 44 of Set 11 | torbay\n",
            "Processing Record 45 of Set 11 | palauig\n",
            "Processing Record 46 of Set 11 | wenling\n",
            "Processing Record 47 of Set 11 | fengcheng\n",
            "Processing Record 48 of Set 11 | mahibadhoo\n",
            "Processing Record 49 of Set 11 | shitanjing\n",
            "Processing Record 50 of Set 11 | garowe\n",
            "Processing Record 1 of Set 12 | timra\n",
            "Processing Record 2 of Set 12 | ponta delgada\n",
            "Processing Record 3 of Set 12 | ngunguru\n",
            "Processing Record 4 of Set 12 | boende\n",
            "Processing Record 5 of Set 12 | gainesville\n",
            "Processing Record 6 of Set 12 | verkh-usugli\n",
            "Processing Record 7 of Set 12 | bukachacha\n",
            "Processing Record 8 of Set 12 | selma\n",
            "Processing Record 9 of Set 12 | behbahan\n",
            "Processing Record 10 of Set 12 | fallon\n",
            "Processing Record 11 of Set 12 | saravan\n",
            "Processing Record 12 of Set 12 | opuwo\n",
            "City not found. Skipping...\n",
            "Processing Record 13 of Set 12 | ekhabi\n",
            "Processing Record 14 of Set 12 | meadow lake\n",
            "City not found. Skipping...\n",
            "Processing Record 15 of Set 12 | simao\n",
            "Processing Record 16 of Set 12 | santa cruz de tenerife\n",
            "City not found. Skipping...\n",
            "Processing Record 17 of Set 12 | coari\n",
            "Processing Record 18 of Set 12 | kasama\n",
            "Processing Record 19 of Set 12 | katobu\n",
            "Processing Record 20 of Set 12 | linguere\n",
            "Processing Record 21 of Set 12 | guerrero negro\n",
            "Processing Record 22 of Set 12 | rovaniemi\n",
            "Processing Record 23 of Set 12 | manta\n",
            "Processing Record 24 of Set 12 | bako\n",
            "Processing Record 25 of Set 12 | bolu\n",
            "Processing Record 26 of Set 12 | fuzhou\n",
            "Processing Record 27 of Set 12 | haimen\n",
            "Processing Record 28 of Set 12 | kenai\n",
            "Processing Record 29 of Set 12 | wadi maliz\n",
            "Processing Record 30 of Set 12 | saint-augustin\n",
            "Processing Record 31 of Set 12 | beyneu\n",
            "Processing Record 32 of Set 12 | sambava\n",
            "Processing Record 33 of Set 12 | gaya\n",
            "Processing Record 34 of Set 12 | tutoia\n",
            "Processing Record 35 of Set 12 | port macquarie\n",
            "Processing Record 36 of Set 12 | narasaraopet\n",
            "Processing Record 37 of Set 12 | ust-tsilma\n",
            "Processing Record 38 of Set 12 | teya\n",
            "------------------------------\n",
            "Data Retrieval Complete\n",
            "------------------------------\n"
          ],
          "name": "stdout"
        }
      ]
    },
    {
      "cell_type": "markdown",
      "metadata": {
        "id": "gehlBwWr7U5F",
        "colab_type": "text"
      },
      "source": [
        "## **Convert Raw Data to DataFrame**\n",
        "* Export the city data into a .csv.\n",
        "* Display the DataFrame"
      ]
    },
    {
      "cell_type": "code",
      "metadata": {
        "id": "0B-D2T9M7gvu",
        "colab_type": "code",
        "colab": {}
      },
      "source": [
        "#Create dictionary to hold dataframe\n",
        "weather_dict = {\n",
        "    \"City\":city_name,\n",
        "    \"Lat\":lat,\n",
        "    \"Lng\":lng,\n",
        "    \"Max Temp\":max_temp,\n",
        "    \"Humidity\":humidity,\n",
        "    \"Cloudiness\":clouds,\n",
        "    \"Wind Speed\":wind_speed,\n",
        "    \"Country\":country,\n",
        "    \"Date\":date,}"
      ],
      "execution_count": 8,
      "outputs": []
    },
    {
      "cell_type": "code",
      "metadata": {
        "id": "PL4rzTB0SrZe",
        "colab_type": "code",
        "colab": {}
      },
      "source": [
        "#Create dataframe\n",
        "\n",
        "weather_df = pd.DataFrame(weather_dict)"
      ],
      "execution_count": 9,
      "outputs": []
    },
    {
      "cell_type": "code",
      "metadata": {
        "id": "kmkMWXc5S-T8",
        "colab_type": "code",
        "colab": {}
      },
      "source": [
        "#Export to CSV\n",
        "\n",
        "weather_df.to_csv(output_data_file)"
      ],
      "execution_count": null,
      "outputs": []
    },
    {
      "cell_type": "code",
      "metadata": {
        "id": "YSSxZ_p7T-0n",
        "colab_type": "code",
        "colab": {
          "base_uri": "https://localhost:8080/",
          "height": 187
        },
        "outputId": "0e1caae5-e45f-480c-e099-6b92b894ce05"
      },
      "source": [
        "#Show count\n",
        "\n",
        "weather_df.count()"
      ],
      "execution_count": 11,
      "outputs": [
        {
          "output_type": "execute_result",
          "data": {
            "text/plain": [
              "City          588\n",
              "Lat           588\n",
              "Lng           588\n",
              "Max Temp      588\n",
              "Humidity      588\n",
              "Cloudiness    588\n",
              "Wind Speed    588\n",
              "Country       588\n",
              "Date          588\n",
              "dtype: int64"
            ]
          },
          "metadata": {
            "tags": []
          },
          "execution_count": 11
        }
      ]
    },
    {
      "cell_type": "code",
      "metadata": {
        "id": "rq0uGkLnUEk4",
        "colab_type": "code",
        "colab": {
          "base_uri": "https://localhost:8080/",
          "height": 419
        },
        "outputId": "42400b8f-1451-48b0-b660-297c9826c5da"
      },
      "source": [
        "#Display the dataframe\n",
        "\n",
        "weather_df"
      ],
      "execution_count": 32,
      "outputs": [
        {
          "output_type": "execute_result",
          "data": {
            "text/html": [
              "<div>\n",
              "<style scoped>\n",
              "    .dataframe tbody tr th:only-of-type {\n",
              "        vertical-align: middle;\n",
              "    }\n",
              "\n",
              "    .dataframe tbody tr th {\n",
              "        vertical-align: top;\n",
              "    }\n",
              "\n",
              "    .dataframe thead th {\n",
              "        text-align: right;\n",
              "    }\n",
              "</style>\n",
              "<table border=\"1\" class=\"dataframe\">\n",
              "  <thead>\n",
              "    <tr style=\"text-align: right;\">\n",
              "      <th></th>\n",
              "      <th>City</th>\n",
              "      <th>Lat</th>\n",
              "      <th>Lng</th>\n",
              "      <th>Max Temp</th>\n",
              "      <th>Humidity</th>\n",
              "      <th>Cloudiness</th>\n",
              "      <th>Wind Speed</th>\n",
              "      <th>Country</th>\n",
              "      <th>Date</th>\n",
              "    </tr>\n",
              "  </thead>\n",
              "  <tbody>\n",
              "    <tr>\n",
              "      <th>0</th>\n",
              "      <td>east london</td>\n",
              "      <td>65.00</td>\n",
              "      <td>-15.00</td>\n",
              "      <td>48.20</td>\n",
              "      <td>81</td>\n",
              "      <td>75</td>\n",
              "      <td>6.93</td>\n",
              "      <td>IS</td>\n",
              "      <td>1598740966</td>\n",
              "    </tr>\n",
              "    <tr>\n",
              "      <th>1</th>\n",
              "      <td>upernavik</td>\n",
              "      <td>72.79</td>\n",
              "      <td>-56.15</td>\n",
              "      <td>40.64</td>\n",
              "      <td>72</td>\n",
              "      <td>0</td>\n",
              "      <td>5.28</td>\n",
              "      <td>GL</td>\n",
              "      <td>1598740966</td>\n",
              "    </tr>\n",
              "    <tr>\n",
              "      <th>2</th>\n",
              "      <td>cidreira</td>\n",
              "      <td>-30.18</td>\n",
              "      <td>-50.21</td>\n",
              "      <td>66.69</td>\n",
              "      <td>81</td>\n",
              "      <td>49</td>\n",
              "      <td>8.77</td>\n",
              "      <td>BR</td>\n",
              "      <td>1598740873</td>\n",
              "    </tr>\n",
              "    <tr>\n",
              "      <th>3</th>\n",
              "      <td>vestmannaeyjar</td>\n",
              "      <td>63.44</td>\n",
              "      <td>-20.27</td>\n",
              "      <td>52.56</td>\n",
              "      <td>90</td>\n",
              "      <td>97</td>\n",
              "      <td>10.89</td>\n",
              "      <td>IS</td>\n",
              "      <td>1598740966</td>\n",
              "    </tr>\n",
              "    <tr>\n",
              "      <th>4</th>\n",
              "      <td>saint-pierre</td>\n",
              "      <td>-21.34</td>\n",
              "      <td>55.48</td>\n",
              "      <td>69.80</td>\n",
              "      <td>73</td>\n",
              "      <td>25</td>\n",
              "      <td>9.17</td>\n",
              "      <td>RE</td>\n",
              "      <td>1598740967</td>\n",
              "    </tr>\n",
              "    <tr>\n",
              "      <th>...</th>\n",
              "      <td>...</td>\n",
              "      <td>...</td>\n",
              "      <td>...</td>\n",
              "      <td>...</td>\n",
              "      <td>...</td>\n",
              "      <td>...</td>\n",
              "      <td>...</td>\n",
              "      <td>...</td>\n",
              "      <td>...</td>\n",
              "    </tr>\n",
              "    <tr>\n",
              "      <th>583</th>\n",
              "      <td>tutoia</td>\n",
              "      <td>-2.76</td>\n",
              "      <td>-42.27</td>\n",
              "      <td>80.78</td>\n",
              "      <td>76</td>\n",
              "      <td>7</td>\n",
              "      <td>16.60</td>\n",
              "      <td>BR</td>\n",
              "      <td>1598741094</td>\n",
              "    </tr>\n",
              "    <tr>\n",
              "      <th>584</th>\n",
              "      <td>port macquarie</td>\n",
              "      <td>-7.03</td>\n",
              "      <td>29.76</td>\n",
              "      <td>75.76</td>\n",
              "      <td>55</td>\n",
              "      <td>0</td>\n",
              "      <td>3.20</td>\n",
              "      <td>CD</td>\n",
              "      <td>1598740975</td>\n",
              "    </tr>\n",
              "    <tr>\n",
              "      <th>585</th>\n",
              "      <td>narasaraopet</td>\n",
              "      <td>16.25</td>\n",
              "      <td>80.07</td>\n",
              "      <td>79.66</td>\n",
              "      <td>82</td>\n",
              "      <td>100</td>\n",
              "      <td>5.01</td>\n",
              "      <td>IN</td>\n",
              "      <td>1598740925</td>\n",
              "    </tr>\n",
              "    <tr>\n",
              "      <th>586</th>\n",
              "      <td>ust-tsilma</td>\n",
              "      <td>65.44</td>\n",
              "      <td>52.15</td>\n",
              "      <td>46.33</td>\n",
              "      <td>89</td>\n",
              "      <td>24</td>\n",
              "      <td>5.86</td>\n",
              "      <td>RU</td>\n",
              "      <td>1598741094</td>\n",
              "    </tr>\n",
              "    <tr>\n",
              "      <th>587</th>\n",
              "      <td>teya</td>\n",
              "      <td>60.38</td>\n",
              "      <td>92.63</td>\n",
              "      <td>48.34</td>\n",
              "      <td>89</td>\n",
              "      <td>96</td>\n",
              "      <td>1.90</td>\n",
              "      <td>RU</td>\n",
              "      <td>1598741094</td>\n",
              "    </tr>\n",
              "  </tbody>\n",
              "</table>\n",
              "<p>588 rows × 9 columns</p>\n",
              "</div>"
            ],
            "text/plain": [
              "               City    Lat    Lng  ...  Wind Speed  Country        Date\n",
              "0       east london  65.00 -15.00  ...        6.93       IS  1598740966\n",
              "1         upernavik  72.79 -56.15  ...        5.28       GL  1598740966\n",
              "2          cidreira -30.18 -50.21  ...        8.77       BR  1598740873\n",
              "3    vestmannaeyjar  63.44 -20.27  ...       10.89       IS  1598740966\n",
              "4      saint-pierre -21.34  55.48  ...        9.17       RE  1598740967\n",
              "..              ...    ...    ...  ...         ...      ...         ...\n",
              "583          tutoia  -2.76 -42.27  ...       16.60       BR  1598741094\n",
              "584  port macquarie  -7.03  29.76  ...        3.20       CD  1598740975\n",
              "585    narasaraopet  16.25  80.07  ...        5.01       IN  1598740925\n",
              "586      ust-tsilma  65.44  52.15  ...        5.86       RU  1598741094\n",
              "587            teya  60.38  92.63  ...        1.90       RU  1598741094\n",
              "\n",
              "[588 rows x 9 columns]"
            ]
          },
          "metadata": {
            "tags": []
          },
          "execution_count": 32
        }
      ]
    },
    {
      "cell_type": "markdown",
      "metadata": {
        "id": "mRh0CMaN7hDV",
        "colab_type": "text"
      },
      "source": [
        "## **Inspect the data and remove the cities where the humidity > 100%.¶**\n",
        "* Skip this step if there are no cities that have humidity > 100%."
      ]
    },
    {
      "cell_type": "code",
      "metadata": {
        "id": "Yxhjnh-n7uQp",
        "colab_type": "code",
        "colab": {
          "base_uri": "https://localhost:8080/",
          "height": 68
        },
        "outputId": "4fcd63e8-f1b1-4fc2-9714-27e41a0f2ae4"
      },
      "source": [
        "high_humidity = weather_df.loc[weather_df[\"Humidity\"] > 100, :]\n",
        "\n",
        "print(high_humidity)"
      ],
      "execution_count": 13,
      "outputs": [
        {
          "output_type": "stream",
          "text": [
            "Empty DataFrame\n",
            "Columns: [City, Lat, Lng, Max Temp, Humidity, Cloudiness, Wind Speed, Country, Date]\n",
            "Index: []\n"
          ],
          "name": "stdout"
        }
      ]
    },
    {
      "cell_type": "markdown",
      "metadata": {
        "id": "Wl_4UEIjXNUN",
        "colab_type": "text"
      },
      "source": [
        "## **Plotting the Data**\n",
        "* Use proper labeling of the plots using plot titles (including date of analysis) and axes labels.\n",
        "* Save the plotted figures as .pngs."
      ]
    },
    {
      "cell_type": "markdown",
      "metadata": {
        "id": "WHoxZXkZXaqF",
        "colab_type": "text"
      },
      "source": [
        "### Latitude vs. Temperature Plot"
      ]
    },
    {
      "cell_type": "code",
      "metadata": {
        "id": "HFP2vkzxW96B",
        "colab_type": "code",
        "colab": {
          "base_uri": "https://localhost:8080/",
          "height": 635
        },
        "outputId": "39c27f60-a773-4562-c2c1-f22c975aa3a5"
      },
      "source": [
        "plt.scatter(weather_df[\"Lat\"],weather_df[\"Max Temp\"],edgecolors=\"black\",facecolors=\"blue\")\n",
        "plt.title(\"City Latitude vs. Max Temperature (08/29/20)\")\n",
        "plt.xlabel(\"Latitude\")\n",
        "plt.ylabel(\"Max Temperature (F)\")\n",
        "plt.grid (b=True,which=\"major\",axis=\"both\",linestyle=\"-\",color=\"lightgrey\")\n",
        "plt.savefig(\"output_data/Fig1.png\")\n",
        "plt.show()"
      ],
      "execution_count": 18,
      "outputs": [
        {
          "output_type": "error",
          "ename": "FileNotFoundError",
          "evalue": "ignored",
          "traceback": [
            "\u001b[0;31m---------------------------------------------------------------------------\u001b[0m",
            "\u001b[0;31mFileNotFoundError\u001b[0m                         Traceback (most recent call last)",
            "\u001b[0;32m<ipython-input-18-016109414333>\u001b[0m in \u001b[0;36m<module>\u001b[0;34m()\u001b[0m\n\u001b[1;32m      4\u001b[0m \u001b[0mplt\u001b[0m\u001b[0;34m.\u001b[0m\u001b[0mylabel\u001b[0m\u001b[0;34m(\u001b[0m\u001b[0;34m\"Max Temperature (F)\"\u001b[0m\u001b[0;34m)\u001b[0m\u001b[0;34m\u001b[0m\u001b[0;34m\u001b[0m\u001b[0m\n\u001b[1;32m      5\u001b[0m \u001b[0mplt\u001b[0m\u001b[0;34m.\u001b[0m\u001b[0mgrid\u001b[0m \u001b[0;34m(\u001b[0m\u001b[0mb\u001b[0m\u001b[0;34m=\u001b[0m\u001b[0;32mTrue\u001b[0m\u001b[0;34m,\u001b[0m\u001b[0mwhich\u001b[0m\u001b[0;34m=\u001b[0m\u001b[0;34m\"major\"\u001b[0m\u001b[0;34m,\u001b[0m\u001b[0maxis\u001b[0m\u001b[0;34m=\u001b[0m\u001b[0;34m\"both\"\u001b[0m\u001b[0;34m,\u001b[0m\u001b[0mlinestyle\u001b[0m\u001b[0;34m=\u001b[0m\u001b[0;34m\"-\"\u001b[0m\u001b[0;34m,\u001b[0m\u001b[0mcolor\u001b[0m\u001b[0;34m=\u001b[0m\u001b[0;34m\"lightgrey\"\u001b[0m\u001b[0;34m)\u001b[0m\u001b[0;34m\u001b[0m\u001b[0;34m\u001b[0m\u001b[0m\n\u001b[0;32m----> 6\u001b[0;31m \u001b[0mplt\u001b[0m\u001b[0;34m.\u001b[0m\u001b[0msavefig\u001b[0m\u001b[0;34m(\u001b[0m\u001b[0;34m\"output_data/Fig1.png\"\u001b[0m\u001b[0;34m)\u001b[0m\u001b[0;34m\u001b[0m\u001b[0;34m\u001b[0m\u001b[0m\n\u001b[0m\u001b[1;32m      7\u001b[0m \u001b[0mplt\u001b[0m\u001b[0;34m.\u001b[0m\u001b[0mshow\u001b[0m\u001b[0;34m(\u001b[0m\u001b[0;34m)\u001b[0m\u001b[0;34m\u001b[0m\u001b[0;34m\u001b[0m\u001b[0m\n",
            "\u001b[0;32m/usr/local/lib/python3.6/dist-packages/matplotlib/pyplot.py\u001b[0m in \u001b[0;36msavefig\u001b[0;34m(*args, **kwargs)\u001b[0m\n\u001b[1;32m    721\u001b[0m \u001b[0;32mdef\u001b[0m \u001b[0msavefig\u001b[0m\u001b[0;34m(\u001b[0m\u001b[0;34m*\u001b[0m\u001b[0margs\u001b[0m\u001b[0;34m,\u001b[0m \u001b[0;34m**\u001b[0m\u001b[0mkwargs\u001b[0m\u001b[0;34m)\u001b[0m\u001b[0;34m:\u001b[0m\u001b[0;34m\u001b[0m\u001b[0;34m\u001b[0m\u001b[0m\n\u001b[1;32m    722\u001b[0m     \u001b[0mfig\u001b[0m \u001b[0;34m=\u001b[0m \u001b[0mgcf\u001b[0m\u001b[0;34m(\u001b[0m\u001b[0;34m)\u001b[0m\u001b[0;34m\u001b[0m\u001b[0;34m\u001b[0m\u001b[0m\n\u001b[0;32m--> 723\u001b[0;31m     \u001b[0mres\u001b[0m \u001b[0;34m=\u001b[0m \u001b[0mfig\u001b[0m\u001b[0;34m.\u001b[0m\u001b[0msavefig\u001b[0m\u001b[0;34m(\u001b[0m\u001b[0;34m*\u001b[0m\u001b[0margs\u001b[0m\u001b[0;34m,\u001b[0m \u001b[0;34m**\u001b[0m\u001b[0mkwargs\u001b[0m\u001b[0;34m)\u001b[0m\u001b[0;34m\u001b[0m\u001b[0;34m\u001b[0m\u001b[0m\n\u001b[0m\u001b[1;32m    724\u001b[0m     \u001b[0mfig\u001b[0m\u001b[0;34m.\u001b[0m\u001b[0mcanvas\u001b[0m\u001b[0;34m.\u001b[0m\u001b[0mdraw_idle\u001b[0m\u001b[0;34m(\u001b[0m\u001b[0;34m)\u001b[0m   \u001b[0;31m# need this if 'transparent=True' to reset colors\u001b[0m\u001b[0;34m\u001b[0m\u001b[0;34m\u001b[0m\u001b[0m\n\u001b[1;32m    725\u001b[0m     \u001b[0;32mreturn\u001b[0m \u001b[0mres\u001b[0m\u001b[0;34m\u001b[0m\u001b[0;34m\u001b[0m\u001b[0m\n",
            "\u001b[0;32m/usr/local/lib/python3.6/dist-packages/matplotlib/figure.py\u001b[0m in \u001b[0;36msavefig\u001b[0;34m(self, fname, transparent, **kwargs)\u001b[0m\n\u001b[1;32m   2201\u001b[0m             \u001b[0mself\u001b[0m\u001b[0;34m.\u001b[0m\u001b[0mpatch\u001b[0m\u001b[0;34m.\u001b[0m\u001b[0mset_visible\u001b[0m\u001b[0;34m(\u001b[0m\u001b[0mframeon\u001b[0m\u001b[0;34m)\u001b[0m\u001b[0;34m\u001b[0m\u001b[0;34m\u001b[0m\u001b[0m\n\u001b[1;32m   2202\u001b[0m \u001b[0;34m\u001b[0m\u001b[0m\n\u001b[0;32m-> 2203\u001b[0;31m         \u001b[0mself\u001b[0m\u001b[0;34m.\u001b[0m\u001b[0mcanvas\u001b[0m\u001b[0;34m.\u001b[0m\u001b[0mprint_figure\u001b[0m\u001b[0;34m(\u001b[0m\u001b[0mfname\u001b[0m\u001b[0;34m,\u001b[0m \u001b[0;34m**\u001b[0m\u001b[0mkwargs\u001b[0m\u001b[0;34m)\u001b[0m\u001b[0;34m\u001b[0m\u001b[0;34m\u001b[0m\u001b[0m\n\u001b[0m\u001b[1;32m   2204\u001b[0m \u001b[0;34m\u001b[0m\u001b[0m\n\u001b[1;32m   2205\u001b[0m         \u001b[0;32mif\u001b[0m \u001b[0mframeon\u001b[0m\u001b[0;34m:\u001b[0m\u001b[0;34m\u001b[0m\u001b[0;34m\u001b[0m\u001b[0m\n",
            "\u001b[0;32m/usr/local/lib/python3.6/dist-packages/matplotlib/backend_bases.py\u001b[0m in \u001b[0;36mprint_figure\u001b[0;34m(self, filename, dpi, facecolor, edgecolor, orientation, format, bbox_inches, **kwargs)\u001b[0m\n\u001b[1;32m   2124\u001b[0m                     \u001b[0morientation\u001b[0m\u001b[0;34m=\u001b[0m\u001b[0morientation\u001b[0m\u001b[0;34m,\u001b[0m\u001b[0;34m\u001b[0m\u001b[0;34m\u001b[0m\u001b[0m\n\u001b[1;32m   2125\u001b[0m                     \u001b[0mbbox_inches_restore\u001b[0m\u001b[0;34m=\u001b[0m\u001b[0m_bbox_inches_restore\u001b[0m\u001b[0;34m,\u001b[0m\u001b[0;34m\u001b[0m\u001b[0;34m\u001b[0m\u001b[0m\n\u001b[0;32m-> 2126\u001b[0;31m                     **kwargs)\n\u001b[0m\u001b[1;32m   2127\u001b[0m             \u001b[0;32mfinally\u001b[0m\u001b[0;34m:\u001b[0m\u001b[0;34m\u001b[0m\u001b[0;34m\u001b[0m\u001b[0m\n\u001b[1;32m   2128\u001b[0m                 \u001b[0;32mif\u001b[0m \u001b[0mbbox_inches\u001b[0m \u001b[0;32mand\u001b[0m \u001b[0mrestore_bbox\u001b[0m\u001b[0;34m:\u001b[0m\u001b[0;34m\u001b[0m\u001b[0;34m\u001b[0m\u001b[0m\n",
            "\u001b[0;32m/usr/local/lib/python3.6/dist-packages/matplotlib/backends/backend_agg.py\u001b[0m in \u001b[0;36mprint_png\u001b[0;34m(self, filename_or_obj, metadata, pil_kwargs, *args, **kwargs)\u001b[0m\n\u001b[1;32m    533\u001b[0m         \u001b[0;32melse\u001b[0m\u001b[0;34m:\u001b[0m\u001b[0;34m\u001b[0m\u001b[0;34m\u001b[0m\u001b[0m\n\u001b[1;32m    534\u001b[0m             \u001b[0mrenderer\u001b[0m \u001b[0;34m=\u001b[0m \u001b[0mself\u001b[0m\u001b[0;34m.\u001b[0m\u001b[0mget_renderer\u001b[0m\u001b[0;34m(\u001b[0m\u001b[0;34m)\u001b[0m\u001b[0;34m\u001b[0m\u001b[0;34m\u001b[0m\u001b[0m\n\u001b[0;32m--> 535\u001b[0;31m             \u001b[0;32mwith\u001b[0m \u001b[0mcbook\u001b[0m\u001b[0;34m.\u001b[0m\u001b[0mopen_file_cm\u001b[0m\u001b[0;34m(\u001b[0m\u001b[0mfilename_or_obj\u001b[0m\u001b[0;34m,\u001b[0m \u001b[0;34m\"wb\"\u001b[0m\u001b[0;34m)\u001b[0m \u001b[0;32mas\u001b[0m \u001b[0mfh\u001b[0m\u001b[0;34m:\u001b[0m\u001b[0;34m\u001b[0m\u001b[0;34m\u001b[0m\u001b[0m\n\u001b[0m\u001b[1;32m    536\u001b[0m                 _png.write_png(renderer._renderer, fh, self.figure.dpi,\n\u001b[1;32m    537\u001b[0m                                metadata={**default_metadata, **metadata})\n",
            "\u001b[0;32m/usr/lib/python3.6/contextlib.py\u001b[0m in \u001b[0;36m__enter__\u001b[0;34m(self)\u001b[0m\n\u001b[1;32m     79\u001b[0m     \u001b[0;32mdef\u001b[0m \u001b[0m__enter__\u001b[0m\u001b[0;34m(\u001b[0m\u001b[0mself\u001b[0m\u001b[0;34m)\u001b[0m\u001b[0;34m:\u001b[0m\u001b[0;34m\u001b[0m\u001b[0;34m\u001b[0m\u001b[0m\n\u001b[1;32m     80\u001b[0m         \u001b[0;32mtry\u001b[0m\u001b[0;34m:\u001b[0m\u001b[0;34m\u001b[0m\u001b[0;34m\u001b[0m\u001b[0m\n\u001b[0;32m---> 81\u001b[0;31m             \u001b[0;32mreturn\u001b[0m \u001b[0mnext\u001b[0m\u001b[0;34m(\u001b[0m\u001b[0mself\u001b[0m\u001b[0;34m.\u001b[0m\u001b[0mgen\u001b[0m\u001b[0;34m)\u001b[0m\u001b[0;34m\u001b[0m\u001b[0;34m\u001b[0m\u001b[0m\n\u001b[0m\u001b[1;32m     82\u001b[0m         \u001b[0;32mexcept\u001b[0m \u001b[0mStopIteration\u001b[0m\u001b[0;34m:\u001b[0m\u001b[0;34m\u001b[0m\u001b[0;34m\u001b[0m\u001b[0m\n\u001b[1;32m     83\u001b[0m             \u001b[0;32mraise\u001b[0m \u001b[0mRuntimeError\u001b[0m\u001b[0;34m(\u001b[0m\u001b[0;34m\"generator didn't yield\"\u001b[0m\u001b[0;34m)\u001b[0m \u001b[0;32mfrom\u001b[0m \u001b[0;32mNone\u001b[0m\u001b[0;34m\u001b[0m\u001b[0;34m\u001b[0m\u001b[0m\n",
            "\u001b[0;32m/usr/local/lib/python3.6/dist-packages/matplotlib/cbook/__init__.py\u001b[0m in \u001b[0;36mopen_file_cm\u001b[0;34m(path_or_file, mode, encoding)\u001b[0m\n\u001b[1;32m    416\u001b[0m \u001b[0;32mdef\u001b[0m \u001b[0mopen_file_cm\u001b[0m\u001b[0;34m(\u001b[0m\u001b[0mpath_or_file\u001b[0m\u001b[0;34m,\u001b[0m \u001b[0mmode\u001b[0m\u001b[0;34m=\u001b[0m\u001b[0;34m\"r\"\u001b[0m\u001b[0;34m,\u001b[0m \u001b[0mencoding\u001b[0m\u001b[0;34m=\u001b[0m\u001b[0;32mNone\u001b[0m\u001b[0;34m)\u001b[0m\u001b[0;34m:\u001b[0m\u001b[0;34m\u001b[0m\u001b[0;34m\u001b[0m\u001b[0m\n\u001b[1;32m    417\u001b[0m     \u001b[0;34mr\"\"\"Pass through file objects and context-manage `.PathLike`\\s.\"\"\"\u001b[0m\u001b[0;34m\u001b[0m\u001b[0;34m\u001b[0m\u001b[0m\n\u001b[0;32m--> 418\u001b[0;31m     \u001b[0mfh\u001b[0m\u001b[0;34m,\u001b[0m \u001b[0mopened\u001b[0m \u001b[0;34m=\u001b[0m \u001b[0mto_filehandle\u001b[0m\u001b[0;34m(\u001b[0m\u001b[0mpath_or_file\u001b[0m\u001b[0;34m,\u001b[0m \u001b[0mmode\u001b[0m\u001b[0;34m,\u001b[0m \u001b[0;32mTrue\u001b[0m\u001b[0;34m,\u001b[0m \u001b[0mencoding\u001b[0m\u001b[0;34m)\u001b[0m\u001b[0;34m\u001b[0m\u001b[0;34m\u001b[0m\u001b[0m\n\u001b[0m\u001b[1;32m    419\u001b[0m     \u001b[0;32mif\u001b[0m \u001b[0mopened\u001b[0m\u001b[0;34m:\u001b[0m\u001b[0;34m\u001b[0m\u001b[0;34m\u001b[0m\u001b[0m\n\u001b[1;32m    420\u001b[0m         \u001b[0;32mwith\u001b[0m \u001b[0mfh\u001b[0m\u001b[0;34m:\u001b[0m\u001b[0;34m\u001b[0m\u001b[0;34m\u001b[0m\u001b[0m\n",
            "\u001b[0;32m/usr/local/lib/python3.6/dist-packages/matplotlib/cbook/__init__.py\u001b[0m in \u001b[0;36mto_filehandle\u001b[0;34m(fname, flag, return_opened, encoding)\u001b[0m\n\u001b[1;32m    401\u001b[0m             \u001b[0mfh\u001b[0m \u001b[0;34m=\u001b[0m \u001b[0mbz2\u001b[0m\u001b[0;34m.\u001b[0m\u001b[0mBZ2File\u001b[0m\u001b[0;34m(\u001b[0m\u001b[0mfname\u001b[0m\u001b[0;34m,\u001b[0m \u001b[0mflag\u001b[0m\u001b[0;34m)\u001b[0m\u001b[0;34m\u001b[0m\u001b[0;34m\u001b[0m\u001b[0m\n\u001b[1;32m    402\u001b[0m         \u001b[0;32melse\u001b[0m\u001b[0;34m:\u001b[0m\u001b[0;34m\u001b[0m\u001b[0;34m\u001b[0m\u001b[0m\n\u001b[0;32m--> 403\u001b[0;31m             \u001b[0mfh\u001b[0m \u001b[0;34m=\u001b[0m \u001b[0mopen\u001b[0m\u001b[0;34m(\u001b[0m\u001b[0mfname\u001b[0m\u001b[0;34m,\u001b[0m \u001b[0mflag\u001b[0m\u001b[0;34m,\u001b[0m \u001b[0mencoding\u001b[0m\u001b[0;34m=\u001b[0m\u001b[0mencoding\u001b[0m\u001b[0;34m)\u001b[0m\u001b[0;34m\u001b[0m\u001b[0;34m\u001b[0m\u001b[0m\n\u001b[0m\u001b[1;32m    404\u001b[0m         \u001b[0mopened\u001b[0m \u001b[0;34m=\u001b[0m \u001b[0;32mTrue\u001b[0m\u001b[0;34m\u001b[0m\u001b[0;34m\u001b[0m\u001b[0m\n\u001b[1;32m    405\u001b[0m     \u001b[0;32melif\u001b[0m \u001b[0mhasattr\u001b[0m\u001b[0;34m(\u001b[0m\u001b[0mfname\u001b[0m\u001b[0;34m,\u001b[0m \u001b[0;34m'seek'\u001b[0m\u001b[0;34m)\u001b[0m\u001b[0;34m:\u001b[0m\u001b[0;34m\u001b[0m\u001b[0;34m\u001b[0m\u001b[0m\n",
            "\u001b[0;31mFileNotFoundError\u001b[0m: [Errno 2] No such file or directory: 'output_data/Fig1.png'"
          ]
        },
        {
          "output_type": "display_data",
          "data": {
            "image/png": "[encoded data removed]",
            "text/plain": [
              "<Figure size 432x288 with 1 Axes>"
            ]
          },
          "metadata": {
            "tags": [],
            "needs_background": "light"
          }
        }
      ]
    },
    {
      "cell_type": "markdown",
      "metadata": {
        "id": "U-s4dy_jaeS4",
        "colab_type": "text"
      },
      "source": [
        "### Latitude vs. Humidity Plot"
      ]
    },
    {
      "cell_type": "code",
      "metadata": {
        "id": "4BUYvYkEYHUO",
        "colab_type": "code",
        "colab": {
          "base_uri": "https://localhost:8080/",
          "height": 635
        },
        "outputId": "a534b93e-7363-4028-9219-900bbda00530"
      },
      "source": [
        "\n",
        "plt.scatter(weather_df[\"Lat\"],weather_df[\"Humidity\"],edgecolors=\"black\",facecolors=\"blue\")\n",
        "plt.title(\"City Latitude vs. Humidity (08/29/20)\")\n",
        "plt.xlabel(\"Latitude\")\n",
        "plt.ylabel(\"Humidity (%)\")\n",
        "plt.ylim(15,105)\n",
        "plt.grid (b=True,which=\"major\",axis=\"both\",linestyle=\"-\",color=\"lightgrey\")\n",
        "plt.savefig(\"output_data/Fig2.png\")\n",
        "plt.show()"
      ],
      "execution_count": 20,
      "outputs": [
        {
          "output_type": "error",
          "ename": "FileNotFoundError",
          "evalue": "ignored",
          "traceback": [
            "\u001b[0;31m---------------------------------------------------------------------------\u001b[0m",
            "\u001b[0;31mFileNotFoundError\u001b[0m                         Traceback (most recent call last)",
            "\u001b[0;32m<ipython-input-20-083fff3a3be9>\u001b[0m in \u001b[0;36m<module>\u001b[0;34m()\u001b[0m\n\u001b[1;32m      6\u001b[0m \u001b[0mplt\u001b[0m\u001b[0;34m.\u001b[0m\u001b[0mylim\u001b[0m\u001b[0;34m(\u001b[0m\u001b[0;36m15\u001b[0m\u001b[0;34m,\u001b[0m\u001b[0;36m105\u001b[0m\u001b[0;34m)\u001b[0m\u001b[0;34m\u001b[0m\u001b[0;34m\u001b[0m\u001b[0m\n\u001b[1;32m      7\u001b[0m \u001b[0mplt\u001b[0m\u001b[0;34m.\u001b[0m\u001b[0mgrid\u001b[0m \u001b[0;34m(\u001b[0m\u001b[0mb\u001b[0m\u001b[0;34m=\u001b[0m\u001b[0;32mTrue\u001b[0m\u001b[0;34m,\u001b[0m\u001b[0mwhich\u001b[0m\u001b[0;34m=\u001b[0m\u001b[0;34m\"major\"\u001b[0m\u001b[0;34m,\u001b[0m\u001b[0maxis\u001b[0m\u001b[0;34m=\u001b[0m\u001b[0;34m\"both\"\u001b[0m\u001b[0;34m,\u001b[0m\u001b[0mlinestyle\u001b[0m\u001b[0;34m=\u001b[0m\u001b[0;34m\"-\"\u001b[0m\u001b[0;34m,\u001b[0m\u001b[0mcolor\u001b[0m\u001b[0;34m=\u001b[0m\u001b[0;34m\"lightgrey\"\u001b[0m\u001b[0;34m)\u001b[0m\u001b[0;34m\u001b[0m\u001b[0;34m\u001b[0m\u001b[0m\n\u001b[0;32m----> 8\u001b[0;31m \u001b[0mplt\u001b[0m\u001b[0;34m.\u001b[0m\u001b[0msavefig\u001b[0m\u001b[0;34m(\u001b[0m\u001b[0;34m\"output_data/Fig2.png\"\u001b[0m\u001b[0;34m)\u001b[0m\u001b[0;34m\u001b[0m\u001b[0;34m\u001b[0m\u001b[0m\n\u001b[0m\u001b[1;32m      9\u001b[0m \u001b[0mplt\u001b[0m\u001b[0;34m.\u001b[0m\u001b[0mshow\u001b[0m\u001b[0;34m(\u001b[0m\u001b[0;34m)\u001b[0m\u001b[0;34m\u001b[0m\u001b[0;34m\u001b[0m\u001b[0m\n",
            "\u001b[0;32m/usr/local/lib/python3.6/dist-packages/matplotlib/pyplot.py\u001b[0m in \u001b[0;36msavefig\u001b[0;34m(*args, **kwargs)\u001b[0m\n\u001b[1;32m    721\u001b[0m \u001b[0;32mdef\u001b[0m \u001b[0msavefig\u001b[0m\u001b[0;34m(\u001b[0m\u001b[0;34m*\u001b[0m\u001b[0margs\u001b[0m\u001b[0;34m,\u001b[0m \u001b[0;34m**\u001b[0m\u001b[0mkwargs\u001b[0m\u001b[0;34m)\u001b[0m\u001b[0;34m:\u001b[0m\u001b[0;34m\u001b[0m\u001b[0;34m\u001b[0m\u001b[0m\n\u001b[1;32m    722\u001b[0m     \u001b[0mfig\u001b[0m \u001b[0;34m=\u001b[0m \u001b[0mgcf\u001b[0m\u001b[0;34m(\u001b[0m\u001b[0;34m)\u001b[0m\u001b[0;34m\u001b[0m\u001b[0;34m\u001b[0m\u001b[0m\n\u001b[0;32m--> 723\u001b[0;31m     \u001b[0mres\u001b[0m \u001b[0;34m=\u001b[0m \u001b[0mfig\u001b[0m\u001b[0;34m.\u001b[0m\u001b[0msavefig\u001b[0m\u001b[0;34m(\u001b[0m\u001b[0;34m*\u001b[0m\u001b[0margs\u001b[0m\u001b[0;34m,\u001b[0m \u001b[0;34m**\u001b[0m\u001b[0mkwargs\u001b[0m\u001b[0;34m)\u001b[0m\u001b[0;34m\u001b[0m\u001b[0;34m\u001b[0m\u001b[0m\n\u001b[0m\u001b[1;32m    724\u001b[0m     \u001b[0mfig\u001b[0m\u001b[0;34m.\u001b[0m\u001b[0mcanvas\u001b[0m\u001b[0;34m.\u001b[0m\u001b[0mdraw_idle\u001b[0m\u001b[0;34m(\u001b[0m\u001b[0;34m)\u001b[0m   \u001b[0;31m# need this if 'transparent=True' to reset colors\u001b[0m\u001b[0;34m\u001b[0m\u001b[0;34m\u001b[0m\u001b[0m\n\u001b[1;32m    725\u001b[0m     \u001b[0;32mreturn\u001b[0m \u001b[0mres\u001b[0m\u001b[0;34m\u001b[0m\u001b[0;34m\u001b[0m\u001b[0m\n",
            "\u001b[0;32m/usr/local/lib/python3.6/dist-packages/matplotlib/figure.py\u001b[0m in \u001b[0;36msavefig\u001b[0;34m(self, fname, transparent, **kwargs)\u001b[0m\n\u001b[1;32m   2201\u001b[0m             \u001b[0mself\u001b[0m\u001b[0;34m.\u001b[0m\u001b[0mpatch\u001b[0m\u001b[0;34m.\u001b[0m\u001b[0mset_visible\u001b[0m\u001b[0;34m(\u001b[0m\u001b[0mframeon\u001b[0m\u001b[0;34m)\u001b[0m\u001b[0;34m\u001b[0m\u001b[0;34m\u001b[0m\u001b[0m\n\u001b[1;32m   2202\u001b[0m \u001b[0;34m\u001b[0m\u001b[0m\n\u001b[0;32m-> 2203\u001b[0;31m         \u001b[0mself\u001b[0m\u001b[0;34m.\u001b[0m\u001b[0mcanvas\u001b[0m\u001b[0;34m.\u001b[0m\u001b[0mprint_figure\u001b[0m\u001b[0;34m(\u001b[0m\u001b[0mfname\u001b[0m\u001b[0;34m,\u001b[0m \u001b[0;34m**\u001b[0m\u001b[0mkwargs\u001b[0m\u001b[0;34m)\u001b[0m\u001b[0;34m\u001b[0m\u001b[0;34m\u001b[0m\u001b[0m\n\u001b[0m\u001b[1;32m   2204\u001b[0m \u001b[0;34m\u001b[0m\u001b[0m\n\u001b[1;32m   2205\u001b[0m         \u001b[0;32mif\u001b[0m \u001b[0mframeon\u001b[0m\u001b[0;34m:\u001b[0m\u001b[0;34m\u001b[0m\u001b[0;34m\u001b[0m\u001b[0m\n",
            "\u001b[0;32m/usr/local/lib/python3.6/dist-packages/matplotlib/backend_bases.py\u001b[0m in \u001b[0;36mprint_figure\u001b[0;34m(self, filename, dpi, facecolor, edgecolor, orientation, format, bbox_inches, **kwargs)\u001b[0m\n\u001b[1;32m   2124\u001b[0m                     \u001b[0morientation\u001b[0m\u001b[0;34m=\u001b[0m\u001b[0morientation\u001b[0m\u001b[0;34m,\u001b[0m\u001b[0;34m\u001b[0m\u001b[0;34m\u001b[0m\u001b[0m\n\u001b[1;32m   2125\u001b[0m                     \u001b[0mbbox_inches_restore\u001b[0m\u001b[0;34m=\u001b[0m\u001b[0m_bbox_inches_restore\u001b[0m\u001b[0;34m,\u001b[0m\u001b[0;34m\u001b[0m\u001b[0;34m\u001b[0m\u001b[0m\n\u001b[0;32m-> 2126\u001b[0;31m                     **kwargs)\n\u001b[0m\u001b[1;32m   2127\u001b[0m             \u001b[0;32mfinally\u001b[0m\u001b[0;34m:\u001b[0m\u001b[0;34m\u001b[0m\u001b[0;34m\u001b[0m\u001b[0m\n\u001b[1;32m   2128\u001b[0m                 \u001b[0;32mif\u001b[0m \u001b[0mbbox_inches\u001b[0m \u001b[0;32mand\u001b[0m \u001b[0mrestore_bbox\u001b[0m\u001b[0;34m:\u001b[0m\u001b[0;34m\u001b[0m\u001b[0;34m\u001b[0m\u001b[0m\n",
            "\u001b[0;32m/usr/local/lib/python3.6/dist-packages/matplotlib/backends/backend_agg.py\u001b[0m in \u001b[0;36mprint_png\u001b[0;34m(self, filename_or_obj, metadata, pil_kwargs, *args, **kwargs)\u001b[0m\n\u001b[1;32m    533\u001b[0m         \u001b[0;32melse\u001b[0m\u001b[0;34m:\u001b[0m\u001b[0;34m\u001b[0m\u001b[0;34m\u001b[0m\u001b[0m\n\u001b[1;32m    534\u001b[0m             \u001b[0mrenderer\u001b[0m \u001b[0;34m=\u001b[0m \u001b[0mself\u001b[0m\u001b[0;34m.\u001b[0m\u001b[0mget_renderer\u001b[0m\u001b[0;34m(\u001b[0m\u001b[0;34m)\u001b[0m\u001b[0;34m\u001b[0m\u001b[0;34m\u001b[0m\u001b[0m\n\u001b[0;32m--> 535\u001b[0;31m             \u001b[0;32mwith\u001b[0m \u001b[0mcbook\u001b[0m\u001b[0;34m.\u001b[0m\u001b[0mopen_file_cm\u001b[0m\u001b[0;34m(\u001b[0m\u001b[0mfilename_or_obj\u001b[0m\u001b[0;34m,\u001b[0m \u001b[0;34m\"wb\"\u001b[0m\u001b[0;34m)\u001b[0m \u001b[0;32mas\u001b[0m \u001b[0mfh\u001b[0m\u001b[0;34m:\u001b[0m\u001b[0;34m\u001b[0m\u001b[0;34m\u001b[0m\u001b[0m\n\u001b[0m\u001b[1;32m    536\u001b[0m                 _png.write_png(renderer._renderer, fh, self.figure.dpi,\n\u001b[1;32m    537\u001b[0m                                metadata={**default_metadata, **metadata})\n",
            "\u001b[0;32m/usr/lib/python3.6/contextlib.py\u001b[0m in \u001b[0;36m__enter__\u001b[0;34m(self)\u001b[0m\n\u001b[1;32m     79\u001b[0m     \u001b[0;32mdef\u001b[0m \u001b[0m__enter__\u001b[0m\u001b[0;34m(\u001b[0m\u001b[0mself\u001b[0m\u001b[0;34m)\u001b[0m\u001b[0;34m:\u001b[0m\u001b[0;34m\u001b[0m\u001b[0;34m\u001b[0m\u001b[0m\n\u001b[1;32m     80\u001b[0m         \u001b[0;32mtry\u001b[0m\u001b[0;34m:\u001b[0m\u001b[0;34m\u001b[0m\u001b[0;34m\u001b[0m\u001b[0m\n\u001b[0;32m---> 81\u001b[0;31m             \u001b[0;32mreturn\u001b[0m \u001b[0mnext\u001b[0m\u001b[0;34m(\u001b[0m\u001b[0mself\u001b[0m\u001b[0;34m.\u001b[0m\u001b[0mgen\u001b[0m\u001b[0;34m)\u001b[0m\u001b[0;34m\u001b[0m\u001b[0;34m\u001b[0m\u001b[0m\n\u001b[0m\u001b[1;32m     82\u001b[0m         \u001b[0;32mexcept\u001b[0m \u001b[0mStopIteration\u001b[0m\u001b[0;34m:\u001b[0m\u001b[0;34m\u001b[0m\u001b[0;34m\u001b[0m\u001b[0m\n\u001b[1;32m     83\u001b[0m             \u001b[0;32mraise\u001b[0m \u001b[0mRuntimeError\u001b[0m\u001b[0;34m(\u001b[0m\u001b[0;34m\"generator didn't yield\"\u001b[0m\u001b[0;34m)\u001b[0m \u001b[0;32mfrom\u001b[0m \u001b[0;32mNone\u001b[0m\u001b[0;34m\u001b[0m\u001b[0;34m\u001b[0m\u001b[0m\n",
            "\u001b[0;32m/usr/local/lib/python3.6/dist-packages/matplotlib/cbook/__init__.py\u001b[0m in \u001b[0;36mopen_file_cm\u001b[0;34m(path_or_file, mode, encoding)\u001b[0m\n\u001b[1;32m    416\u001b[0m \u001b[0;32mdef\u001b[0m \u001b[0mopen_file_cm\u001b[0m\u001b[0;34m(\u001b[0m\u001b[0mpath_or_file\u001b[0m\u001b[0;34m,\u001b[0m \u001b[0mmode\u001b[0m\u001b[0;34m=\u001b[0m\u001b[0;34m\"r\"\u001b[0m\u001b[0;34m,\u001b[0m \u001b[0mencoding\u001b[0m\u001b[0;34m=\u001b[0m\u001b[0;32mNone\u001b[0m\u001b[0;34m)\u001b[0m\u001b[0;34m:\u001b[0m\u001b[0;34m\u001b[0m\u001b[0;34m\u001b[0m\u001b[0m\n\u001b[1;32m    417\u001b[0m     \u001b[0;34mr\"\"\"Pass through file objects and context-manage `.PathLike`\\s.\"\"\"\u001b[0m\u001b[0;34m\u001b[0m\u001b[0;34m\u001b[0m\u001b[0m\n\u001b[0;32m--> 418\u001b[0;31m     \u001b[0mfh\u001b[0m\u001b[0;34m,\u001b[0m \u001b[0mopened\u001b[0m \u001b[0;34m=\u001b[0m \u001b[0mto_filehandle\u001b[0m\u001b[0;34m(\u001b[0m\u001b[0mpath_or_file\u001b[0m\u001b[0;34m,\u001b[0m \u001b[0mmode\u001b[0m\u001b[0;34m,\u001b[0m \u001b[0;32mTrue\u001b[0m\u001b[0;34m,\u001b[0m \u001b[0mencoding\u001b[0m\u001b[0;34m)\u001b[0m\u001b[0;34m\u001b[0m\u001b[0;34m\u001b[0m\u001b[0m\n\u001b[0m\u001b[1;32m    419\u001b[0m     \u001b[0;32mif\u001b[0m \u001b[0mopened\u001b[0m\u001b[0;34m:\u001b[0m\u001b[0;34m\u001b[0m\u001b[0;34m\u001b[0m\u001b[0m\n\u001b[1;32m    420\u001b[0m         \u001b[0;32mwith\u001b[0m \u001b[0mfh\u001b[0m\u001b[0;34m:\u001b[0m\u001b[0;34m\u001b[0m\u001b[0;34m\u001b[0m\u001b[0m\n",
            "\u001b[0;32m/usr/local/lib/python3.6/dist-packages/matplotlib/cbook/__init__.py\u001b[0m in \u001b[0;36mto_filehandle\u001b[0;34m(fname, flag, return_opened, encoding)\u001b[0m\n\u001b[1;32m    401\u001b[0m             \u001b[0mfh\u001b[0m \u001b[0;34m=\u001b[0m \u001b[0mbz2\u001b[0m\u001b[0;34m.\u001b[0m\u001b[0mBZ2File\u001b[0m\u001b[0;34m(\u001b[0m\u001b[0mfname\u001b[0m\u001b[0;34m,\u001b[0m \u001b[0mflag\u001b[0m\u001b[0;34m)\u001b[0m\u001b[0;34m\u001b[0m\u001b[0;34m\u001b[0m\u001b[0m\n\u001b[1;32m    402\u001b[0m         \u001b[0;32melse\u001b[0m\u001b[0;34m:\u001b[0m\u001b[0;34m\u001b[0m\u001b[0;34m\u001b[0m\u001b[0m\n\u001b[0;32m--> 403\u001b[0;31m             \u001b[0mfh\u001b[0m \u001b[0;34m=\u001b[0m \u001b[0mopen\u001b[0m\u001b[0;34m(\u001b[0m\u001b[0mfname\u001b[0m\u001b[0;34m,\u001b[0m \u001b[0mflag\u001b[0m\u001b[0;34m,\u001b[0m \u001b[0mencoding\u001b[0m\u001b[0;34m=\u001b[0m\u001b[0mencoding\u001b[0m\u001b[0;34m)\u001b[0m\u001b[0;34m\u001b[0m\u001b[0;34m\u001b[0m\u001b[0m\n\u001b[0m\u001b[1;32m    404\u001b[0m         \u001b[0mopened\u001b[0m \u001b[0;34m=\u001b[0m \u001b[0;32mTrue\u001b[0m\u001b[0;34m\u001b[0m\u001b[0;34m\u001b[0m\u001b[0m\n\u001b[1;32m    405\u001b[0m     \u001b[0;32melif\u001b[0m \u001b[0mhasattr\u001b[0m\u001b[0;34m(\u001b[0m\u001b[0mfname\u001b[0m\u001b[0;34m,\u001b[0m \u001b[0;34m'seek'\u001b[0m\u001b[0;34m)\u001b[0m\u001b[0;34m:\u001b[0m\u001b[0;34m\u001b[0m\u001b[0;34m\u001b[0m\u001b[0m\n",
            "\u001b[0;31mFileNotFoundError\u001b[0m: [Errno 2] No such file or directory: 'output_data/Fig2.png'"
          ]
        },
        {
          "output_type": "display_data",
          "data": {
            "image/png": "[encoded data removed]",
            "text/plain": [
              "<Figure size 432x288 with 1 Axes>"
            ]
          },
          "metadata": {
            "tags": [],
            "needs_background": "light"
          }
        }
      ]
    },
    {
      "cell_type": "markdown",
      "metadata": {
        "id": "Tnl-D-djbTaM",
        "colab_type": "text"
      },
      "source": [
        "### Latitude vs. Cloudiness Plot"
      ]
    },
    {
      "cell_type": "code",
      "metadata": {
        "id": "Vzw4J52lawGC",
        "colab_type": "code",
        "colab": {
          "base_uri": "https://localhost:8080/",
          "height": 635
        },
        "outputId": "86ff011f-958a-40ff-b4b8-7892c22363e2"
      },
      "source": [
        "plt.scatter(weather_df[\"Lat\"],weather_df[\"Cloudiness\"],edgecolors=\"black\",facecolors=\"blue\")\n",
        "plt.title(\"City Latitude vs. Cloudiness (08/29/2020)\")\n",
        "plt.xlabel(\"Latitude\")\n",
        "plt.ylabel(\"Cloudiness (%)\")\n",
        "plt.grid (b=True,which=\"major\",axis=\"both\",linestyle=\"-\",color=\"lightgrey\")\n",
        "plt.savefig(\"output_data/Fig3.png\")\n",
        "plt.show()"
      ],
      "execution_count": 22,
      "outputs": [
        {
          "output_type": "error",
          "ename": "FileNotFoundError",
          "evalue": "ignored",
          "traceback": [
            "\u001b[0;31m---------------------------------------------------------------------------\u001b[0m",
            "\u001b[0;31mFileNotFoundError\u001b[0m                         Traceback (most recent call last)",
            "\u001b[0;32m<ipython-input-22-ee0664ed93fb>\u001b[0m in \u001b[0;36m<module>\u001b[0;34m()\u001b[0m\n\u001b[1;32m      4\u001b[0m \u001b[0mplt\u001b[0m\u001b[0;34m.\u001b[0m\u001b[0mylabel\u001b[0m\u001b[0;34m(\u001b[0m\u001b[0;34m\"Cloudiness (%)\"\u001b[0m\u001b[0;34m)\u001b[0m\u001b[0;34m\u001b[0m\u001b[0;34m\u001b[0m\u001b[0m\n\u001b[1;32m      5\u001b[0m \u001b[0mplt\u001b[0m\u001b[0;34m.\u001b[0m\u001b[0mgrid\u001b[0m \u001b[0;34m(\u001b[0m\u001b[0mb\u001b[0m\u001b[0;34m=\u001b[0m\u001b[0;32mTrue\u001b[0m\u001b[0;34m,\u001b[0m\u001b[0mwhich\u001b[0m\u001b[0;34m=\u001b[0m\u001b[0;34m\"major\"\u001b[0m\u001b[0;34m,\u001b[0m\u001b[0maxis\u001b[0m\u001b[0;34m=\u001b[0m\u001b[0;34m\"both\"\u001b[0m\u001b[0;34m,\u001b[0m\u001b[0mlinestyle\u001b[0m\u001b[0;34m=\u001b[0m\u001b[0;34m\"-\"\u001b[0m\u001b[0;34m,\u001b[0m\u001b[0mcolor\u001b[0m\u001b[0;34m=\u001b[0m\u001b[0;34m\"lightgrey\"\u001b[0m\u001b[0;34m)\u001b[0m\u001b[0;34m\u001b[0m\u001b[0;34m\u001b[0m\u001b[0m\n\u001b[0;32m----> 6\u001b[0;31m \u001b[0mplt\u001b[0m\u001b[0;34m.\u001b[0m\u001b[0msavefig\u001b[0m\u001b[0;34m(\u001b[0m\u001b[0;34m\"output_data/Fig3.png\"\u001b[0m\u001b[0;34m)\u001b[0m\u001b[0;34m\u001b[0m\u001b[0;34m\u001b[0m\u001b[0m\n\u001b[0m\u001b[1;32m      7\u001b[0m \u001b[0mplt\u001b[0m\u001b[0;34m.\u001b[0m\u001b[0mshow\u001b[0m\u001b[0;34m(\u001b[0m\u001b[0;34m)\u001b[0m\u001b[0;34m\u001b[0m\u001b[0;34m\u001b[0m\u001b[0m\n",
            "\u001b[0;32m/usr/local/lib/python3.6/dist-packages/matplotlib/pyplot.py\u001b[0m in \u001b[0;36msavefig\u001b[0;34m(*args, **kwargs)\u001b[0m\n\u001b[1;32m    721\u001b[0m \u001b[0;32mdef\u001b[0m \u001b[0msavefig\u001b[0m\u001b[0;34m(\u001b[0m\u001b[0;34m*\u001b[0m\u001b[0margs\u001b[0m\u001b[0;34m,\u001b[0m \u001b[0;34m**\u001b[0m\u001b[0mkwargs\u001b[0m\u001b[0;34m)\u001b[0m\u001b[0;34m:\u001b[0m\u001b[0;34m\u001b[0m\u001b[0;34m\u001b[0m\u001b[0m\n\u001b[1;32m    722\u001b[0m     \u001b[0mfig\u001b[0m \u001b[0;34m=\u001b[0m \u001b[0mgcf\u001b[0m\u001b[0;34m(\u001b[0m\u001b[0;34m)\u001b[0m\u001b[0;34m\u001b[0m\u001b[0;34m\u001b[0m\u001b[0m\n\u001b[0;32m--> 723\u001b[0;31m     \u001b[0mres\u001b[0m \u001b[0;34m=\u001b[0m \u001b[0mfig\u001b[0m\u001b[0;34m.\u001b[0m\u001b[0msavefig\u001b[0m\u001b[0;34m(\u001b[0m\u001b[0;34m*\u001b[0m\u001b[0margs\u001b[0m\u001b[0;34m,\u001b[0m \u001b[0;34m**\u001b[0m\u001b[0mkwargs\u001b[0m\u001b[0;34m)\u001b[0m\u001b[0;34m\u001b[0m\u001b[0;34m\u001b[0m\u001b[0m\n\u001b[0m\u001b[1;32m    724\u001b[0m     \u001b[0mfig\u001b[0m\u001b[0;34m.\u001b[0m\u001b[0mcanvas\u001b[0m\u001b[0;34m.\u001b[0m\u001b[0mdraw_idle\u001b[0m\u001b[0;34m(\u001b[0m\u001b[0;34m)\u001b[0m   \u001b[0;31m# need this if 'transparent=True' to reset colors\u001b[0m\u001b[0;34m\u001b[0m\u001b[0;34m\u001b[0m\u001b[0m\n\u001b[1;32m    725\u001b[0m     \u001b[0;32mreturn\u001b[0m \u001b[0mres\u001b[0m\u001b[0;34m\u001b[0m\u001b[0;34m\u001b[0m\u001b[0m\n",
            "\u001b[0;32m/usr/local/lib/python3.6/dist-packages/matplotlib/figure.py\u001b[0m in \u001b[0;36msavefig\u001b[0;34m(self, fname, transparent, **kwargs)\u001b[0m\n\u001b[1;32m   2201\u001b[0m             \u001b[0mself\u001b[0m\u001b[0;34m.\u001b[0m\u001b[0mpatch\u001b[0m\u001b[0;34m.\u001b[0m\u001b[0mset_visible\u001b[0m\u001b[0;34m(\u001b[0m\u001b[0mframeon\u001b[0m\u001b[0;34m)\u001b[0m\u001b[0;34m\u001b[0m\u001b[0;34m\u001b[0m\u001b[0m\n\u001b[1;32m   2202\u001b[0m \u001b[0;34m\u001b[0m\u001b[0m\n\u001b[0;32m-> 2203\u001b[0;31m         \u001b[0mself\u001b[0m\u001b[0;34m.\u001b[0m\u001b[0mcanvas\u001b[0m\u001b[0;34m.\u001b[0m\u001b[0mprint_figure\u001b[0m\u001b[0;34m(\u001b[0m\u001b[0mfname\u001b[0m\u001b[0;34m,\u001b[0m \u001b[0;34m**\u001b[0m\u001b[0mkwargs\u001b[0m\u001b[0;34m)\u001b[0m\u001b[0;34m\u001b[0m\u001b[0;34m\u001b[0m\u001b[0m\n\u001b[0m\u001b[1;32m   2204\u001b[0m \u001b[0;34m\u001b[0m\u001b[0m\n\u001b[1;32m   2205\u001b[0m         \u001b[0;32mif\u001b[0m \u001b[0mframeon\u001b[0m\u001b[0;34m:\u001b[0m\u001b[0;34m\u001b[0m\u001b[0;34m\u001b[0m\u001b[0m\n",
            "\u001b[0;32m/usr/local/lib/python3.6/dist-packages/matplotlib/backend_bases.py\u001b[0m in \u001b[0;36mprint_figure\u001b[0;34m(self, filename, dpi, facecolor, edgecolor, orientation, format, bbox_inches, **kwargs)\u001b[0m\n\u001b[1;32m   2124\u001b[0m                     \u001b[0morientation\u001b[0m\u001b[0;34m=\u001b[0m\u001b[0morientation\u001b[0m\u001b[0;34m,\u001b[0m\u001b[0;34m\u001b[0m\u001b[0;34m\u001b[0m\u001b[0m\n\u001b[1;32m   2125\u001b[0m                     \u001b[0mbbox_inches_restore\u001b[0m\u001b[0;34m=\u001b[0m\u001b[0m_bbox_inches_restore\u001b[0m\u001b[0;34m,\u001b[0m\u001b[0;34m\u001b[0m\u001b[0;34m\u001b[0m\u001b[0m\n\u001b[0;32m-> 2126\u001b[0;31m                     **kwargs)\n\u001b[0m\u001b[1;32m   2127\u001b[0m             \u001b[0;32mfinally\u001b[0m\u001b[0;34m:\u001b[0m\u001b[0;34m\u001b[0m\u001b[0;34m\u001b[0m\u001b[0m\n\u001b[1;32m   2128\u001b[0m                 \u001b[0;32mif\u001b[0m \u001b[0mbbox_inches\u001b[0m \u001b[0;32mand\u001b[0m \u001b[0mrestore_bbox\u001b[0m\u001b[0;34m:\u001b[0m\u001b[0;34m\u001b[0m\u001b[0;34m\u001b[0m\u001b[0m\n",
            "\u001b[0;32m/usr/local/lib/python3.6/dist-packages/matplotlib/backends/backend_agg.py\u001b[0m in \u001b[0;36mprint_png\u001b[0;34m(self, filename_or_obj, metadata, pil_kwargs, *args, **kwargs)\u001b[0m\n\u001b[1;32m    533\u001b[0m         \u001b[0;32melse\u001b[0m\u001b[0;34m:\u001b[0m\u001b[0;34m\u001b[0m\u001b[0;34m\u001b[0m\u001b[0m\n\u001b[1;32m    534\u001b[0m             \u001b[0mrenderer\u001b[0m \u001b[0;34m=\u001b[0m \u001b[0mself\u001b[0m\u001b[0;34m.\u001b[0m\u001b[0mget_renderer\u001b[0m\u001b[0;34m(\u001b[0m\u001b[0;34m)\u001b[0m\u001b[0;34m\u001b[0m\u001b[0;34m\u001b[0m\u001b[0m\n\u001b[0;32m--> 535\u001b[0;31m             \u001b[0;32mwith\u001b[0m \u001b[0mcbook\u001b[0m\u001b[0;34m.\u001b[0m\u001b[0mopen_file_cm\u001b[0m\u001b[0;34m(\u001b[0m\u001b[0mfilename_or_obj\u001b[0m\u001b[0;34m,\u001b[0m \u001b[0;34m\"wb\"\u001b[0m\u001b[0;34m)\u001b[0m \u001b[0;32mas\u001b[0m \u001b[0mfh\u001b[0m\u001b[0;34m:\u001b[0m\u001b[0;34m\u001b[0m\u001b[0;34m\u001b[0m\u001b[0m\n\u001b[0m\u001b[1;32m    536\u001b[0m                 _png.write_png(renderer._renderer, fh, self.figure.dpi,\n\u001b[1;32m    537\u001b[0m                                metadata={**default_metadata, **metadata})\n",
            "\u001b[0;32m/usr/lib/python3.6/contextlib.py\u001b[0m in \u001b[0;36m__enter__\u001b[0;34m(self)\u001b[0m\n\u001b[1;32m     79\u001b[0m     \u001b[0;32mdef\u001b[0m \u001b[0m__enter__\u001b[0m\u001b[0;34m(\u001b[0m\u001b[0mself\u001b[0m\u001b[0;34m)\u001b[0m\u001b[0;34m:\u001b[0m\u001b[0;34m\u001b[0m\u001b[0;34m\u001b[0m\u001b[0m\n\u001b[1;32m     80\u001b[0m         \u001b[0;32mtry\u001b[0m\u001b[0;34m:\u001b[0m\u001b[0;34m\u001b[0m\u001b[0;34m\u001b[0m\u001b[0m\n\u001b[0;32m---> 81\u001b[0;31m             \u001b[0;32mreturn\u001b[0m \u001b[0mnext\u001b[0m\u001b[0;34m(\u001b[0m\u001b[0mself\u001b[0m\u001b[0;34m.\u001b[0m\u001b[0mgen\u001b[0m\u001b[0;34m)\u001b[0m\u001b[0;34m\u001b[0m\u001b[0;34m\u001b[0m\u001b[0m\n\u001b[0m\u001b[1;32m     82\u001b[0m         \u001b[0;32mexcept\u001b[0m \u001b[0mStopIteration\u001b[0m\u001b[0;34m:\u001b[0m\u001b[0;34m\u001b[0m\u001b[0;34m\u001b[0m\u001b[0m\n\u001b[1;32m     83\u001b[0m             \u001b[0;32mraise\u001b[0m \u001b[0mRuntimeError\u001b[0m\u001b[0;34m(\u001b[0m\u001b[0;34m\"generator didn't yield\"\u001b[0m\u001b[0;34m)\u001b[0m \u001b[0;32mfrom\u001b[0m \u001b[0;32mNone\u001b[0m\u001b[0;34m\u001b[0m\u001b[0;34m\u001b[0m\u001b[0m\n",
            "\u001b[0;32m/usr/local/lib/python3.6/dist-packages/matplotlib/cbook/__init__.py\u001b[0m in \u001b[0;36mopen_file_cm\u001b[0;34m(path_or_file, mode, encoding)\u001b[0m\n\u001b[1;32m    416\u001b[0m \u001b[0;32mdef\u001b[0m \u001b[0mopen_file_cm\u001b[0m\u001b[0;34m(\u001b[0m\u001b[0mpath_or_file\u001b[0m\u001b[0;34m,\u001b[0m \u001b[0mmode\u001b[0m\u001b[0;34m=\u001b[0m\u001b[0;34m\"r\"\u001b[0m\u001b[0;34m,\u001b[0m \u001b[0mencoding\u001b[0m\u001b[0;34m=\u001b[0m\u001b[0;32mNone\u001b[0m\u001b[0;34m)\u001b[0m\u001b[0;34m:\u001b[0m\u001b[0;34m\u001b[0m\u001b[0;34m\u001b[0m\u001b[0m\n\u001b[1;32m    417\u001b[0m     \u001b[0;34mr\"\"\"Pass through file objects and context-manage `.PathLike`\\s.\"\"\"\u001b[0m\u001b[0;34m\u001b[0m\u001b[0;34m\u001b[0m\u001b[0m\n\u001b[0;32m--> 418\u001b[0;31m     \u001b[0mfh\u001b[0m\u001b[0;34m,\u001b[0m \u001b[0mopened\u001b[0m \u001b[0;34m=\u001b[0m \u001b[0mto_filehandle\u001b[0m\u001b[0;34m(\u001b[0m\u001b[0mpath_or_file\u001b[0m\u001b[0;34m,\u001b[0m \u001b[0mmode\u001b[0m\u001b[0;34m,\u001b[0m \u001b[0;32mTrue\u001b[0m\u001b[0;34m,\u001b[0m \u001b[0mencoding\u001b[0m\u001b[0;34m)\u001b[0m\u001b[0;34m\u001b[0m\u001b[0;34m\u001b[0m\u001b[0m\n\u001b[0m\u001b[1;32m    419\u001b[0m     \u001b[0;32mif\u001b[0m \u001b[0mopened\u001b[0m\u001b[0;34m:\u001b[0m\u001b[0;34m\u001b[0m\u001b[0;34m\u001b[0m\u001b[0m\n\u001b[1;32m    420\u001b[0m         \u001b[0;32mwith\u001b[0m \u001b[0mfh\u001b[0m\u001b[0;34m:\u001b[0m\u001b[0;34m\u001b[0m\u001b[0;34m\u001b[0m\u001b[0m\n",
            "\u001b[0;32m/usr/local/lib/python3.6/dist-packages/matplotlib/cbook/__init__.py\u001b[0m in \u001b[0;36mto_filehandle\u001b[0;34m(fname, flag, return_opened, encoding)\u001b[0m\n\u001b[1;32m    401\u001b[0m             \u001b[0mfh\u001b[0m \u001b[0;34m=\u001b[0m \u001b[0mbz2\u001b[0m\u001b[0;34m.\u001b[0m\u001b[0mBZ2File\u001b[0m\u001b[0;34m(\u001b[0m\u001b[0mfname\u001b[0m\u001b[0;34m,\u001b[0m \u001b[0mflag\u001b[0m\u001b[0;34m)\u001b[0m\u001b[0;34m\u001b[0m\u001b[0;34m\u001b[0m\u001b[0m\n\u001b[1;32m    402\u001b[0m         \u001b[0;32melse\u001b[0m\u001b[0;34m:\u001b[0m\u001b[0;34m\u001b[0m\u001b[0;34m\u001b[0m\u001b[0m\n\u001b[0;32m--> 403\u001b[0;31m             \u001b[0mfh\u001b[0m \u001b[0;34m=\u001b[0m \u001b[0mopen\u001b[0m\u001b[0;34m(\u001b[0m\u001b[0mfname\u001b[0m\u001b[0;34m,\u001b[0m \u001b[0mflag\u001b[0m\u001b[0;34m,\u001b[0m \u001b[0mencoding\u001b[0m\u001b[0;34m=\u001b[0m\u001b[0mencoding\u001b[0m\u001b[0;34m)\u001b[0m\u001b[0;34m\u001b[0m\u001b[0;34m\u001b[0m\u001b[0m\n\u001b[0m\u001b[1;32m    404\u001b[0m         \u001b[0mopened\u001b[0m \u001b[0;34m=\u001b[0m \u001b[0;32mTrue\u001b[0m\u001b[0;34m\u001b[0m\u001b[0;34m\u001b[0m\u001b[0m\n\u001b[1;32m    405\u001b[0m     \u001b[0;32melif\u001b[0m \u001b[0mhasattr\u001b[0m\u001b[0;34m(\u001b[0m\u001b[0mfname\u001b[0m\u001b[0;34m,\u001b[0m \u001b[0;34m'seek'\u001b[0m\u001b[0;34m)\u001b[0m\u001b[0;34m:\u001b[0m\u001b[0;34m\u001b[0m\u001b[0;34m\u001b[0m\u001b[0m\n",
            "\u001b[0;31mFileNotFoundError\u001b[0m: [Errno 2] No such file or directory: 'output_data/Fig3.png'"
          ]
        },
        {
          "output_type": "display_data",
          "data": {
            "image/png": "[encoded data removed]",
            "text/plain": [
              "<Figure size 432x288 with 1 Axes>"
            ]
          },
          "metadata": {
            "tags": [],
            "needs_background": "light"
          }
        }
      ]
    },
    {
      "cell_type": "markdown",
      "metadata": {
        "id": "uzL8COV9bhDj",
        "colab_type": "text"
      },
      "source": [
        "### Latitude vs. Wind Speed Plot"
      ]
    },
    {
      "cell_type": "code",
      "metadata": {
        "id": "Lsqf-yDlbkFA",
        "colab_type": "code",
        "colab": {
          "base_uri": "https://localhost:8080/",
          "height": 635
        },
        "outputId": "77434774-737d-425b-b232-cd84cb73eb3b"
      },
      "source": [
        "plt.scatter(weather_df[\"Lat\"],weather_df[\"Wind Speed\"],edgecolors=\"black\",facecolors=\"blue\")\n",
        "plt.title(\"City Latitude vs. Wind Speed (08/29/2020)\")\n",
        "plt.xlabel(\"Latitude\")\n",
        "plt.ylabel(\"Wind Speed (mph)\")\n",
        "plt.ylim(-2,35)\n",
        "plt.grid (b=True,which=\"major\",axis=\"both\",linestyle=\"-\",color=\"lightgrey\")\n",
        "plt.savefig(\"Figures/fig4.png\")\n",
        "plt.show()"
      ],
      "execution_count": 26,
      "outputs": [
        {
          "output_type": "error",
          "ename": "FileNotFoundError",
          "evalue": "ignored",
          "traceback": [
            "\u001b[0;31m---------------------------------------------------------------------------\u001b[0m",
            "\u001b[0;31mFileNotFoundError\u001b[0m                         Traceback (most recent call last)",
            "\u001b[0;32m<ipython-input-26-c81c22032005>\u001b[0m in \u001b[0;36m<module>\u001b[0;34m()\u001b[0m\n\u001b[1;32m      5\u001b[0m \u001b[0mplt\u001b[0m\u001b[0;34m.\u001b[0m\u001b[0mylim\u001b[0m\u001b[0;34m(\u001b[0m\u001b[0;34m-\u001b[0m\u001b[0;36m2\u001b[0m\u001b[0;34m,\u001b[0m\u001b[0;36m35\u001b[0m\u001b[0;34m)\u001b[0m\u001b[0;34m\u001b[0m\u001b[0;34m\u001b[0m\u001b[0m\n\u001b[1;32m      6\u001b[0m \u001b[0mplt\u001b[0m\u001b[0;34m.\u001b[0m\u001b[0mgrid\u001b[0m \u001b[0;34m(\u001b[0m\u001b[0mb\u001b[0m\u001b[0;34m=\u001b[0m\u001b[0;32mTrue\u001b[0m\u001b[0;34m,\u001b[0m\u001b[0mwhich\u001b[0m\u001b[0;34m=\u001b[0m\u001b[0;34m\"major\"\u001b[0m\u001b[0;34m,\u001b[0m\u001b[0maxis\u001b[0m\u001b[0;34m=\u001b[0m\u001b[0;34m\"both\"\u001b[0m\u001b[0;34m,\u001b[0m\u001b[0mlinestyle\u001b[0m\u001b[0;34m=\u001b[0m\u001b[0;34m\"-\"\u001b[0m\u001b[0;34m,\u001b[0m\u001b[0mcolor\u001b[0m\u001b[0;34m=\u001b[0m\u001b[0;34m\"lightgrey\"\u001b[0m\u001b[0;34m)\u001b[0m\u001b[0;34m\u001b[0m\u001b[0;34m\u001b[0m\u001b[0m\n\u001b[0;32m----> 7\u001b[0;31m \u001b[0mplt\u001b[0m\u001b[0;34m.\u001b[0m\u001b[0msavefig\u001b[0m\u001b[0;34m(\u001b[0m\u001b[0;34m\"Figures/fig4.png\"\u001b[0m\u001b[0;34m)\u001b[0m\u001b[0;34m\u001b[0m\u001b[0;34m\u001b[0m\u001b[0m\n\u001b[0m\u001b[1;32m      8\u001b[0m \u001b[0mplt\u001b[0m\u001b[0;34m.\u001b[0m\u001b[0mshow\u001b[0m\u001b[0;34m(\u001b[0m\u001b[0;34m)\u001b[0m\u001b[0;34m\u001b[0m\u001b[0;34m\u001b[0m\u001b[0m\n",
            "\u001b[0;32m/usr/local/lib/python3.6/dist-packages/matplotlib/pyplot.py\u001b[0m in \u001b[0;36msavefig\u001b[0;34m(*args, **kwargs)\u001b[0m\n\u001b[1;32m    721\u001b[0m \u001b[0;32mdef\u001b[0m \u001b[0msavefig\u001b[0m\u001b[0;34m(\u001b[0m\u001b[0;34m*\u001b[0m\u001b[0margs\u001b[0m\u001b[0;34m,\u001b[0m \u001b[0;34m**\u001b[0m\u001b[0mkwargs\u001b[0m\u001b[0;34m)\u001b[0m\u001b[0;34m:\u001b[0m\u001b[0;34m\u001b[0m\u001b[0;34m\u001b[0m\u001b[0m\n\u001b[1;32m    722\u001b[0m     \u001b[0mfig\u001b[0m \u001b[0;34m=\u001b[0m \u001b[0mgcf\u001b[0m\u001b[0;34m(\u001b[0m\u001b[0;34m)\u001b[0m\u001b[0;34m\u001b[0m\u001b[0;34m\u001b[0m\u001b[0m\n\u001b[0;32m--> 723\u001b[0;31m     \u001b[0mres\u001b[0m \u001b[0;34m=\u001b[0m \u001b[0mfig\u001b[0m\u001b[0;34m.\u001b[0m\u001b[0msavefig\u001b[0m\u001b[0;34m(\u001b[0m\u001b[0;34m*\u001b[0m\u001b[0margs\u001b[0m\u001b[0;34m,\u001b[0m \u001b[0;34m**\u001b[0m\u001b[0mkwargs\u001b[0m\u001b[0;34m)\u001b[0m\u001b[0;34m\u001b[0m\u001b[0;34m\u001b[0m\u001b[0m\n\u001b[0m\u001b[1;32m    724\u001b[0m     \u001b[0mfig\u001b[0m\u001b[0;34m.\u001b[0m\u001b[0mcanvas\u001b[0m\u001b[0;34m.\u001b[0m\u001b[0mdraw_idle\u001b[0m\u001b[0;34m(\u001b[0m\u001b[0;34m)\u001b[0m   \u001b[0;31m# need this if 'transparent=True' to reset colors\u001b[0m\u001b[0;34m\u001b[0m\u001b[0;34m\u001b[0m\u001b[0m\n\u001b[1;32m    725\u001b[0m     \u001b[0;32mreturn\u001b[0m \u001b[0mres\u001b[0m\u001b[0;34m\u001b[0m\u001b[0;34m\u001b[0m\u001b[0m\n",
            "\u001b[0;32m/usr/local/lib/python3.6/dist-packages/matplotlib/figure.py\u001b[0m in \u001b[0;36msavefig\u001b[0;34m(self, fname, transparent, **kwargs)\u001b[0m\n\u001b[1;32m   2201\u001b[0m             \u001b[0mself\u001b[0m\u001b[0;34m.\u001b[0m\u001b[0mpatch\u001b[0m\u001b[0;34m.\u001b[0m\u001b[0mset_visible\u001b[0m\u001b[0;34m(\u001b[0m\u001b[0mframeon\u001b[0m\u001b[0;34m)\u001b[0m\u001b[0;34m\u001b[0m\u001b[0;34m\u001b[0m\u001b[0m\n\u001b[1;32m   2202\u001b[0m \u001b[0;34m\u001b[0m\u001b[0m\n\u001b[0;32m-> 2203\u001b[0;31m         \u001b[0mself\u001b[0m\u001b[0;34m.\u001b[0m\u001b[0mcanvas\u001b[0m\u001b[0;34m.\u001b[0m\u001b[0mprint_figure\u001b[0m\u001b[0;34m(\u001b[0m\u001b[0mfname\u001b[0m\u001b[0;34m,\u001b[0m \u001b[0;34m**\u001b[0m\u001b[0mkwargs\u001b[0m\u001b[0;34m)\u001b[0m\u001b[0;34m\u001b[0m\u001b[0;34m\u001b[0m\u001b[0m\n\u001b[0m\u001b[1;32m   2204\u001b[0m \u001b[0;34m\u001b[0m\u001b[0m\n\u001b[1;32m   2205\u001b[0m         \u001b[0;32mif\u001b[0m \u001b[0mframeon\u001b[0m\u001b[0;34m:\u001b[0m\u001b[0;34m\u001b[0m\u001b[0;34m\u001b[0m\u001b[0m\n",
            "\u001b[0;32m/usr/local/lib/python3.6/dist-packages/matplotlib/backend_bases.py\u001b[0m in \u001b[0;36mprint_figure\u001b[0;34m(self, filename, dpi, facecolor, edgecolor, orientation, format, bbox_inches, **kwargs)\u001b[0m\n\u001b[1;32m   2124\u001b[0m                     \u001b[0morientation\u001b[0m\u001b[0;34m=\u001b[0m\u001b[0morientation\u001b[0m\u001b[0;34m,\u001b[0m\u001b[0;34m\u001b[0m\u001b[0;34m\u001b[0m\u001b[0m\n\u001b[1;32m   2125\u001b[0m                     \u001b[0mbbox_inches_restore\u001b[0m\u001b[0;34m=\u001b[0m\u001b[0m_bbox_inches_restore\u001b[0m\u001b[0;34m,\u001b[0m\u001b[0;34m\u001b[0m\u001b[0;34m\u001b[0m\u001b[0m\n\u001b[0;32m-> 2126\u001b[0;31m                     **kwargs)\n\u001b[0m\u001b[1;32m   2127\u001b[0m             \u001b[0;32mfinally\u001b[0m\u001b[0;34m:\u001b[0m\u001b[0;34m\u001b[0m\u001b[0;34m\u001b[0m\u001b[0m\n\u001b[1;32m   2128\u001b[0m                 \u001b[0;32mif\u001b[0m \u001b[0mbbox_inches\u001b[0m \u001b[0;32mand\u001b[0m \u001b[0mrestore_bbox\u001b[0m\u001b[0;34m:\u001b[0m\u001b[0;34m\u001b[0m\u001b[0;34m\u001b[0m\u001b[0m\n",
            "\u001b[0;32m/usr/local/lib/python3.6/dist-packages/matplotlib/backends/backend_agg.py\u001b[0m in \u001b[0;36mprint_png\u001b[0;34m(self, filename_or_obj, metadata, pil_kwargs, *args, **kwargs)\u001b[0m\n\u001b[1;32m    533\u001b[0m         \u001b[0;32melse\u001b[0m\u001b[0;34m:\u001b[0m\u001b[0;34m\u001b[0m\u001b[0;34m\u001b[0m\u001b[0m\n\u001b[1;32m    534\u001b[0m             \u001b[0mrenderer\u001b[0m \u001b[0;34m=\u001b[0m \u001b[0mself\u001b[0m\u001b[0;34m.\u001b[0m\u001b[0mget_renderer\u001b[0m\u001b[0;34m(\u001b[0m\u001b[0;34m)\u001b[0m\u001b[0;34m\u001b[0m\u001b[0;34m\u001b[0m\u001b[0m\n\u001b[0;32m--> 535\u001b[0;31m             \u001b[0;32mwith\u001b[0m \u001b[0mcbook\u001b[0m\u001b[0;34m.\u001b[0m\u001b[0mopen_file_cm\u001b[0m\u001b[0;34m(\u001b[0m\u001b[0mfilename_or_obj\u001b[0m\u001b[0;34m,\u001b[0m \u001b[0;34m\"wb\"\u001b[0m\u001b[0;34m)\u001b[0m \u001b[0;32mas\u001b[0m \u001b[0mfh\u001b[0m\u001b[0;34m:\u001b[0m\u001b[0;34m\u001b[0m\u001b[0;34m\u001b[0m\u001b[0m\n\u001b[0m\u001b[1;32m    536\u001b[0m                 _png.write_png(renderer._renderer, fh, self.figure.dpi,\n\u001b[1;32m    537\u001b[0m                                metadata={**default_metadata, **metadata})\n",
            "\u001b[0;32m/usr/lib/python3.6/contextlib.py\u001b[0m in \u001b[0;36m__enter__\u001b[0;34m(self)\u001b[0m\n\u001b[1;32m     79\u001b[0m     \u001b[0;32mdef\u001b[0m \u001b[0m__enter__\u001b[0m\u001b[0;34m(\u001b[0m\u001b[0mself\u001b[0m\u001b[0;34m)\u001b[0m\u001b[0;34m:\u001b[0m\u001b[0;34m\u001b[0m\u001b[0;34m\u001b[0m\u001b[0m\n\u001b[1;32m     80\u001b[0m         \u001b[0;32mtry\u001b[0m\u001b[0;34m:\u001b[0m\u001b[0;34m\u001b[0m\u001b[0;34m\u001b[0m\u001b[0m\n\u001b[0;32m---> 81\u001b[0;31m             \u001b[0;32mreturn\u001b[0m \u001b[0mnext\u001b[0m\u001b[0;34m(\u001b[0m\u001b[0mself\u001b[0m\u001b[0;34m.\u001b[0m\u001b[0mgen\u001b[0m\u001b[0;34m)\u001b[0m\u001b[0;34m\u001b[0m\u001b[0;34m\u001b[0m\u001b[0m\n\u001b[0m\u001b[1;32m     82\u001b[0m         \u001b[0;32mexcept\u001b[0m \u001b[0mStopIteration\u001b[0m\u001b[0;34m:\u001b[0m\u001b[0;34m\u001b[0m\u001b[0;34m\u001b[0m\u001b[0m\n\u001b[1;32m     83\u001b[0m             \u001b[0;32mraise\u001b[0m \u001b[0mRuntimeError\u001b[0m\u001b[0;34m(\u001b[0m\u001b[0;34m\"generator didn't yield\"\u001b[0m\u001b[0;34m)\u001b[0m \u001b[0;32mfrom\u001b[0m \u001b[0;32mNone\u001b[0m\u001b[0;34m\u001b[0m\u001b[0;34m\u001b[0m\u001b[0m\n",
            "\u001b[0;32m/usr/local/lib/python3.6/dist-packages/matplotlib/cbook/__init__.py\u001b[0m in \u001b[0;36mopen_file_cm\u001b[0;34m(path_or_file, mode, encoding)\u001b[0m\n\u001b[1;32m    416\u001b[0m \u001b[0;32mdef\u001b[0m \u001b[0mopen_file_cm\u001b[0m\u001b[0;34m(\u001b[0m\u001b[0mpath_or_file\u001b[0m\u001b[0;34m,\u001b[0m \u001b[0mmode\u001b[0m\u001b[0;34m=\u001b[0m\u001b[0;34m\"r\"\u001b[0m\u001b[0;34m,\u001b[0m \u001b[0mencoding\u001b[0m\u001b[0;34m=\u001b[0m\u001b[0;32mNone\u001b[0m\u001b[0;34m)\u001b[0m\u001b[0;34m:\u001b[0m\u001b[0;34m\u001b[0m\u001b[0;34m\u001b[0m\u001b[0m\n\u001b[1;32m    417\u001b[0m     \u001b[0;34mr\"\"\"Pass through file objects and context-manage `.PathLike`\\s.\"\"\"\u001b[0m\u001b[0;34m\u001b[0m\u001b[0;34m\u001b[0m\u001b[0m\n\u001b[0;32m--> 418\u001b[0;31m     \u001b[0mfh\u001b[0m\u001b[0;34m,\u001b[0m \u001b[0mopened\u001b[0m \u001b[0;34m=\u001b[0m \u001b[0mto_filehandle\u001b[0m\u001b[0;34m(\u001b[0m\u001b[0mpath_or_file\u001b[0m\u001b[0;34m,\u001b[0m \u001b[0mmode\u001b[0m\u001b[0;34m,\u001b[0m \u001b[0;32mTrue\u001b[0m\u001b[0;34m,\u001b[0m \u001b[0mencoding\u001b[0m\u001b[0;34m)\u001b[0m\u001b[0;34m\u001b[0m\u001b[0;34m\u001b[0m\u001b[0m\n\u001b[0m\u001b[1;32m    419\u001b[0m     \u001b[0;32mif\u001b[0m \u001b[0mopened\u001b[0m\u001b[0;34m:\u001b[0m\u001b[0;34m\u001b[0m\u001b[0;34m\u001b[0m\u001b[0m\n\u001b[1;32m    420\u001b[0m         \u001b[0;32mwith\u001b[0m \u001b[0mfh\u001b[0m\u001b[0;34m:\u001b[0m\u001b[0;34m\u001b[0m\u001b[0;34m\u001b[0m\u001b[0m\n",
            "\u001b[0;32m/usr/local/lib/python3.6/dist-packages/matplotlib/cbook/__init__.py\u001b[0m in \u001b[0;36mto_filehandle\u001b[0;34m(fname, flag, return_opened, encoding)\u001b[0m\n\u001b[1;32m    401\u001b[0m             \u001b[0mfh\u001b[0m \u001b[0;34m=\u001b[0m \u001b[0mbz2\u001b[0m\u001b[0;34m.\u001b[0m\u001b[0mBZ2File\u001b[0m\u001b[0;34m(\u001b[0m\u001b[0mfname\u001b[0m\u001b[0;34m,\u001b[0m \u001b[0mflag\u001b[0m\u001b[0;34m)\u001b[0m\u001b[0;34m\u001b[0m\u001b[0;34m\u001b[0m\u001b[0m\n\u001b[1;32m    402\u001b[0m         \u001b[0;32melse\u001b[0m\u001b[0;34m:\u001b[0m\u001b[0;34m\u001b[0m\u001b[0;34m\u001b[0m\u001b[0m\n\u001b[0;32m--> 403\u001b[0;31m             \u001b[0mfh\u001b[0m \u001b[0;34m=\u001b[0m \u001b[0mopen\u001b[0m\u001b[0;34m(\u001b[0m\u001b[0mfname\u001b[0m\u001b[0;34m,\u001b[0m \u001b[0mflag\u001b[0m\u001b[0;34m,\u001b[0m \u001b[0mencoding\u001b[0m\u001b[0;34m=\u001b[0m\u001b[0mencoding\u001b[0m\u001b[0;34m)\u001b[0m\u001b[0;34m\u001b[0m\u001b[0;34m\u001b[0m\u001b[0m\n\u001b[0m\u001b[1;32m    404\u001b[0m         \u001b[0mopened\u001b[0m \u001b[0;34m=\u001b[0m \u001b[0;32mTrue\u001b[0m\u001b[0;34m\u001b[0m\u001b[0;34m\u001b[0m\u001b[0m\n\u001b[1;32m    405\u001b[0m     \u001b[0;32melif\u001b[0m \u001b[0mhasattr\u001b[0m\u001b[0;34m(\u001b[0m\u001b[0mfname\u001b[0m\u001b[0;34m,\u001b[0m \u001b[0;34m'seek'\u001b[0m\u001b[0;34m)\u001b[0m\u001b[0;34m:\u001b[0m\u001b[0;34m\u001b[0m\u001b[0;34m\u001b[0m\u001b[0m\n",
            "\u001b[0;31mFileNotFoundError\u001b[0m: [Errno 2] No such file or directory: 'Figures/fig4.png'"
          ]
        },
        {
          "output_type": "display_data",
          "data": {
            "image/png": "[encoded data removed]",
            "text/plain": [
              "<Figure size 432x288 with 1 Axes>"
            ]
          },
          "metadata": {
            "tags": [],
            "needs_background": "light"
          }
        }
      ]
    },
    {
      "cell_type": "markdown",
      "metadata": {
        "id": "orpHtMIOcGbX",
        "colab_type": "text"
      },
      "source": [
        "## **Linear Regression**"
      ]
    },
    {
      "cell_type": "code",
      "metadata": {
        "id": "lr-ylhezhJDD",
        "colab_type": "code",
        "colab": {}
      },
      "source": [
        "# Create Northern and Southern Hemisphere DataFrames\n",
        "\n",
        "northern_df = weather_df.loc[weather_df[\"Lat\"] > 0, :]\n",
        "southern_df = weather_df.loc[weather_df[\"Lat\"] < 0, :]"
      ],
      "execution_count": 42,
      "outputs": []
    },
    {
      "cell_type": "markdown",
      "metadata": {
        "id": "QYPNgcDBc-UB",
        "colab_type": "text"
      },
      "source": [
        "### Northern Hemisphere - Max Temp vs. Latitude Linear Regression"
      ]
    },
    {
      "cell_type": "code",
      "metadata": {
        "id": "SR0pwSiUiJ6m",
        "colab_type": "code",
        "colab": {
          "base_uri": "https://localhost:8080/",
          "height": 326
        },
        "outputId": "2de8442f-9f8d-4d44-e263-c1fbfca3d11a"
      },
      "source": [
        "x_values = northern_df[\"Lat\"]\n",
        "y_values = northern_df[\"Max Temp\"]\n",
        "(slope, intercept, rvalue, pvalue, stderr) = linregress(x_values, y_values)\n",
        "regress_values = x_values * slope + intercept\n",
        "line_eq = \"y = \" + str(round(slope,2)) + \"x + \" + str(round(intercept,2))\n",
        "plt.scatter(x_values,y_values)\n",
        "plt.plot(x_values,regress_values,\"r-\")\n",
        "plt.annotate(line_eq,(6,10),fontsize=15,color=\"red\")\n",
        "plt.xlabel('Latitude')\n",
        "plt.ylabel('Max Temp')\n",
        "print(f\"The r-squared is: {rvalue**2}\")\n",
        "plt.show()"
      ],
      "execution_count": 43,
      "outputs": [
        {
          "output_type": "stream",
          "text": [
            "The r-squared is: 0.5324288406423827\n"
          ],
          "name": "stdout"
        },
        {
          "output_type": "display_data",
          "data": {
            "image/png": "[encoded data removed]",
            "text/plain": [
              "<Figure size 432x288 with 1 Axes>"
            ]
          },
          "metadata": {
            "tags": [],
            "needs_background": "light"
          }
        }
      ]
    },
    {
      "cell_type": "markdown",
      "metadata": {
        "id": "VjwiYctAdADN",
        "colab_type": "text"
      },
      "source": [
        "### Southern Hemisphere - Max Temp vs. Latitude Linear Regression"
      ]
    },
    {
      "cell_type": "code",
      "metadata": {
        "id": "nV5Cttxyjayj",
        "colab_type": "code",
        "colab": {
          "base_uri": "https://localhost:8080/",
          "height": 336
        },
        "outputId": "3868cc24-1651-4528-e972-5aa280657ea0"
      },
      "source": [
        "x_values2 = southern_df[\"Lat\"]\n",
        "y_values2 = southern_df[\"Max Temp\"]\n",
        "(slope, intercept, rvalue, pvalue, stderr) = linregress(x_values2, y_values2)\n",
        "regress_values2 = x_values2 * slope + intercept\n",
        "line_eq2 = \"y = \" + str(round(slope,2)) + \"x + \" + str(round(intercept,2))\n",
        "plt.scatter(x_values2,y_values2)\n",
        "plt.plot(x_values2,regress_values2,\"r-\")\n",
        "plt.annotate(line_eq2,(6,10),fontsize=15,color=\"red\")\n",
        "plt.xlabel('Latitude')\n",
        "plt.ylabel('Max Temp')\n",
        "print(f\"The r-squared is: {rvalue**2}\")\n",
        "plt.show()"
      ],
      "execution_count": 52,
      "outputs": [
        {
          "output_type": "stream",
          "text": [
            "The r-squared is: 0.5247052223082558\n"
          ],
          "name": "stdout"
        },
        {
          "output_type": "display_data",
          "data": {
            "image/png": "[encoded data removed]",
            "text/plain": [
              "<Figure size 432x288 with 1 Axes>"
            ]
          },
          "metadata": {
            "tags": [],
            "needs_background": "light"
          }
        }
      ]
    },
    {
      "cell_type": "markdown",
      "metadata": {
        "id": "YPcoEm4udCk3",
        "colab_type": "text"
      },
      "source": [
        "### Northern Hemisphere - Humidity (%) vs. Latitude Linear Regression"
      ]
    },
    {
      "cell_type": "code",
      "metadata": {
        "id": "J6KqmrgxkdPp",
        "colab_type": "code",
        "colab": {
          "base_uri": "https://localhost:8080/",
          "height": 296
        },
        "outputId": "e2ed53f6-9f81-4818-a2ed-714e4e121f59"
      },
      "source": [
        "x_values3 = northern_df[\"Lat\"]\n",
        "y_values3 = northern_df[\"Humidity\"]\n",
        "(slope, intercept, rvalue, pvalue, stderr) = linregress(x_values3, y_values3)\n",
        "regress_values3 = x_values3 * slope + intercept\n",
        "line_eq3 = \"y = \" + str(round(slope,2)) + \"x + \" + str(round(intercept,2))\n",
        "plt.scatter(x_values3,y_values3)\n",
        "plt.plot(x_values3,regress_values3,\"r-\")\n",
        "plt.annotate(line_eq3,(6,10),fontsize=15,color=\"red\")\n",
        "plt.xlabel('Latitude')\n",
        "plt.ylabel('Humidity')\n",
        "print(f\"The r-squared is: {rvalue**2}\")\n",
        "plt.show()"
      ],
      "execution_count": 55,
      "outputs": [
        {
          "output_type": "stream",
          "text": [
            "The r-squared is: 2.7726860688383078e-05\n"
          ],
          "name": "stdout"
        },
        {
          "output_type": "display_data",
          "data": {
            "image/png": "[encoded data removed]",
            "text/plain": [
              "<Figure size 432x288 with 1 Axes>"
            ]
          },
          "metadata": {
            "tags": [],
            "needs_background": "light"
          }
        }
      ]
    },
    {
      "cell_type": "markdown",
      "metadata": {
        "id": "oJ6BMLZ-dGzN",
        "colab_type": "text"
      },
      "source": [
        "### Southern Hemisphere - Humidity (%) vs. Latitude Linear Regression\n"
      ]
    },
    {
      "cell_type": "code",
      "metadata": {
        "id": "kYpNSU-jkfaT",
        "colab_type": "code",
        "colab": {
          "base_uri": "https://localhost:8080/",
          "height": 296
        },
        "outputId": "d8c07763-0ae2-4bb2-d5d0-a5be616c2e9f"
      },
      "source": [
        "x_values4 = southern_df[\"Lat\"]\n",
        "y_values4 = southern_df[\"Humidity\"]\n",
        "(slope, intercept, rvalue, pvalue, stderr) = linregress(x_values4, y_values4)\n",
        "regress_values4 = x_values4 * slope + intercept\n",
        "line_eq4 = \"y = \" + str(round(slope,2)) + \"x + \" + str(round(intercept,2))\n",
        "plt.scatter(x_values4,y_values4)\n",
        "plt.plot(x_values4,regress_values4,\"r-\")\n",
        "plt.annotate(line_eq4,(6,10),fontsize=15,color=\"red\")\n",
        "plt.xlabel('Latitude')\n",
        "plt.ylabel('Humidity')\n",
        "print(f\"The r-squared is: {rvalue**2}\")\n",
        "plt.show()"
      ],
      "execution_count": 56,
      "outputs": [
        {
          "output_type": "stream",
          "text": [
            "The r-squared is: 0.018769512815177553\n"
          ],
          "name": "stdout"
        },
        {
          "output_type": "display_data",
          "data": {
            "image/png": "[encoded data removed]",
            "text/plain": [
              "<Figure size 432x288 with 1 Axes>"
            ]
          },
          "metadata": {
            "tags": [],
            "needs_background": "light"
          }
        }
      ]
    },
    {
      "cell_type": "markdown",
      "metadata": {
        "id": "CgueanuhfNVW",
        "colab_type": "text"
      },
      "source": [
        "### Northern Hemisphere - Cloudiness (%) vs. Latitude Linear Regression"
      ]
    },
    {
      "cell_type": "code",
      "metadata": {
        "id": "H_oidTRdleOt",
        "colab_type": "code",
        "colab": {
          "base_uri": "https://localhost:8080/",
          "height": 296
        },
        "outputId": "f14caeac-12c5-4f1c-e31e-6ae4e21d9ee9"
      },
      "source": [
        "x_values5 = northern_df[\"Lat\"]\n",
        "y_values5 = northern_df[\"Cloudiness\"]\n",
        "(slope, intercept, rvalue, pvalue, stderr) = linregress(x_values5, y_values5)\n",
        "regress_values5 = x_values5 * slope + intercept\n",
        "line_eq5 = \"y = \" + str(round(slope,2)) + \"x + \" + str(round(intercept,2))\n",
        "plt.scatter(x_values5,y_values5)\n",
        "plt.plot(x_values5,regress_values5,\"r-\")\n",
        "plt.annotate(line_eq5,(6,10),fontsize=15,color=\"red\")\n",
        "plt.xlabel('Latitude')\n",
        "plt.ylabel('Cloudiness')\n",
        "print(f\"The r-squared is: {rvalue**2}\")\n",
        "plt.show()"
      ],
      "execution_count": 57,
      "outputs": [
        {
          "output_type": "stream",
          "text": [
            "The r-squared is: 0.0002708737645012278\n"
          ],
          "name": "stdout"
        },
        {
          "output_type": "display_data",
          "data": {
            "image/png": "[encoded data removed]",
            "text/plain": [
              "<Figure size 432x288 with 1 Axes>"
            ]
          },
          "metadata": {
            "tags": [],
            "needs_background": "light"
          }
        }
      ]
    },
    {
      "cell_type": "markdown",
      "metadata": {
        "id": "uDroMDKTgKYf",
        "colab_type": "text"
      },
      "source": [
        "### Southern Hemisphere - Cloudiness (%) vs. Latitude Linear Regression"
      ]
    },
    {
      "cell_type": "code",
      "metadata": {
        "id": "Rgg7_Rgbkgvn",
        "colab_type": "code",
        "colab": {
          "base_uri": "https://localhost:8080/",
          "height": 296
        },
        "outputId": "529006b4-0160-437b-aba7-8aff700711e3"
      },
      "source": [
        "x_values6 = southern_df[\"Lat\"]\n",
        "y_values6 = southern_df[\"Cloudiness\"]\n",
        "(slope, intercept, rvalue, pvalue, stderr) = linregress(x_values6, y_values6)\n",
        "regress_values6 = x_values6 * slope + intercept\n",
        "line_eq6 = \"y = \" + str(round(slope,2)) + \"x + \" + str(round(intercept,2))\n",
        "plt.scatter(x_values6,y_values6)\n",
        "plt.plot(x_values6,regress_values6,\"r-\")\n",
        "plt.annotate(line_eq6,(6,10),fontsize=15,color=\"red\")\n",
        "plt.xlabel('Latitude')\n",
        "plt.ylabel('Cloudiness')\n",
        "print(f\"The r-squared is: {rvalue**2}\")\n",
        "plt.show()"
      ],
      "execution_count": 58,
      "outputs": [
        {
          "output_type": "stream",
          "text": [
            "The r-squared is: 0.0006742716865119821\n"
          ],
          "name": "stdout"
        },
        {
          "output_type": "display_data",
          "data": {
            "image/png": "[encoded data removed]",
            "text/plain": [
              "<Figure size 432x288 with 1 Axes>"
            ]
          },
          "metadata": {
            "tags": [],
            "needs_background": "light"
          }
        }
      ]
    },
    {
      "cell_type": "markdown",
      "metadata": {
        "id": "oQTKnqBPgNqb",
        "colab_type": "text"
      },
      "source": [
        "### Northern Hemisphere - Wind Speed (mph) vs. Latitude Linear Regression"
      ]
    },
    {
      "cell_type": "code",
      "metadata": {
        "id": "qjgPd-XvmSfb",
        "colab_type": "code",
        "colab": {
          "base_uri": "https://localhost:8080/",
          "height": 296
        },
        "outputId": "14bf48bb-f9e2-4aa4-c736-c5055fff3360"
      },
      "source": [
        "x_values7 = northern_df[\"Lat\"]\n",
        "y_values7 = northern_df[\"Wind Speed\"]\n",
        "(slope, intercept, rvalue, pvalue, stderr) = linregress(x_values7, y_values7)\n",
        "regress_values7 = x_values7 * slope + intercept\n",
        "line_eq7 = \"y = \" + str(round(slope,2)) + \"x + \" + str(round(intercept,2))\n",
        "plt.scatter(x_values7,y_values7)\n",
        "plt.plot(x_values7,regress_values7,\"r-\")\n",
        "plt.annotate(line_eq7,(6,10),fontsize=15,color=\"red\")\n",
        "plt.xlabel('Latitude')\n",
        "plt.ylabel('Wind Speed')\n",
        "print(f\"The r-squared is: {rvalue**2}\")\n",
        "plt.show()"
      ],
      "execution_count": 59,
      "outputs": [
        {
          "output_type": "stream",
          "text": [
            "The r-squared is: 0.00046927357340637043\n"
          ],
          "name": "stdout"
        },
        {
          "output_type": "display_data",
          "data": {
            "image/png": "[encoded data removed]",
            "text/plain": [
              "<Figure size 432x288 with 1 Axes>"
            ]
          },
          "metadata": {
            "tags": [],
            "needs_background": "light"
          }
        }
      ]
    },
    {
      "cell_type": "markdown",
      "metadata": {
        "id": "NjUeY41OgQ9g",
        "colab_type": "text"
      },
      "source": [
        "### Southern Hemisphere - Wind Speed (mph) vs. Latitude Linear Regression"
      ]
    },
    {
      "cell_type": "code",
      "metadata": {
        "id": "15SgDWIxclTp",
        "colab_type": "code",
        "colab": {
          "base_uri": "https://localhost:8080/",
          "height": 296
        },
        "outputId": "2db0a48b-848e-4305-b567-7566df0bd6ef"
      },
      "source": [
        "x_values8 = southern_df[\"Lat\"]\n",
        "y_values8 = southern_df[\"Wind Speed\"]\n",
        "(slope, intercept, rvalue, pvalue, stderr) = linregress(x_values8, y_values8)\n",
        "regress_values8 = x_values8 * slope + intercept\n",
        "line_eq8 = \"y = \" + str(round(slope,2)) + \"x + \" + str(round(intercept,2))\n",
        "plt.scatter(x_values8,y_values8)\n",
        "plt.plot(x_values8,regress_values8,\"r-\")\n",
        "plt.annotate(line_eq8,(6,10),fontsize=15,color=\"red\")\n",
        "plt.xlabel('Latitude')\n",
        "plt.ylabel('Wind Speed')\n",
        "print(f\"The r-squared is: {rvalue**2}\")\n",
        "plt.show()"
      ],
      "execution_count": 60,
      "outputs": [
        {
          "output_type": "stream",
          "text": [
            "The r-squared is: 0.025316193481050818\n"
          ],
          "name": "stdout"
        },
        {
          "output_type": "display_data",
          "data": {
            "image/png": "[encoded data removed]",
            "text/plain": [
              "<Figure size 432x288 with 1 Axes>"
            ]
          },
          "metadata": {
            "tags": [],
            "needs_background": "light"
          }
        }
      ]
    },
    {
      "cell_type": "code",
      "metadata": {
        "id": "tF6Bnhl8oSRs",
        "colab_type": "code",
        "colab": {}
      },
      "source": [
        ""
      ],
      "execution_count": null,
      "outputs": []
    }
  ]
}